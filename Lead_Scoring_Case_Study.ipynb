{
 "cells": [
  {
   "cell_type": "markdown",
   "id": "5e3d0624",
   "metadata": {},
   "source": [
    "# Lead Score - Case Study"
   ]
  },
  {
   "cell_type": "markdown",
   "id": "c19fad4d",
   "metadata": {},
   "source": [
    "## Problem Statement:\n",
    "X Education need help them to select the most promising leads, i.e. the leads that are most likely to convert into paying customers. The company requires us to build a model wherein you need to assign a lead score to each of the leads such that the customers with higher lead score have a higher conversion chance and the customers with lower lead score have a lower conversion chance. The CEO, in particular, has given a ballpark of the target lead conversion rate to be around 80%.\n",
    "\n",
    "## Business Goal:\n",
    "There are quite a few goals for this case study.\n",
    "\n",
    "1) Build a logistic regression model to assign a lead score between 0 and 100 to each of the leads which can be used by the company to target potential leads. A higher score would mean that the lead is hot, i.e. is most likely to convert whereas a lower score would mean that the lead is cold and will mostly not get converted. <br>\n",
    "2) There are some more problems presented by the company which your model should be able to adjust to if the company's requirement changes in the future so you will need to handle these as well. These problems are provided in a separate doc file. Please fill it based on the logistic regression model you got in the first step. Also, make sure you include this in your final PPT where you'll make recommendations."
   ]
  },
  {
   "cell_type": "markdown",
   "id": "d46999b5",
   "metadata": {},
   "source": [
    "## Step 1: Reading and Understanding the Data"
   ]
  },
  {
   "cell_type": "code",
   "execution_count": 1,
   "id": "87d19c5d",
   "metadata": {},
   "outputs": [],
   "source": [
    "# Supress unnecessary warnings\n",
    "import warnings\n",
    "warnings.filterwarnings('ignore')\n",
    "\n",
    "import numpy as np\n",
    "import pandas as pd\n",
    "\n",
    "import matplotlib.pyplot as plt\n",
    "import seaborn as sns"
   ]
  },
  {
   "cell_type": "markdown",
   "id": "63a8117e",
   "metadata": {},
   "source": [
    "### 1.1 Data Loading"
   ]
  },
  {
   "cell_type": "code",
   "execution_count": 2,
   "id": "e7c2feaf",
   "metadata": {},
   "outputs": [
    {
     "data": {
      "text/html": [
       "<div>\n",
       "<style scoped>\n",
       "    .dataframe tbody tr th:only-of-type {\n",
       "        vertical-align: middle;\n",
       "    }\n",
       "\n",
       "    .dataframe tbody tr th {\n",
       "        vertical-align: top;\n",
       "    }\n",
       "\n",
       "    .dataframe thead th {\n",
       "        text-align: right;\n",
       "    }\n",
       "</style>\n",
       "<table border=\"1\" class=\"dataframe\">\n",
       "  <thead>\n",
       "    <tr style=\"text-align: right;\">\n",
       "      <th></th>\n",
       "      <th>Prospect ID</th>\n",
       "      <th>Lead Number</th>\n",
       "      <th>Lead Origin</th>\n",
       "      <th>Lead Source</th>\n",
       "      <th>Do Not Email</th>\n",
       "      <th>Do Not Call</th>\n",
       "      <th>Converted</th>\n",
       "      <th>TotalVisits</th>\n",
       "      <th>Total Time Spent on Website</th>\n",
       "      <th>Page Views Per Visit</th>\n",
       "      <th>...</th>\n",
       "      <th>Get updates on DM Content</th>\n",
       "      <th>Lead Profile</th>\n",
       "      <th>City</th>\n",
       "      <th>Asymmetrique Activity Index</th>\n",
       "      <th>Asymmetrique Profile Index</th>\n",
       "      <th>Asymmetrique Activity Score</th>\n",
       "      <th>Asymmetrique Profile Score</th>\n",
       "      <th>I agree to pay the amount through cheque</th>\n",
       "      <th>A free copy of Mastering The Interview</th>\n",
       "      <th>Last Notable Activity</th>\n",
       "    </tr>\n",
       "  </thead>\n",
       "  <tbody>\n",
       "    <tr>\n",
       "      <th>0</th>\n",
       "      <td>7927b2df-8bba-4d29-b9a2-b6e0beafe620</td>\n",
       "      <td>660737</td>\n",
       "      <td>API</td>\n",
       "      <td>Olark Chat</td>\n",
       "      <td>No</td>\n",
       "      <td>No</td>\n",
       "      <td>0</td>\n",
       "      <td>0.0</td>\n",
       "      <td>0</td>\n",
       "      <td>0.0</td>\n",
       "      <td>...</td>\n",
       "      <td>No</td>\n",
       "      <td>Select</td>\n",
       "      <td>Select</td>\n",
       "      <td>02.Medium</td>\n",
       "      <td>02.Medium</td>\n",
       "      <td>15.0</td>\n",
       "      <td>15.0</td>\n",
       "      <td>No</td>\n",
       "      <td>No</td>\n",
       "      <td>Modified</td>\n",
       "    </tr>\n",
       "    <tr>\n",
       "      <th>1</th>\n",
       "      <td>2a272436-5132-4136-86fa-dcc88c88f482</td>\n",
       "      <td>660728</td>\n",
       "      <td>API</td>\n",
       "      <td>Organic Search</td>\n",
       "      <td>No</td>\n",
       "      <td>No</td>\n",
       "      <td>0</td>\n",
       "      <td>5.0</td>\n",
       "      <td>674</td>\n",
       "      <td>2.5</td>\n",
       "      <td>...</td>\n",
       "      <td>No</td>\n",
       "      <td>Select</td>\n",
       "      <td>Select</td>\n",
       "      <td>02.Medium</td>\n",
       "      <td>02.Medium</td>\n",
       "      <td>15.0</td>\n",
       "      <td>15.0</td>\n",
       "      <td>No</td>\n",
       "      <td>No</td>\n",
       "      <td>Email Opened</td>\n",
       "    </tr>\n",
       "    <tr>\n",
       "      <th>2</th>\n",
       "      <td>8cc8c611-a219-4f35-ad23-fdfd2656bd8a</td>\n",
       "      <td>660727</td>\n",
       "      <td>Landing Page Submission</td>\n",
       "      <td>Direct Traffic</td>\n",
       "      <td>No</td>\n",
       "      <td>No</td>\n",
       "      <td>1</td>\n",
       "      <td>2.0</td>\n",
       "      <td>1532</td>\n",
       "      <td>2.0</td>\n",
       "      <td>...</td>\n",
       "      <td>No</td>\n",
       "      <td>Potential Lead</td>\n",
       "      <td>Mumbai</td>\n",
       "      <td>02.Medium</td>\n",
       "      <td>01.High</td>\n",
       "      <td>14.0</td>\n",
       "      <td>20.0</td>\n",
       "      <td>No</td>\n",
       "      <td>Yes</td>\n",
       "      <td>Email Opened</td>\n",
       "    </tr>\n",
       "    <tr>\n",
       "      <th>3</th>\n",
       "      <td>0cc2df48-7cf4-4e39-9de9-19797f9b38cc</td>\n",
       "      <td>660719</td>\n",
       "      <td>Landing Page Submission</td>\n",
       "      <td>Direct Traffic</td>\n",
       "      <td>No</td>\n",
       "      <td>No</td>\n",
       "      <td>0</td>\n",
       "      <td>1.0</td>\n",
       "      <td>305</td>\n",
       "      <td>1.0</td>\n",
       "      <td>...</td>\n",
       "      <td>No</td>\n",
       "      <td>Select</td>\n",
       "      <td>Mumbai</td>\n",
       "      <td>02.Medium</td>\n",
       "      <td>01.High</td>\n",
       "      <td>13.0</td>\n",
       "      <td>17.0</td>\n",
       "      <td>No</td>\n",
       "      <td>No</td>\n",
       "      <td>Modified</td>\n",
       "    </tr>\n",
       "    <tr>\n",
       "      <th>4</th>\n",
       "      <td>3256f628-e534-4826-9d63-4a8b88782852</td>\n",
       "      <td>660681</td>\n",
       "      <td>Landing Page Submission</td>\n",
       "      <td>Google</td>\n",
       "      <td>No</td>\n",
       "      <td>No</td>\n",
       "      <td>1</td>\n",
       "      <td>2.0</td>\n",
       "      <td>1428</td>\n",
       "      <td>1.0</td>\n",
       "      <td>...</td>\n",
       "      <td>No</td>\n",
       "      <td>Select</td>\n",
       "      <td>Mumbai</td>\n",
       "      <td>02.Medium</td>\n",
       "      <td>01.High</td>\n",
       "      <td>15.0</td>\n",
       "      <td>18.0</td>\n",
       "      <td>No</td>\n",
       "      <td>No</td>\n",
       "      <td>Modified</td>\n",
       "    </tr>\n",
       "  </tbody>\n",
       "</table>\n",
       "<p>5 rows × 37 columns</p>\n",
       "</div>"
      ],
      "text/plain": [
       "                            Prospect ID  Lead Number              Lead Origin  \\\n",
       "0  7927b2df-8bba-4d29-b9a2-b6e0beafe620       660737                      API   \n",
       "1  2a272436-5132-4136-86fa-dcc88c88f482       660728                      API   \n",
       "2  8cc8c611-a219-4f35-ad23-fdfd2656bd8a       660727  Landing Page Submission   \n",
       "3  0cc2df48-7cf4-4e39-9de9-19797f9b38cc       660719  Landing Page Submission   \n",
       "4  3256f628-e534-4826-9d63-4a8b88782852       660681  Landing Page Submission   \n",
       "\n",
       "      Lead Source Do Not Email Do Not Call  Converted  TotalVisits  \\\n",
       "0      Olark Chat           No          No          0          0.0   \n",
       "1  Organic Search           No          No          0          5.0   \n",
       "2  Direct Traffic           No          No          1          2.0   \n",
       "3  Direct Traffic           No          No          0          1.0   \n",
       "4          Google           No          No          1          2.0   \n",
       "\n",
       "   Total Time Spent on Website  Page Views Per Visit  ...  \\\n",
       "0                            0                   0.0  ...   \n",
       "1                          674                   2.5  ...   \n",
       "2                         1532                   2.0  ...   \n",
       "3                          305                   1.0  ...   \n",
       "4                         1428                   1.0  ...   \n",
       "\n",
       "  Get updates on DM Content    Lead Profile    City  \\\n",
       "0                        No          Select  Select   \n",
       "1                        No          Select  Select   \n",
       "2                        No  Potential Lead  Mumbai   \n",
       "3                        No          Select  Mumbai   \n",
       "4                        No          Select  Mumbai   \n",
       "\n",
       "  Asymmetrique Activity Index Asymmetrique Profile Index  \\\n",
       "0                   02.Medium                  02.Medium   \n",
       "1                   02.Medium                  02.Medium   \n",
       "2                   02.Medium                    01.High   \n",
       "3                   02.Medium                    01.High   \n",
       "4                   02.Medium                    01.High   \n",
       "\n",
       "  Asymmetrique Activity Score Asymmetrique Profile Score  \\\n",
       "0                        15.0                       15.0   \n",
       "1                        15.0                       15.0   \n",
       "2                        14.0                       20.0   \n",
       "3                        13.0                       17.0   \n",
       "4                        15.0                       18.0   \n",
       "\n",
       "  I agree to pay the amount through cheque  \\\n",
       "0                                       No   \n",
       "1                                       No   \n",
       "2                                       No   \n",
       "3                                       No   \n",
       "4                                       No   \n",
       "\n",
       "  A free copy of Mastering The Interview Last Notable Activity  \n",
       "0                                     No              Modified  \n",
       "1                                     No          Email Opened  \n",
       "2                                    Yes          Email Opened  \n",
       "3                                     No              Modified  \n",
       "4                                     No              Modified  \n",
       "\n",
       "[5 rows x 37 columns]"
      ]
     },
     "execution_count": 2,
     "metadata": {},
     "output_type": "execute_result"
    }
   ],
   "source": [
    "# Read the given CSV file, and view some sample records\n",
    "ls = pd.read_csv(\"Leads.csv\")\n",
    "ls.head()"
   ]
  },
  {
   "cell_type": "markdown",
   "id": "ebc7f09c",
   "metadata": {},
   "source": [
    "### 1.2 Data Inspection"
   ]
  },
  {
   "cell_type": "code",
   "execution_count": 3,
   "id": "1d489408",
   "metadata": {},
   "outputs": [
    {
     "data": {
      "text/plain": [
       "(9240, 37)"
      ]
     },
     "execution_count": 3,
     "metadata": {},
     "output_type": "execute_result"
    }
   ],
   "source": [
    "#checking the total rows and columns in dataframe\n",
    "ls.shape"
   ]
  },
  {
   "cell_type": "code",
   "execution_count": 4,
   "id": "5c15d6bc",
   "metadata": {},
   "outputs": [
    {
     "name": "stdout",
     "output_type": "stream",
     "text": [
      "<class 'pandas.core.frame.DataFrame'>\n",
      "RangeIndex: 9240 entries, 0 to 9239\n",
      "Data columns (total 37 columns):\n",
      " #   Column                                         Non-Null Count  Dtype  \n",
      "---  ------                                         --------------  -----  \n",
      " 0   Prospect ID                                    9240 non-null   object \n",
      " 1   Lead Number                                    9240 non-null   int64  \n",
      " 2   Lead Origin                                    9240 non-null   object \n",
      " 3   Lead Source                                    9204 non-null   object \n",
      " 4   Do Not Email                                   9240 non-null   object \n",
      " 5   Do Not Call                                    9240 non-null   object \n",
      " 6   Converted                                      9240 non-null   int64  \n",
      " 7   TotalVisits                                    9103 non-null   float64\n",
      " 8   Total Time Spent on Website                    9240 non-null   int64  \n",
      " 9   Page Views Per Visit                           9103 non-null   float64\n",
      " 10  Last Activity                                  9137 non-null   object \n",
      " 11  Country                                        6779 non-null   object \n",
      " 12  Specialization                                 7802 non-null   object \n",
      " 13  How did you hear about X Education             7033 non-null   object \n",
      " 14  What is your current occupation                6550 non-null   object \n",
      " 15  What matters most to you in choosing a course  6531 non-null   object \n",
      " 16  Search                                         9240 non-null   object \n",
      " 17  Magazine                                       9240 non-null   object \n",
      " 18  Newspaper Article                              9240 non-null   object \n",
      " 19  X Education Forums                             9240 non-null   object \n",
      " 20  Newspaper                                      9240 non-null   object \n",
      " 21  Digital Advertisement                          9240 non-null   object \n",
      " 22  Through Recommendations                        9240 non-null   object \n",
      " 23  Receive More Updates About Our Courses         9240 non-null   object \n",
      " 24  Tags                                           5887 non-null   object \n",
      " 25  Lead Quality                                   4473 non-null   object \n",
      " 26  Update me on Supply Chain Content              9240 non-null   object \n",
      " 27  Get updates on DM Content                      9240 non-null   object \n",
      " 28  Lead Profile                                   6531 non-null   object \n",
      " 29  City                                           7820 non-null   object \n",
      " 30  Asymmetrique Activity Index                    5022 non-null   object \n",
      " 31  Asymmetrique Profile Index                     5022 non-null   object \n",
      " 32  Asymmetrique Activity Score                    5022 non-null   float64\n",
      " 33  Asymmetrique Profile Score                     5022 non-null   float64\n",
      " 34  I agree to pay the amount through cheque       9240 non-null   object \n",
      " 35  A free copy of Mastering The Interview         9240 non-null   object \n",
      " 36  Last Notable Activity                          9240 non-null   object \n",
      "dtypes: float64(4), int64(3), object(30)\n",
      "memory usage: 2.6+ MB\n"
     ]
    }
   ],
   "source": [
    "#checking the dataframe for any NULL values or incorrect datatype\n",
    "ls.info()"
   ]
  },
  {
   "cell_type": "code",
   "execution_count": 5,
   "id": "50445dd2",
   "metadata": {},
   "outputs": [
    {
     "data": {
      "text/html": [
       "<div>\n",
       "<style scoped>\n",
       "    .dataframe tbody tr th:only-of-type {\n",
       "        vertical-align: middle;\n",
       "    }\n",
       "\n",
       "    .dataframe tbody tr th {\n",
       "        vertical-align: top;\n",
       "    }\n",
       "\n",
       "    .dataframe thead th {\n",
       "        text-align: right;\n",
       "    }\n",
       "</style>\n",
       "<table border=\"1\" class=\"dataframe\">\n",
       "  <thead>\n",
       "    <tr style=\"text-align: right;\">\n",
       "      <th></th>\n",
       "      <th>Lead Number</th>\n",
       "      <th>Converted</th>\n",
       "      <th>TotalVisits</th>\n",
       "      <th>Total Time Spent on Website</th>\n",
       "      <th>Page Views Per Visit</th>\n",
       "      <th>Asymmetrique Activity Score</th>\n",
       "      <th>Asymmetrique Profile Score</th>\n",
       "    </tr>\n",
       "  </thead>\n",
       "  <tbody>\n",
       "    <tr>\n",
       "      <th>count</th>\n",
       "      <td>9240.000000</td>\n",
       "      <td>9240.000000</td>\n",
       "      <td>9103.000000</td>\n",
       "      <td>9240.000000</td>\n",
       "      <td>9103.000000</td>\n",
       "      <td>5022.000000</td>\n",
       "      <td>5022.000000</td>\n",
       "    </tr>\n",
       "    <tr>\n",
       "      <th>mean</th>\n",
       "      <td>617188.435606</td>\n",
       "      <td>0.385390</td>\n",
       "      <td>3.445238</td>\n",
       "      <td>487.698268</td>\n",
       "      <td>2.362820</td>\n",
       "      <td>14.306252</td>\n",
       "      <td>16.344883</td>\n",
       "    </tr>\n",
       "    <tr>\n",
       "      <th>std</th>\n",
       "      <td>23405.995698</td>\n",
       "      <td>0.486714</td>\n",
       "      <td>4.854853</td>\n",
       "      <td>548.021466</td>\n",
       "      <td>2.161418</td>\n",
       "      <td>1.386694</td>\n",
       "      <td>1.811395</td>\n",
       "    </tr>\n",
       "    <tr>\n",
       "      <th>min</th>\n",
       "      <td>579533.000000</td>\n",
       "      <td>0.000000</td>\n",
       "      <td>0.000000</td>\n",
       "      <td>0.000000</td>\n",
       "      <td>0.000000</td>\n",
       "      <td>7.000000</td>\n",
       "      <td>11.000000</td>\n",
       "    </tr>\n",
       "    <tr>\n",
       "      <th>25%</th>\n",
       "      <td>596484.500000</td>\n",
       "      <td>0.000000</td>\n",
       "      <td>1.000000</td>\n",
       "      <td>12.000000</td>\n",
       "      <td>1.000000</td>\n",
       "      <td>14.000000</td>\n",
       "      <td>15.000000</td>\n",
       "    </tr>\n",
       "    <tr>\n",
       "      <th>50%</th>\n",
       "      <td>615479.000000</td>\n",
       "      <td>0.000000</td>\n",
       "      <td>3.000000</td>\n",
       "      <td>248.000000</td>\n",
       "      <td>2.000000</td>\n",
       "      <td>14.000000</td>\n",
       "      <td>16.000000</td>\n",
       "    </tr>\n",
       "    <tr>\n",
       "      <th>75%</th>\n",
       "      <td>637387.250000</td>\n",
       "      <td>1.000000</td>\n",
       "      <td>5.000000</td>\n",
       "      <td>936.000000</td>\n",
       "      <td>3.000000</td>\n",
       "      <td>15.000000</td>\n",
       "      <td>18.000000</td>\n",
       "    </tr>\n",
       "    <tr>\n",
       "      <th>max</th>\n",
       "      <td>660737.000000</td>\n",
       "      <td>1.000000</td>\n",
       "      <td>251.000000</td>\n",
       "      <td>2272.000000</td>\n",
       "      <td>55.000000</td>\n",
       "      <td>18.000000</td>\n",
       "      <td>20.000000</td>\n",
       "    </tr>\n",
       "  </tbody>\n",
       "</table>\n",
       "</div>"
      ],
      "text/plain": [
       "         Lead Number    Converted  TotalVisits  Total Time Spent on Website  \\\n",
       "count    9240.000000  9240.000000  9103.000000                  9240.000000   \n",
       "mean   617188.435606     0.385390     3.445238                   487.698268   \n",
       "std     23405.995698     0.486714     4.854853                   548.021466   \n",
       "min    579533.000000     0.000000     0.000000                     0.000000   \n",
       "25%    596484.500000     0.000000     1.000000                    12.000000   \n",
       "50%    615479.000000     0.000000     3.000000                   248.000000   \n",
       "75%    637387.250000     1.000000     5.000000                   936.000000   \n",
       "max    660737.000000     1.000000   251.000000                  2272.000000   \n",
       "\n",
       "       Page Views Per Visit  Asymmetrique Activity Score  \\\n",
       "count           9103.000000                  5022.000000   \n",
       "mean               2.362820                    14.306252   \n",
       "std                2.161418                     1.386694   \n",
       "min                0.000000                     7.000000   \n",
       "25%                1.000000                    14.000000   \n",
       "50%                2.000000                    14.000000   \n",
       "75%                3.000000                    15.000000   \n",
       "max               55.000000                    18.000000   \n",
       "\n",
       "       Asymmetrique Profile Score  \n",
       "count                 5022.000000  \n",
       "mean                    16.344883  \n",
       "std                      1.811395  \n",
       "min                     11.000000  \n",
       "25%                     15.000000  \n",
       "50%                     16.000000  \n",
       "75%                     18.000000  \n",
       "max                     20.000000  "
      ]
     },
     "execution_count": 5,
     "metadata": {},
     "output_type": "execute_result"
    }
   ],
   "source": [
    "# Checking the summary of numeric columns\n",
    "ls.describe()"
   ]
  },
  {
   "cell_type": "markdown",
   "id": "02f828c4",
   "metadata": {},
   "source": [
    "**`Inferences:`**\n",
    "- Dataset has 9240 rows and 37 columns.\n",
    "- There are many NULL values in dataset.\n",
    "- Datatype of all columns is correct."
   ]
  },
  {
   "cell_type": "markdown",
   "id": "56670f40",
   "metadata": {},
   "source": [
    "## Step 2: Data Cleaning and Preparation"
   ]
  },
  {
   "cell_type": "code",
   "execution_count": 6,
   "id": "af42f8fa",
   "metadata": {},
   "outputs": [],
   "source": [
    "# Many of the categorical variables have a level called 'Select' which needs to be handled because it is as good as a null value\n",
    "# Replacing 'Select' with NaN (Since it means no option is selected)\n",
    "ls = ls.replace('Select', np.nan)"
   ]
  },
  {
   "cell_type": "markdown",
   "id": "9e0fb02c",
   "metadata": {},
   "source": [
    "### 2.1 Missing Data in Columns"
   ]
  },
  {
   "cell_type": "code",
   "execution_count": 7,
   "id": "ed570c83",
   "metadata": {},
   "outputs": [
    {
     "data": {
      "text/plain": [
       "Prospect ID                                         0\n",
       "Lead Number                                         0\n",
       "Lead Origin                                         0\n",
       "Lead Source                                        36\n",
       "Do Not Email                                        0\n",
       "Do Not Call                                         0\n",
       "Converted                                           0\n",
       "TotalVisits                                       137\n",
       "Total Time Spent on Website                         0\n",
       "Page Views Per Visit                              137\n",
       "Last Activity                                     103\n",
       "Country                                          2461\n",
       "Specialization                                   3380\n",
       "How did you hear about X Education               7250\n",
       "What is your current occupation                  2690\n",
       "What matters most to you in choosing a course    2709\n",
       "Search                                              0\n",
       "Magazine                                            0\n",
       "Newspaper Article                                   0\n",
       "X Education Forums                                  0\n",
       "Newspaper                                           0\n",
       "Digital Advertisement                               0\n",
       "Through Recommendations                             0\n",
       "Receive More Updates About Our Courses              0\n",
       "Tags                                             3353\n",
       "Lead Quality                                     4767\n",
       "Update me on Supply Chain Content                   0\n",
       "Get updates on DM Content                           0\n",
       "Lead Profile                                     6855\n",
       "City                                             3669\n",
       "Asymmetrique Activity Index                      4218\n",
       "Asymmetrique Profile Index                       4218\n",
       "Asymmetrique Activity Score                      4218\n",
       "Asymmetrique Profile Score                       4218\n",
       "I agree to pay the amount through cheque            0\n",
       "A free copy of Mastering The Interview              0\n",
       "Last Notable Activity                               0\n",
       "dtype: int64"
      ]
     },
     "execution_count": 7,
     "metadata": {},
     "output_type": "execute_result"
    }
   ],
   "source": [
    "# Check the number of missing values in each column\n",
    "ls.isnull().sum()"
   ]
  },
  {
   "cell_type": "code",
   "execution_count": 8,
   "id": "0d8b8fac",
   "metadata": {},
   "outputs": [
    {
     "data": {
      "text/plain": [
       "Prospect ID                                       0.00\n",
       "Lead Number                                       0.00\n",
       "Lead Origin                                       0.00\n",
       "Lead Source                                       0.39\n",
       "Do Not Email                                      0.00\n",
       "Do Not Call                                       0.00\n",
       "Converted                                         0.00\n",
       "TotalVisits                                       1.48\n",
       "Total Time Spent on Website                       0.00\n",
       "Page Views Per Visit                              1.48\n",
       "Last Activity                                     1.11\n",
       "Country                                          26.63\n",
       "Specialization                                   36.58\n",
       "How did you hear about X Education               78.46\n",
       "What is your current occupation                  29.11\n",
       "What matters most to you in choosing a course    29.32\n",
       "Search                                            0.00\n",
       "Magazine                                          0.00\n",
       "Newspaper Article                                 0.00\n",
       "X Education Forums                                0.00\n",
       "Newspaper                                         0.00\n",
       "Digital Advertisement                             0.00\n",
       "Through Recommendations                           0.00\n",
       "Receive More Updates About Our Courses            0.00\n",
       "Tags                                             36.29\n",
       "Lead Quality                                     51.59\n",
       "Update me on Supply Chain Content                 0.00\n",
       "Get updates on DM Content                         0.00\n",
       "Lead Profile                                     74.19\n",
       "City                                             39.71\n",
       "Asymmetrique Activity Index                      45.65\n",
       "Asymmetrique Profile Index                       45.65\n",
       "Asymmetrique Activity Score                      45.65\n",
       "Asymmetrique Profile Score                       45.65\n",
       "I agree to pay the amount through cheque          0.00\n",
       "A free copy of Mastering The Interview            0.00\n",
       "Last Notable Activity                             0.00\n",
       "dtype: float64"
      ]
     },
     "execution_count": 8,
     "metadata": {},
     "output_type": "execute_result"
    }
   ],
   "source": [
    "# Checking the percentage of missing values\n",
    "round(100*(ls.isnull().sum()/len(ls.index)), 2)"
   ]
  },
  {
   "cell_type": "code",
   "execution_count": 9,
   "id": "c8399562",
   "metadata": {},
   "outputs": [],
   "source": [
    "# Drop the columns from \"ls\" which have more than 30% of missing values.\n",
    "for i in ls.columns:\n",
    "    if (ls[i].isnull().sum()/len(ls[i]))*100>30.0:\n",
    "        ls.drop([i],axis=1,inplace=True)\n",
    "        ls1=ls"
   ]
  },
  {
   "cell_type": "code",
   "execution_count": 10,
   "id": "74516e91",
   "metadata": {},
   "outputs": [
    {
     "name": "stdout",
     "output_type": "stream",
     "text": [
      "<class 'pandas.core.frame.DataFrame'>\n",
      "RangeIndex: 9240 entries, 0 to 9239\n",
      "Data columns (total 27 columns):\n",
      " #   Column                                         Non-Null Count  Dtype  \n",
      "---  ------                                         --------------  -----  \n",
      " 0   Prospect ID                                    9240 non-null   object \n",
      " 1   Lead Number                                    9240 non-null   int64  \n",
      " 2   Lead Origin                                    9240 non-null   object \n",
      " 3   Lead Source                                    9204 non-null   object \n",
      " 4   Do Not Email                                   9240 non-null   object \n",
      " 5   Do Not Call                                    9240 non-null   object \n",
      " 6   Converted                                      9240 non-null   int64  \n",
      " 7   TotalVisits                                    9103 non-null   float64\n",
      " 8   Total Time Spent on Website                    9240 non-null   int64  \n",
      " 9   Page Views Per Visit                           9103 non-null   float64\n",
      " 10  Last Activity                                  9137 non-null   object \n",
      " 11  Country                                        6779 non-null   object \n",
      " 12  What is your current occupation                6550 non-null   object \n",
      " 13  What matters most to you in choosing a course  6531 non-null   object \n",
      " 14  Search                                         9240 non-null   object \n",
      " 15  Magazine                                       9240 non-null   object \n",
      " 16  Newspaper Article                              9240 non-null   object \n",
      " 17  X Education Forums                             9240 non-null   object \n",
      " 18  Newspaper                                      9240 non-null   object \n",
      " 19  Digital Advertisement                          9240 non-null   object \n",
      " 20  Through Recommendations                        9240 non-null   object \n",
      " 21  Receive More Updates About Our Courses         9240 non-null   object \n",
      " 22  Update me on Supply Chain Content              9240 non-null   object \n",
      " 23  Get updates on DM Content                      9240 non-null   object \n",
      " 24  I agree to pay the amount through cheque       9240 non-null   object \n",
      " 25  A free copy of Mastering The Interview         9240 non-null   object \n",
      " 26  Last Notable Activity                          9240 non-null   object \n",
      "dtypes: float64(2), int64(3), object(22)\n",
      "memory usage: 1.9+ MB\n"
     ]
    }
   ],
   "source": [
    "# dataframe inspection for columns related information\n",
    "ls1.info()"
   ]
  },
  {
   "cell_type": "code",
   "execution_count": 11,
   "id": "23d2a9ec",
   "metadata": {},
   "outputs": [
    {
     "data": {
      "text/plain": [
       "(9240, 27)"
      ]
     },
     "execution_count": 11,
     "metadata": {},
     "output_type": "execute_result"
    }
   ],
   "source": [
    "#checking the total rows and columns in dataframe\n",
    "ls1.shape"
   ]
  },
  {
   "cell_type": "code",
   "execution_count": 12,
   "id": "f8c5055c",
   "metadata": {},
   "outputs": [
    {
     "data": {
      "text/plain": [
       "Prospect ID                                         0\n",
       "Lead Number                                         0\n",
       "Lead Origin                                         0\n",
       "Lead Source                                        36\n",
       "Do Not Email                                        0\n",
       "Do Not Call                                         0\n",
       "Converted                                           0\n",
       "TotalVisits                                       137\n",
       "Total Time Spent on Website                         0\n",
       "Page Views Per Visit                              137\n",
       "Last Activity                                     103\n",
       "Country                                          2461\n",
       "What is your current occupation                  2690\n",
       "What matters most to you in choosing a course    2709\n",
       "Search                                              0\n",
       "Magazine                                            0\n",
       "Newspaper Article                                   0\n",
       "X Education Forums                                  0\n",
       "Newspaper                                           0\n",
       "Digital Advertisement                               0\n",
       "Through Recommendations                             0\n",
       "Receive More Updates About Our Courses              0\n",
       "Update me on Supply Chain Content                   0\n",
       "Get updates on DM Content                           0\n",
       "I agree to pay the amount through cheque            0\n",
       "A free copy of Mastering The Interview              0\n",
       "Last Notable Activity                               0\n",
       "dtype: int64"
      ]
     },
     "execution_count": 12,
     "metadata": {},
     "output_type": "execute_result"
    }
   ],
   "source": [
    "# Check the number of missing values in each column\n",
    "ls1.isnull().sum()"
   ]
  },
  {
   "cell_type": "markdown",
   "id": "b0f9e3b5",
   "metadata": {},
   "source": [
    "### 2.2 Remove Unique Valued Columns"
   ]
  },
  {
   "cell_type": "code",
   "execution_count": 13,
   "id": "3960ad1d",
   "metadata": {},
   "outputs": [
    {
     "data": {
      "text/plain": [
       "Prospect ID                                      9240\n",
       "Lead Number                                      9240\n",
       "Lead Origin                                         5\n",
       "Lead Source                                        21\n",
       "Do Not Email                                        2\n",
       "Do Not Call                                         2\n",
       "Converted                                           2\n",
       "TotalVisits                                        41\n",
       "Total Time Spent on Website                      1731\n",
       "Page Views Per Visit                              114\n",
       "Last Activity                                      17\n",
       "Country                                            38\n",
       "What is your current occupation                     6\n",
       "What matters most to you in choosing a course       3\n",
       "Search                                              2\n",
       "Magazine                                            1\n",
       "Newspaper Article                                   2\n",
       "X Education Forums                                  2\n",
       "Newspaper                                           2\n",
       "Digital Advertisement                               2\n",
       "Through Recommendations                             2\n",
       "Receive More Updates About Our Courses              1\n",
       "Update me on Supply Chain Content                   1\n",
       "Get updates on DM Content                           1\n",
       "I agree to pay the amount through cheque            1\n",
       "A free copy of Mastering The Interview              2\n",
       "Last Notable Activity                              16\n",
       "dtype: int64"
      ]
     },
     "execution_count": 13,
     "metadata": {},
     "output_type": "execute_result"
    }
   ],
   "source": [
    "# Checking if there are columns with one unique value since it won't affect our analysis\n",
    "ls1.nunique()"
   ]
  },
  {
   "cell_type": "code",
   "execution_count": 14,
   "id": "a3095492",
   "metadata": {},
   "outputs": [],
   "source": [
    "# Dropping unique valued columns\n",
    "ls1= ls1.drop(['Magazine','Receive More Updates About Our Courses','I agree to pay the amount through cheque',\n",
    "              'Get updates on DM Content','Update me on Supply Chain Content'],axis=1)"
   ]
  },
  {
   "cell_type": "markdown",
   "id": "a0bed607",
   "metadata": {},
   "source": [
    "### 2.3 Remove Unwanted Columns"
   ]
  },
  {
   "cell_type": "code",
   "execution_count": 15,
   "id": "0bfd5272",
   "metadata": {},
   "outputs": [],
   "source": [
    "# Remove columns which are not required for our analysis\n",
    "unwanted=['Prospect ID', 'Lead Number', 'Country']\n",
    "ls1.drop(labels=unwanted,axis=1,inplace=True)"
   ]
  },
  {
   "cell_type": "code",
   "execution_count": 16,
   "id": "fbb79fd7",
   "metadata": {},
   "outputs": [
    {
     "data": {
      "text/plain": [
       "Lead Origin                                         0\n",
       "Lead Source                                        36\n",
       "Do Not Email                                        0\n",
       "Do Not Call                                         0\n",
       "Converted                                           0\n",
       "TotalVisits                                       137\n",
       "Total Time Spent on Website                         0\n",
       "Page Views Per Visit                              137\n",
       "Last Activity                                     103\n",
       "What is your current occupation                  2690\n",
       "What matters most to you in choosing a course    2709\n",
       "Search                                              0\n",
       "Newspaper Article                                   0\n",
       "X Education Forums                                  0\n",
       "Newspaper                                           0\n",
       "Digital Advertisement                               0\n",
       "Through Recommendations                             0\n",
       "A free copy of Mastering The Interview              0\n",
       "Last Notable Activity                               0\n",
       "dtype: int64"
      ]
     },
     "execution_count": 16,
     "metadata": {},
     "output_type": "execute_result"
    }
   ],
   "source": [
    "# Check the number of missing values in each column\n",
    "ls1.isnull().sum()"
   ]
  },
  {
   "cell_type": "code",
   "execution_count": 17,
   "id": "02c2ace2",
   "metadata": {},
   "outputs": [],
   "source": [
    "# Removing highly skewed columns\n",
    "skewed = ['Search', 'Do Not Email', 'Do Not Call', 'Newspaper Article', 'X Education Forums', \n",
    "          'Newspaper', 'Digital Advertisement', 'Through Recommendations']\n",
    "ls1.drop(labels=skewed,axis=1,inplace=True)"
   ]
  },
  {
   "cell_type": "markdown",
   "id": "824bbad8",
   "metadata": {},
   "source": [
    "### 2.4 Mapping Categorical Variables to Integers"
   ]
  },
  {
   "cell_type": "code",
   "execution_count": 18,
   "id": "ae26ad77",
   "metadata": {},
   "outputs": [],
   "source": [
    "# List of variables to map\n",
    "# Converting some binary variables (Yes/No) to 1/0\n",
    "varlist =  ['A free copy of Mastering The Interview']\n",
    "\n",
    "# Defining the map function\n",
    "def binary_map(x):\n",
    "    return x.map({'Yes': 1, \"No\": 0})\n",
    "\n",
    "# Applying the function to the housing list\n",
    "ls1[varlist] = ls1[varlist].apply(binary_map)"
   ]
  },
  {
   "cell_type": "code",
   "execution_count": 19,
   "id": "049060b7",
   "metadata": {
    "scrolled": true
   },
   "outputs": [
    {
     "data": {
      "text/plain": [
       "Lead Origin                                         0\n",
       "Lead Source                                        36\n",
       "Converted                                           0\n",
       "TotalVisits                                       137\n",
       "Total Time Spent on Website                         0\n",
       "Page Views Per Visit                              137\n",
       "Last Activity                                     103\n",
       "What is your current occupation                  2690\n",
       "What matters most to you in choosing a course    2709\n",
       "A free copy of Mastering The Interview              0\n",
       "Last Notable Activity                               0\n",
       "dtype: int64"
      ]
     },
     "execution_count": 19,
     "metadata": {},
     "output_type": "execute_result"
    }
   ],
   "source": [
    "# Check the number of missing values in each column\n",
    "ls1.isnull().sum()"
   ]
  },
  {
   "cell_type": "code",
   "execution_count": 20,
   "id": "f7fcc686",
   "metadata": {},
   "outputs": [],
   "source": [
    "# Imputing the Missing values in 'What is your current occupation' column with 'NA' since it is required for analysis\n",
    "ls1['What is your current occupation']=ls1['What is your current occupation'].replace(np.nan,'NA')"
   ]
  },
  {
   "cell_type": "code",
   "execution_count": 21,
   "id": "4596f614",
   "metadata": {},
   "outputs": [
    {
     "data": {
      "text/plain": [
       "Better Career Prospects      6528\n",
       "NaN                          2709\n",
       "Flexibility & Convenience       2\n",
       "Other                           1\n",
       "Name: What matters most to you in choosing a course, dtype: int64"
      ]
     },
     "execution_count": 21,
     "metadata": {},
     "output_type": "execute_result"
    }
   ],
   "source": [
    "# Checking values in column 'What matters most to you in choosing a course'\n",
    "ls1['What matters most to you in choosing a course'].value_counts(dropna = False)"
   ]
  },
  {
   "cell_type": "code",
   "execution_count": 22,
   "id": "750bd3a1",
   "metadata": {},
   "outputs": [],
   "source": [
    "# Dropping column 'What matters most to you in choosing a course' as 99% values are unique or NULL\n",
    "ls1= ls1.drop(['What matters most to you in choosing a course'],axis=1)"
   ]
  },
  {
   "cell_type": "code",
   "execution_count": 23,
   "id": "9959ba46",
   "metadata": {},
   "outputs": [
    {
     "data": {
      "text/plain": [
       "Lead Origin                                 0\n",
       "Lead Source                                36\n",
       "Converted                                   0\n",
       "TotalVisits                               137\n",
       "Total Time Spent on Website                 0\n",
       "Page Views Per Visit                      137\n",
       "Last Activity                             103\n",
       "What is your current occupation             0\n",
       "A free copy of Mastering The Interview      0\n",
       "Last Notable Activity                       0\n",
       "dtype: int64"
      ]
     },
     "execution_count": 23,
     "metadata": {},
     "output_type": "execute_result"
    }
   ],
   "source": [
    "# Check the number of missing values in each column\n",
    "ls1.isnull().sum()"
   ]
  },
  {
   "cell_type": "code",
   "execution_count": 24,
   "id": "41634918",
   "metadata": {},
   "outputs": [],
   "source": [
    "# Drop the null values rows\n",
    "ls2 = ls1[~pd.isnull(ls1['Lead Source']) & ~pd.isnull(ls1['TotalVisits']) \n",
    "          & ~pd.isnull(ls1['Page Views Per Visit']) & ~pd.isnull(ls1['Last Activity'])]"
   ]
  },
  {
   "cell_type": "code",
   "execution_count": 25,
   "id": "e7901e91",
   "metadata": {},
   "outputs": [
    {
     "data": {
      "text/plain": [
       "Lead Origin                               0\n",
       "Lead Source                               0\n",
       "Converted                                 0\n",
       "TotalVisits                               0\n",
       "Total Time Spent on Website               0\n",
       "Page Views Per Visit                      0\n",
       "Last Activity                             0\n",
       "What is your current occupation           0\n",
       "A free copy of Mastering The Interview    0\n",
       "Last Notable Activity                     0\n",
       "dtype: int64"
      ]
     },
     "execution_count": 25,
     "metadata": {},
     "output_type": "execute_result"
    }
   ],
   "source": [
    "# Check the number of missing values in each column\n",
    "ls2.isnull().sum()"
   ]
  },
  {
   "cell_type": "code",
   "execution_count": 26,
   "id": "04f23015",
   "metadata": {},
   "outputs": [
    {
     "name": "stdout",
     "output_type": "stream",
     "text": [
      "0.982034632034632\n"
     ]
    }
   ],
   "source": [
    "# checking percentage of data available post handling NULL values\n",
    "print(len(ls2)/9240)"
   ]
  },
  {
   "cell_type": "markdown",
   "id": "e41389a0",
   "metadata": {},
   "source": [
    "**`Inferences:`**\n",
    "- We still have 98% data after removing NULL values which seems to be good"
   ]
  },
  {
   "cell_type": "code",
   "execution_count": 27,
   "id": "e93e594c",
   "metadata": {},
   "outputs": [
    {
     "name": "stdout",
     "output_type": "stream",
     "text": [
      "<class 'pandas.core.frame.DataFrame'>\n",
      "Int64Index: 9074 entries, 0 to 9239\n",
      "Data columns (total 10 columns):\n",
      " #   Column                                  Non-Null Count  Dtype  \n",
      "---  ------                                  --------------  -----  \n",
      " 0   Lead Origin                             9074 non-null   object \n",
      " 1   Lead Source                             9074 non-null   object \n",
      " 2   Converted                               9074 non-null   int64  \n",
      " 3   TotalVisits                             9074 non-null   float64\n",
      " 4   Total Time Spent on Website             9074 non-null   int64  \n",
      " 5   Page Views Per Visit                    9074 non-null   float64\n",
      " 6   Last Activity                           9074 non-null   object \n",
      " 7   What is your current occupation         9074 non-null   object \n",
      " 8   A free copy of Mastering The Interview  9074 non-null   int64  \n",
      " 9   Last Notable Activity                   9074 non-null   object \n",
      "dtypes: float64(2), int64(3), object(5)\n",
      "memory usage: 779.8+ KB\n"
     ]
    }
   ],
   "source": [
    "ls2.info()"
   ]
  },
  {
   "cell_type": "markdown",
   "id": "bf38fc38",
   "metadata": {},
   "source": [
    "### 2.5 Handling Outliers"
   ]
  },
  {
   "cell_type": "code",
   "execution_count": 28,
   "id": "bfe08759",
   "metadata": {},
   "outputs": [
    {
     "data": {
      "text/html": [
       "<div>\n",
       "<style scoped>\n",
       "    .dataframe tbody tr th:only-of-type {\n",
       "        vertical-align: middle;\n",
       "    }\n",
       "\n",
       "    .dataframe tbody tr th {\n",
       "        vertical-align: top;\n",
       "    }\n",
       "\n",
       "    .dataframe thead th {\n",
       "        text-align: right;\n",
       "    }\n",
       "</style>\n",
       "<table border=\"1\" class=\"dataframe\">\n",
       "  <thead>\n",
       "    <tr style=\"text-align: right;\">\n",
       "      <th></th>\n",
       "      <th>TotalVisits</th>\n",
       "      <th>Total Time Spent on Website</th>\n",
       "      <th>Page Views Per Visit</th>\n",
       "    </tr>\n",
       "  </thead>\n",
       "  <tbody>\n",
       "    <tr>\n",
       "      <th>count</th>\n",
       "      <td>9074.000000</td>\n",
       "      <td>9074.000000</td>\n",
       "      <td>9074.000000</td>\n",
       "    </tr>\n",
       "    <tr>\n",
       "      <th>mean</th>\n",
       "      <td>3.456028</td>\n",
       "      <td>482.887481</td>\n",
       "      <td>2.370151</td>\n",
       "    </tr>\n",
       "    <tr>\n",
       "      <th>std</th>\n",
       "      <td>4.858802</td>\n",
       "      <td>545.256560</td>\n",
       "      <td>2.160871</td>\n",
       "    </tr>\n",
       "    <tr>\n",
       "      <th>min</th>\n",
       "      <td>0.000000</td>\n",
       "      <td>0.000000</td>\n",
       "      <td>0.000000</td>\n",
       "    </tr>\n",
       "    <tr>\n",
       "      <th>25%</th>\n",
       "      <td>1.000000</td>\n",
       "      <td>11.000000</td>\n",
       "      <td>1.000000</td>\n",
       "    </tr>\n",
       "    <tr>\n",
       "      <th>50%</th>\n",
       "      <td>3.000000</td>\n",
       "      <td>246.000000</td>\n",
       "      <td>2.000000</td>\n",
       "    </tr>\n",
       "    <tr>\n",
       "      <th>75%</th>\n",
       "      <td>5.000000</td>\n",
       "      <td>922.750000</td>\n",
       "      <td>3.200000</td>\n",
       "    </tr>\n",
       "    <tr>\n",
       "      <th>90%</th>\n",
       "      <td>7.000000</td>\n",
       "      <td>1373.000000</td>\n",
       "      <td>5.000000</td>\n",
       "    </tr>\n",
       "    <tr>\n",
       "      <th>95%</th>\n",
       "      <td>10.000000</td>\n",
       "      <td>1557.000000</td>\n",
       "      <td>6.000000</td>\n",
       "    </tr>\n",
       "    <tr>\n",
       "      <th>99%</th>\n",
       "      <td>17.000000</td>\n",
       "      <td>1839.000000</td>\n",
       "      <td>9.000000</td>\n",
       "    </tr>\n",
       "    <tr>\n",
       "      <th>max</th>\n",
       "      <td>251.000000</td>\n",
       "      <td>2272.000000</td>\n",
       "      <td>55.000000</td>\n",
       "    </tr>\n",
       "  </tbody>\n",
       "</table>\n",
       "</div>"
      ],
      "text/plain": [
       "       TotalVisits  Total Time Spent on Website  Page Views Per Visit\n",
       "count  9074.000000                  9074.000000           9074.000000\n",
       "mean      3.456028                   482.887481              2.370151\n",
       "std       4.858802                   545.256560              2.160871\n",
       "min       0.000000                     0.000000              0.000000\n",
       "25%       1.000000                    11.000000              1.000000\n",
       "50%       3.000000                   246.000000              2.000000\n",
       "75%       5.000000                   922.750000              3.200000\n",
       "90%       7.000000                  1373.000000              5.000000\n",
       "95%      10.000000                  1557.000000              6.000000\n",
       "99%      17.000000                  1839.000000              9.000000\n",
       "max     251.000000                  2272.000000             55.000000"
      ]
     },
     "execution_count": 28,
     "metadata": {},
     "output_type": "execute_result"
    }
   ],
   "source": [
    "# Checking for outliers in the continuous variables\n",
    "# Checking outliers at 25%, 50%, 75%, 90%, 95% and 99%\n",
    "ls2[['TotalVisits','Total Time Spent on Website','Page Views Per Visit']].describe(percentiles=[.25, .5, .75, .90, .95, .99])"
   ]
  },
  {
   "cell_type": "code",
   "execution_count": 29,
   "id": "b993668b",
   "metadata": {},
   "outputs": [
    {
     "data": {
      "image/png": "[encoded data removed]",
      "text/plain": [
       "<Figure size 864x432 with 1 Axes>"
      ]
     },
     "metadata": {
      "needs_background": "light"
     },
     "output_type": "display_data"
    },
    {
     "data": {
      "image/png": "[encoded data removed]",
      "text/plain": [
       "<Figure size 864x432 with 1 Axes>"
      ]
     },
     "metadata": {
      "needs_background": "light"
     },
     "output_type": "display_data"
    },
    {
     "data": {
      "image/png": "[encoded data removed]",
      "text/plain": [
       "<Figure size 864x432 with 1 Axes>"
      ]
     },
     "metadata": {
      "needs_background": "light"
     },
     "output_type": "display_data"
    }
   ],
   "source": [
    "# checking for Outliers in all numeric columns\n",
    "plt.figure(figsize=[12,6])\n",
    "sns.boxplot(ls2['TotalVisits'])\n",
    "\n",
    "plt.figure(figsize=[12,6])\n",
    "sns.boxplot(ls2['Total Time Spent on Website'])\n",
    "\n",
    "plt.figure(figsize=[12,6])\n",
    "sns.boxplot(ls2['Page Views Per Visit'])\n",
    "plt.show()"
   ]
  },
  {
   "cell_type": "markdown",
   "id": "d48cf4ed",
   "metadata": {},
   "source": [
    "**`Inferences:`**\n",
    "- As we can see from above boxplot, there are few outliers present in ['TotalVisits'] and ['Page Views Per Visit'] so lets cap these columns at 99 percentile"
   ]
  },
  {
   "cell_type": "code",
   "execution_count": 30,
   "id": "11edee5b",
   "metadata": {},
   "outputs": [],
   "source": [
    "# capping at 99 percentile\n",
    "ls2['TotalVisits'].loc[ls2['TotalVisits'] > ls2['TotalVisits'].quantile(0.99)] = ls2['TotalVisits'].quantile(0.99)\n",
    "ls2['Page Views Per Visit'].loc[ls2['Page Views Per Visit'] > \n",
    "                            ls2['Page Views Per Visit'].quantile(0.99)] = ls2['Page Views Per Visit'].quantile(0.99)"
   ]
  },
  {
   "cell_type": "code",
   "execution_count": 31,
   "id": "7a1d74ce",
   "metadata": {},
   "outputs": [
    {
     "data": {
      "text/html": [
       "<div>\n",
       "<style scoped>\n",
       "    .dataframe tbody tr th:only-of-type {\n",
       "        vertical-align: middle;\n",
       "    }\n",
       "\n",
       "    .dataframe tbody tr th {\n",
       "        vertical-align: top;\n",
       "    }\n",
       "\n",
       "    .dataframe thead th {\n",
       "        text-align: right;\n",
       "    }\n",
       "</style>\n",
       "<table border=\"1\" class=\"dataframe\">\n",
       "  <thead>\n",
       "    <tr style=\"text-align: right;\">\n",
       "      <th></th>\n",
       "      <th>TotalVisits</th>\n",
       "      <th>Total Time Spent on Website</th>\n",
       "      <th>Page Views Per Visit</th>\n",
       "    </tr>\n",
       "  </thead>\n",
       "  <tbody>\n",
       "    <tr>\n",
       "      <th>count</th>\n",
       "      <td>9074.000000</td>\n",
       "      <td>9074.000000</td>\n",
       "      <td>9074.000000</td>\n",
       "    </tr>\n",
       "    <tr>\n",
       "      <th>mean</th>\n",
       "      <td>3.343178</td>\n",
       "      <td>482.887481</td>\n",
       "      <td>2.341241</td>\n",
       "    </tr>\n",
       "    <tr>\n",
       "      <th>std</th>\n",
       "      <td>3.252302</td>\n",
       "      <td>545.256560</td>\n",
       "      <td>1.984635</td>\n",
       "    </tr>\n",
       "    <tr>\n",
       "      <th>min</th>\n",
       "      <td>0.000000</td>\n",
       "      <td>0.000000</td>\n",
       "      <td>0.000000</td>\n",
       "    </tr>\n",
       "    <tr>\n",
       "      <th>25%</th>\n",
       "      <td>1.000000</td>\n",
       "      <td>11.000000</td>\n",
       "      <td>1.000000</td>\n",
       "    </tr>\n",
       "    <tr>\n",
       "      <th>50%</th>\n",
       "      <td>3.000000</td>\n",
       "      <td>246.000000</td>\n",
       "      <td>2.000000</td>\n",
       "    </tr>\n",
       "    <tr>\n",
       "      <th>75%</th>\n",
       "      <td>5.000000</td>\n",
       "      <td>922.750000</td>\n",
       "      <td>3.200000</td>\n",
       "    </tr>\n",
       "    <tr>\n",
       "      <th>90%</th>\n",
       "      <td>7.000000</td>\n",
       "      <td>1373.000000</td>\n",
       "      <td>5.000000</td>\n",
       "    </tr>\n",
       "    <tr>\n",
       "      <th>95%</th>\n",
       "      <td>10.000000</td>\n",
       "      <td>1557.000000</td>\n",
       "      <td>6.000000</td>\n",
       "    </tr>\n",
       "    <tr>\n",
       "      <th>99%</th>\n",
       "      <td>17.000000</td>\n",
       "      <td>1839.000000</td>\n",
       "      <td>9.000000</td>\n",
       "    </tr>\n",
       "    <tr>\n",
       "      <th>max</th>\n",
       "      <td>17.000000</td>\n",
       "      <td>2272.000000</td>\n",
       "      <td>9.000000</td>\n",
       "    </tr>\n",
       "  </tbody>\n",
       "</table>\n",
       "</div>"
      ],
      "text/plain": [
       "       TotalVisits  Total Time Spent on Website  Page Views Per Visit\n",
       "count  9074.000000                  9074.000000           9074.000000\n",
       "mean      3.343178                   482.887481              2.341241\n",
       "std       3.252302                   545.256560              1.984635\n",
       "min       0.000000                     0.000000              0.000000\n",
       "25%       1.000000                    11.000000              1.000000\n",
       "50%       3.000000                   246.000000              2.000000\n",
       "75%       5.000000                   922.750000              3.200000\n",
       "90%       7.000000                  1373.000000              5.000000\n",
       "95%      10.000000                  1557.000000              6.000000\n",
       "99%      17.000000                  1839.000000              9.000000\n",
       "max      17.000000                  2272.000000              9.000000"
      ]
     },
     "execution_count": 31,
     "metadata": {},
     "output_type": "execute_result"
    }
   ],
   "source": [
    "# Rechecking for outliers in the continuous variables\n",
    "# Checking outliers at 25%, 50%, 75%, 90%, 95% and 99%\n",
    "ls2[['TotalVisits','Total Time Spent on Website','Page Views Per Visit']].describe(percentiles=[.25, .5, .75, .90, .95, .99])"
   ]
  },
  {
   "cell_type": "code",
   "execution_count": 32,
   "id": "3966800c",
   "metadata": {},
   "outputs": [
    {
     "data": {
      "image/png": "[encoded data removed]",
      "text/plain": [
       "<Figure size 864x432 with 1 Axes>"
      ]
     },
     "metadata": {
      "needs_background": "light"
     },
     "output_type": "display_data"
    },
    {
     "data": {
      "image/png": "[encoded data removed]",
      "text/plain": [
       "<Figure size 864x432 with 1 Axes>"
      ]
     },
     "metadata": {
      "needs_background": "light"
     },
     "output_type": "display_data"
    },
    {
     "data": {
      "image/png": "[encoded data removed]",
      "text/plain": [
       "<Figure size 864x432 with 1 Axes>"
      ]
     },
     "metadata": {
      "needs_background": "light"
     },
     "output_type": "display_data"
    }
   ],
   "source": [
    "# Rechecking for Outliers in numeric column\n",
    "plt.figure(figsize=[12,6])\n",
    "sns.boxplot(ls2['TotalVisits'])\n",
    "\n",
    "plt.figure(figsize=[12,6])\n",
    "sns.boxplot(ls2['Total Time Spent on Website'])\n",
    "\n",
    "plt.figure(figsize=[12,6])\n",
    "sns.boxplot(ls2['Page Views Per Visit'])\n",
    "plt.show()"
   ]
  },
  {
   "cell_type": "code",
   "execution_count": 33,
   "id": "bc7f5144",
   "metadata": {},
   "outputs": [
    {
     "data": {
      "image/png": "[encoded data removed]",
      "text/plain": [
       "<Figure size 720x432 with 2 Axes>"
      ]
     },
     "metadata": {
      "needs_background": "light"
     },
     "output_type": "display_data"
    }
   ],
   "source": [
    "# Checking Correlation between relevant numeric variables using Heatmap\n",
    "plt.figure(figsize=[10,6])\n",
    "sns.heatmap(ls2[['TotalVisits','Total Time Spent on Website','Page Views Per Visit']].corr(), cmap=\"YlGnBu\", annot = True)\n",
    "plt.show()"
   ]
  },
  {
   "cell_type": "markdown",
   "id": "c27bab93",
   "metadata": {},
   "source": [
    "**`Inferences:`**\n",
    "- As we can see there is no significant correlation between the numeric variables"
   ]
  },
  {
   "cell_type": "markdown",
   "id": "77025a1f",
   "metadata": {},
   "source": [
    "### 2.6 Checking Imbalance in Data"
   ]
  },
  {
   "cell_type": "code",
   "execution_count": 34,
   "id": "ec4b6e08",
   "metadata": {},
   "outputs": [
    {
     "data": {
      "image/png": "[encoded data removed]",
      "text/plain": [
       "<Figure size 1224x360 with 1 Axes>"
      ]
     },
     "metadata": {},
     "output_type": "display_data"
    }
   ],
   "source": [
    "# Checking Imbalance in 'Converted' variable using Pie chart\n",
    "plt.figure(figsize=(17,5))\n",
    "plt.pie(ls2['Converted'].value_counts(normalize=True)*100,labels=['Converted=No','Converted=Yes'],explode=(0,0.05),colors=('Darkgray','Orange'),autopct='%1.f%%',\n",
    "       textprops={'fontsize':12,'color':'black'})\n",
    "plt.title('Converted Variable - Imbalance',fontdict={'fontsize':17, 'fontweight':5, 'color':'Black'})\n",
    "plt.show()"
   ]
  },
  {
   "cell_type": "code",
   "execution_count": 35,
   "id": "a0810ff8",
   "metadata": {},
   "outputs": [
    {
     "data": {
      "text/plain": [
       "37.85541106458012"
      ]
     },
     "execution_count": 35,
     "metadata": {},
     "output_type": "execute_result"
    }
   ],
   "source": [
    "### Checking the Conversion Rate in dataset\n",
    "conv_rate = (sum(ls2['Converted'])/len(ls2['Converted'].index))*100\n",
    "conv_rate"
   ]
  },
  {
   "cell_type": "markdown",
   "id": "6f9664c4",
   "metadata": {},
   "source": [
    "**`Inferences:`**\n",
    "- As we can see there is no significant imbalance in TARGET variable, hence it is good for further analysis."
   ]
  },
  {
   "cell_type": "markdown",
   "id": "5fd8ac8f",
   "metadata": {},
   "source": [
    "## Step 3: Visualising the Data"
   ]
  },
  {
   "cell_type": "code",
   "execution_count": 36,
   "id": "88ed7de9",
   "metadata": {},
   "outputs": [
    {
     "data": {
      "image/png": "[encoded data removed]",
      "text/plain": [
       "<Figure size 599.75x540 with 12 Axes>"
      ]
     },
     "metadata": {
      "needs_background": "light"
     },
     "output_type": "display_data"
    }
   ],
   "source": [
    "# plotting pairplot to see if there is any relationship among numeric variables for Target variable \n",
    "sns.pairplot(ls2[['TotalVisits','Total Time Spent on Website','Page Views Per Visit','Converted']],diag_kind='kde',hue='Converted')\n",
    "plt.show()"
   ]
  },
  {
   "cell_type": "markdown",
   "id": "5f9c6458",
   "metadata": {},
   "source": [
    "**`Inferences:`**\n",
    "- As we can see that Total visits and Total Time Spent on Website is higher for the leads who got converted into paying customers."
   ]
  },
  {
   "cell_type": "code",
   "execution_count": 37,
   "id": "9226c76f",
   "metadata": {},
   "outputs": [
    {
     "data": {
      "image/png": "[encoded data removed]",
      "text/plain": [
       "<Figure size 1080x360 with 2 Axes>"
      ]
     },
     "metadata": {
      "needs_background": "light"
     },
     "output_type": "display_data"
    }
   ],
   "source": [
    "# Plotting counplot for 'Lead Origin' and 'Lead Source' for Target variable\n",
    "plt.figure(figsize = (15,5))\n",
    "\n",
    "plt.subplot(1,2,1)\n",
    "sns.countplot(x='Lead Origin', hue='Converted', data= ls2).tick_params(axis='x', rotation = 90)\n",
    "plt.title('Lead Origin')\n",
    "\n",
    "plt.subplot(1,2,2)\n",
    "sns.countplot(x='Lead Source', hue='Converted', data= ls2).tick_params(axis='x', rotation = 90)\n",
    "plt.title('Lead Source')\n",
    "plt.show()"
   ]
  },
  {
   "cell_type": "markdown",
   "id": "25f94e71",
   "metadata": {},
   "source": [
    "**`Inferences:`**\n",
    "- As we can see that Lead origin (Lead Add Form) has higher conversion rate compared to other origins.\n",
    "- Similarly Lead Source (Reference) has higher conversion rate compared to other sources."
   ]
  },
  {
   "cell_type": "code",
   "execution_count": 38,
   "id": "47fcda73",
   "metadata": {},
   "outputs": [
    {
     "data": {
      "image/png": "[encoded data removed]",
      "text/plain": [
       "<Figure size 1080x360 with 2 Axes>"
      ]
     },
     "metadata": {
      "needs_background": "light"
     },
     "output_type": "display_data"
    }
   ],
   "source": [
    "# Plotting counplot for 'Last Activity' and 'Last Notable Activity' for Target variable\n",
    "plt.figure(figsize = (15,5))\n",
    "\n",
    "plt.subplot(1,2,1)\n",
    "sns.countplot(x='Last Activity', hue='Converted', data= ls2).tick_params(axis='x', rotation = 90)\n",
    "plt.title('Last Activity')\n",
    "\n",
    "plt.subplot(1,2,2)\n",
    "sns.countplot(x='Last Notable Activity', hue='Converted', data= ls2).tick_params(axis='x', rotation = 90)\n",
    "plt.title('Last Notable Activity')\n",
    "plt.show()"
   ]
  },
  {
   "cell_type": "code",
   "execution_count": 39,
   "id": "a18038e5",
   "metadata": {},
   "outputs": [
    {
     "data": {
      "image/png": "[encoded data removed]",
      "text/plain": [
       "<Figure size 1080x360 with 1 Axes>"
      ]
     },
     "metadata": {
      "needs_background": "light"
     },
     "output_type": "display_data"
    }
   ],
   "source": [
    "# Plotting countplot for 'What is your current occupation'\n",
    "plt.figure(figsize = (15,5))\n",
    "\n",
    "sns.countplot(x='What is your current occupation', hue='Converted', data= ls2).tick_params(axis='x', rotation = 90)\n",
    "plt.title('What is your current occupation')\n",
    "plt.show()"
   ]
  },
  {
   "cell_type": "markdown",
   "id": "d40bc5c6",
   "metadata": {},
   "source": [
    "**`Inferences:`**\n",
    "- As we can see that Working Professionals have higher conversion rate compared to other professions."
   ]
  },
  {
   "cell_type": "code",
   "execution_count": 40,
   "id": "0e060c02",
   "metadata": {},
   "outputs": [
    {
     "data": {
      "image/png": "[encoded data removed]",
      "text/plain": [
       "<Figure size 1080x360 with 1 Axes>"
      ]
     },
     "metadata": {
      "needs_background": "light"
     },
     "output_type": "display_data"
    }
   ],
   "source": [
    "# Plotting countplot for 'A free copy of Mastering The Interview'\n",
    "plt.figure(figsize = (15,5))\n",
    "\n",
    "sns.countplot(x='A free copy of Mastering The Interview', hue='Converted', data= ls2).tick_params(axis='x', rotation = 90)\n",
    "plt.title('A free copy of Mastering The Interview')\n",
    "plt.show()"
   ]
  },
  {
   "cell_type": "markdown",
   "id": "59242dc3",
   "metadata": {},
   "source": [
    "### Dummy Variables"
   ]
  },
  {
   "cell_type": "code",
   "execution_count": 41,
   "id": "86afc881",
   "metadata": {},
   "outputs": [],
   "source": [
    "# Creating a dummy variable for some of the categorical variables and dropping the first one.\n",
    "dummy1 = pd.get_dummies(ls2[['Lead Origin', 'Lead Source', 'Last Activity', 'What is your current occupation', 'Last Notable Activity']], drop_first=True)\n",
    "\n",
    "# Adding the results to the master dataframe\n",
    "ls2 = pd.concat([ls2, dummy1], axis=1)"
   ]
  },
  {
   "cell_type": "code",
   "execution_count": 42,
   "id": "e850800d",
   "metadata": {},
   "outputs": [
    {
     "data": {
      "text/html": [
       "<div>\n",
       "<style scoped>\n",
       "    .dataframe tbody tr th:only-of-type {\n",
       "        vertical-align: middle;\n",
       "    }\n",
       "\n",
       "    .dataframe tbody tr th {\n",
       "        vertical-align: top;\n",
       "    }\n",
       "\n",
       "    .dataframe thead th {\n",
       "        text-align: right;\n",
       "    }\n",
       "</style>\n",
       "<table border=\"1\" class=\"dataframe\">\n",
       "  <thead>\n",
       "    <tr style=\"text-align: right;\">\n",
       "      <th></th>\n",
       "      <th>Lead Origin</th>\n",
       "      <th>Lead Source</th>\n",
       "      <th>Converted</th>\n",
       "      <th>TotalVisits</th>\n",
       "      <th>Total Time Spent on Website</th>\n",
       "      <th>Page Views Per Visit</th>\n",
       "      <th>Last Activity</th>\n",
       "      <th>What is your current occupation</th>\n",
       "      <th>A free copy of Mastering The Interview</th>\n",
       "      <th>Last Notable Activity</th>\n",
       "      <th>...</th>\n",
       "      <th>Last Notable Activity_Form Submitted on Website</th>\n",
       "      <th>Last Notable Activity_Had a Phone Conversation</th>\n",
       "      <th>Last Notable Activity_Modified</th>\n",
       "      <th>Last Notable Activity_Olark Chat Conversation</th>\n",
       "      <th>Last Notable Activity_Page Visited on Website</th>\n",
       "      <th>Last Notable Activity_Resubscribed to emails</th>\n",
       "      <th>Last Notable Activity_SMS Sent</th>\n",
       "      <th>Last Notable Activity_Unreachable</th>\n",
       "      <th>Last Notable Activity_Unsubscribed</th>\n",
       "      <th>Last Notable Activity_View in browser link Clicked</th>\n",
       "    </tr>\n",
       "  </thead>\n",
       "  <tbody>\n",
       "    <tr>\n",
       "      <th>0</th>\n",
       "      <td>API</td>\n",
       "      <td>Olark Chat</td>\n",
       "      <td>0</td>\n",
       "      <td>0.0</td>\n",
       "      <td>0</td>\n",
       "      <td>0.0</td>\n",
       "      <td>Page Visited on Website</td>\n",
       "      <td>Unemployed</td>\n",
       "      <td>0</td>\n",
       "      <td>Modified</td>\n",
       "      <td>...</td>\n",
       "      <td>0</td>\n",
       "      <td>0</td>\n",
       "      <td>1</td>\n",
       "      <td>0</td>\n",
       "      <td>0</td>\n",
       "      <td>0</td>\n",
       "      <td>0</td>\n",
       "      <td>0</td>\n",
       "      <td>0</td>\n",
       "      <td>0</td>\n",
       "    </tr>\n",
       "    <tr>\n",
       "      <th>1</th>\n",
       "      <td>API</td>\n",
       "      <td>Organic Search</td>\n",
       "      <td>0</td>\n",
       "      <td>5.0</td>\n",
       "      <td>674</td>\n",
       "      <td>2.5</td>\n",
       "      <td>Email Opened</td>\n",
       "      <td>Unemployed</td>\n",
       "      <td>0</td>\n",
       "      <td>Email Opened</td>\n",
       "      <td>...</td>\n",
       "      <td>0</td>\n",
       "      <td>0</td>\n",
       "      <td>0</td>\n",
       "      <td>0</td>\n",
       "      <td>0</td>\n",
       "      <td>0</td>\n",
       "      <td>0</td>\n",
       "      <td>0</td>\n",
       "      <td>0</td>\n",
       "      <td>0</td>\n",
       "    </tr>\n",
       "    <tr>\n",
       "      <th>2</th>\n",
       "      <td>Landing Page Submission</td>\n",
       "      <td>Direct Traffic</td>\n",
       "      <td>1</td>\n",
       "      <td>2.0</td>\n",
       "      <td>1532</td>\n",
       "      <td>2.0</td>\n",
       "      <td>Email Opened</td>\n",
       "      <td>Student</td>\n",
       "      <td>1</td>\n",
       "      <td>Email Opened</td>\n",
       "      <td>...</td>\n",
       "      <td>0</td>\n",
       "      <td>0</td>\n",
       "      <td>0</td>\n",
       "      <td>0</td>\n",
       "      <td>0</td>\n",
       "      <td>0</td>\n",
       "      <td>0</td>\n",
       "      <td>0</td>\n",
       "      <td>0</td>\n",
       "      <td>0</td>\n",
       "    </tr>\n",
       "    <tr>\n",
       "      <th>3</th>\n",
       "      <td>Landing Page Submission</td>\n",
       "      <td>Direct Traffic</td>\n",
       "      <td>0</td>\n",
       "      <td>1.0</td>\n",
       "      <td>305</td>\n",
       "      <td>1.0</td>\n",
       "      <td>Unreachable</td>\n",
       "      <td>Unemployed</td>\n",
       "      <td>0</td>\n",
       "      <td>Modified</td>\n",
       "      <td>...</td>\n",
       "      <td>0</td>\n",
       "      <td>0</td>\n",
       "      <td>1</td>\n",
       "      <td>0</td>\n",
       "      <td>0</td>\n",
       "      <td>0</td>\n",
       "      <td>0</td>\n",
       "      <td>0</td>\n",
       "      <td>0</td>\n",
       "      <td>0</td>\n",
       "    </tr>\n",
       "    <tr>\n",
       "      <th>4</th>\n",
       "      <td>Landing Page Submission</td>\n",
       "      <td>Google</td>\n",
       "      <td>1</td>\n",
       "      <td>2.0</td>\n",
       "      <td>1428</td>\n",
       "      <td>1.0</td>\n",
       "      <td>Converted to Lead</td>\n",
       "      <td>Unemployed</td>\n",
       "      <td>0</td>\n",
       "      <td>Modified</td>\n",
       "      <td>...</td>\n",
       "      <td>0</td>\n",
       "      <td>0</td>\n",
       "      <td>1</td>\n",
       "      <td>0</td>\n",
       "      <td>0</td>\n",
       "      <td>0</td>\n",
       "      <td>0</td>\n",
       "      <td>0</td>\n",
       "      <td>0</td>\n",
       "      <td>0</td>\n",
       "    </tr>\n",
       "  </tbody>\n",
       "</table>\n",
       "<p>5 rows × 70 columns</p>\n",
       "</div>"
      ],
      "text/plain": [
       "               Lead Origin     Lead Source  Converted  TotalVisits  \\\n",
       "0                      API      Olark Chat          0          0.0   \n",
       "1                      API  Organic Search          0          5.0   \n",
       "2  Landing Page Submission  Direct Traffic          1          2.0   \n",
       "3  Landing Page Submission  Direct Traffic          0          1.0   \n",
       "4  Landing Page Submission          Google          1          2.0   \n",
       "\n",
       "   Total Time Spent on Website  Page Views Per Visit            Last Activity  \\\n",
       "0                            0                   0.0  Page Visited on Website   \n",
       "1                          674                   2.5             Email Opened   \n",
       "2                         1532                   2.0             Email Opened   \n",
       "3                          305                   1.0              Unreachable   \n",
       "4                         1428                   1.0        Converted to Lead   \n",
       "\n",
       "  What is your current occupation  A free copy of Mastering The Interview  \\\n",
       "0                      Unemployed                                       0   \n",
       "1                      Unemployed                                       0   \n",
       "2                         Student                                       1   \n",
       "3                      Unemployed                                       0   \n",
       "4                      Unemployed                                       0   \n",
       "\n",
       "  Last Notable Activity  ...  Last Notable Activity_Form Submitted on Website  \\\n",
       "0              Modified  ...                                                0   \n",
       "1          Email Opened  ...                                                0   \n",
       "2          Email Opened  ...                                                0   \n",
       "3              Modified  ...                                                0   \n",
       "4              Modified  ...                                                0   \n",
       "\n",
       "   Last Notable Activity_Had a Phone Conversation  \\\n",
       "0                                               0   \n",
       "1                                               0   \n",
       "2                                               0   \n",
       "3                                               0   \n",
       "4                                               0   \n",
       "\n",
       "   Last Notable Activity_Modified  \\\n",
       "0                               1   \n",
       "1                               0   \n",
       "2                               0   \n",
       "3                               1   \n",
       "4                               1   \n",
       "\n",
       "   Last Notable Activity_Olark Chat Conversation  \\\n",
       "0                                              0   \n",
       "1                                              0   \n",
       "2                                              0   \n",
       "3                                              0   \n",
       "4                                              0   \n",
       "\n",
       "   Last Notable Activity_Page Visited on Website  \\\n",
       "0                                              0   \n",
       "1                                              0   \n",
       "2                                              0   \n",
       "3                                              0   \n",
       "4                                              0   \n",
       "\n",
       "   Last Notable Activity_Resubscribed to emails  \\\n",
       "0                                             0   \n",
       "1                                             0   \n",
       "2                                             0   \n",
       "3                                             0   \n",
       "4                                             0   \n",
       "\n",
       "   Last Notable Activity_SMS Sent  Last Notable Activity_Unreachable  \\\n",
       "0                               0                                  0   \n",
       "1                               0                                  0   \n",
       "2                               0                                  0   \n",
       "3                               0                                  0   \n",
       "4                               0                                  0   \n",
       "\n",
       "   Last Notable Activity_Unsubscribed  \\\n",
       "0                                   0   \n",
       "1                                   0   \n",
       "2                                   0   \n",
       "3                                   0   \n",
       "4                                   0   \n",
       "\n",
       "   Last Notable Activity_View in browser link Clicked  \n",
       "0                                                  0   \n",
       "1                                                  0   \n",
       "2                                                  0   \n",
       "3                                                  0   \n",
       "4                                                  0   \n",
       "\n",
       "[5 rows x 70 columns]"
      ]
     },
     "execution_count": 42,
     "metadata": {},
     "output_type": "execute_result"
    }
   ],
   "source": [
    "ls2.head()"
   ]
  },
  {
   "cell_type": "code",
   "execution_count": 43,
   "id": "7f1dd70a",
   "metadata": {},
   "outputs": [],
   "source": [
    "# We have created dummies for the below variables, so we can drop them\n",
    "ls2 = ls2.drop(['Lead Origin', 'Lead Source', 'Last Activity', 'What is your current occupation', 'Last Notable Activity'], 1)"
   ]
  },
  {
   "cell_type": "code",
   "execution_count": 44,
   "id": "7ecc2129",
   "metadata": {},
   "outputs": [
    {
     "name": "stdout",
     "output_type": "stream",
     "text": [
      "<class 'pandas.core.frame.DataFrame'>\n",
      "Int64Index: 9074 entries, 0 to 9239\n",
      "Data columns (total 65 columns):\n",
      " #   Column                                                Non-Null Count  Dtype  \n",
      "---  ------                                                --------------  -----  \n",
      " 0   Converted                                             9074 non-null   int64  \n",
      " 1   TotalVisits                                           9074 non-null   float64\n",
      " 2   Total Time Spent on Website                           9074 non-null   int64  \n",
      " 3   Page Views Per Visit                                  9074 non-null   float64\n",
      " 4   A free copy of Mastering The Interview                9074 non-null   int64  \n",
      " 5   Lead Origin_Landing Page Submission                   9074 non-null   uint8  \n",
      " 6   Lead Origin_Lead Add Form                             9074 non-null   uint8  \n",
      " 7   Lead Origin_Lead Import                               9074 non-null   uint8  \n",
      " 8   Lead Source_Direct Traffic                            9074 non-null   uint8  \n",
      " 9   Lead Source_Facebook                                  9074 non-null   uint8  \n",
      " 10  Lead Source_Google                                    9074 non-null   uint8  \n",
      " 11  Lead Source_Live Chat                                 9074 non-null   uint8  \n",
      " 12  Lead Source_NC_EDM                                    9074 non-null   uint8  \n",
      " 13  Lead Source_Olark Chat                                9074 non-null   uint8  \n",
      " 14  Lead Source_Organic Search                            9074 non-null   uint8  \n",
      " 15  Lead Source_Pay per Click Ads                         9074 non-null   uint8  \n",
      " 16  Lead Source_Press_Release                             9074 non-null   uint8  \n",
      " 17  Lead Source_Reference                                 9074 non-null   uint8  \n",
      " 18  Lead Source_Referral Sites                            9074 non-null   uint8  \n",
      " 19  Lead Source_Social Media                              9074 non-null   uint8  \n",
      " 20  Lead Source_WeLearn                                   9074 non-null   uint8  \n",
      " 21  Lead Source_Welingak Website                          9074 non-null   uint8  \n",
      " 22  Lead Source_bing                                      9074 non-null   uint8  \n",
      " 23  Lead Source_blog                                      9074 non-null   uint8  \n",
      " 24  Lead Source_google                                    9074 non-null   uint8  \n",
      " 25  Lead Source_testone                                   9074 non-null   uint8  \n",
      " 26  Lead Source_welearnblog_Home                          9074 non-null   uint8  \n",
      " 27  Lead Source_youtubechannel                            9074 non-null   uint8  \n",
      " 28  Last Activity_Converted to Lead                       9074 non-null   uint8  \n",
      " 29  Last Activity_Email Bounced                           9074 non-null   uint8  \n",
      " 30  Last Activity_Email Link Clicked                      9074 non-null   uint8  \n",
      " 31  Last Activity_Email Marked Spam                       9074 non-null   uint8  \n",
      " 32  Last Activity_Email Opened                            9074 non-null   uint8  \n",
      " 33  Last Activity_Email Received                          9074 non-null   uint8  \n",
      " 34  Last Activity_Form Submitted on Website               9074 non-null   uint8  \n",
      " 35  Last Activity_Had a Phone Conversation                9074 non-null   uint8  \n",
      " 36  Last Activity_Olark Chat Conversation                 9074 non-null   uint8  \n",
      " 37  Last Activity_Page Visited on Website                 9074 non-null   uint8  \n",
      " 38  Last Activity_Resubscribed to emails                  9074 non-null   uint8  \n",
      " 39  Last Activity_SMS Sent                                9074 non-null   uint8  \n",
      " 40  Last Activity_Unreachable                             9074 non-null   uint8  \n",
      " 41  Last Activity_Unsubscribed                            9074 non-null   uint8  \n",
      " 42  Last Activity_View in browser link Clicked            9074 non-null   uint8  \n",
      " 43  Last Activity_Visited Booth in Tradeshow              9074 non-null   uint8  \n",
      " 44  What is your current occupation_Housewife             9074 non-null   uint8  \n",
      " 45  What is your current occupation_NA                    9074 non-null   uint8  \n",
      " 46  What is your current occupation_Other                 9074 non-null   uint8  \n",
      " 47  What is your current occupation_Student               9074 non-null   uint8  \n",
      " 48  What is your current occupation_Unemployed            9074 non-null   uint8  \n",
      " 49  What is your current occupation_Working Professional  9074 non-null   uint8  \n",
      " 50  Last Notable Activity_Email Bounced                   9074 non-null   uint8  \n",
      " 51  Last Notable Activity_Email Link Clicked              9074 non-null   uint8  \n",
      " 52  Last Notable Activity_Email Marked Spam               9074 non-null   uint8  \n",
      " 53  Last Notable Activity_Email Opened                    9074 non-null   uint8  \n",
      " 54  Last Notable Activity_Email Received                  9074 non-null   uint8  \n",
      " 55  Last Notable Activity_Form Submitted on Website       9074 non-null   uint8  \n",
      " 56  Last Notable Activity_Had a Phone Conversation        9074 non-null   uint8  \n",
      " 57  Last Notable Activity_Modified                        9074 non-null   uint8  \n",
      " 58  Last Notable Activity_Olark Chat Conversation         9074 non-null   uint8  \n",
      " 59  Last Notable Activity_Page Visited on Website         9074 non-null   uint8  \n",
      " 60  Last Notable Activity_Resubscribed to emails          9074 non-null   uint8  \n",
      " 61  Last Notable Activity_SMS Sent                        9074 non-null   uint8  \n",
      " 62  Last Notable Activity_Unreachable                     9074 non-null   uint8  \n",
      " 63  Last Notable Activity_Unsubscribed                    9074 non-null   uint8  \n",
      " 64  Last Notable Activity_View in browser link Clicked    9074 non-null   uint8  \n",
      "dtypes: float64(2), int64(3), uint8(60)\n",
      "memory usage: 1.2 MB\n"
     ]
    }
   ],
   "source": [
    "ls2.info()"
   ]
  },
  {
   "cell_type": "markdown",
   "id": "443bf2f1",
   "metadata": {},
   "source": [
    "## Step 4: Test-Train split and Scaling"
   ]
  },
  {
   "cell_type": "markdown",
   "id": "fad72021",
   "metadata": {},
   "source": [
    "### 4.1 Train-Test split"
   ]
  },
  {
   "cell_type": "code",
   "execution_count": 45,
   "id": "e240f63b",
   "metadata": {},
   "outputs": [],
   "source": [
    "# split the dataset into 70 (train):30 (test) \n",
    "from sklearn.model_selection import train_test_split\n",
    "\n",
    "# We specify this so that the train and test data set always have the same rows, respectively\n",
    "np.random.seed(0)\n",
    "ls_train, ls_test = train_test_split(ls2, train_size = 0.7, test_size = 0.3, random_state = 100)"
   ]
  },
  {
   "cell_type": "code",
   "execution_count": 46,
   "id": "6c9c3595",
   "metadata": {},
   "outputs": [
    {
     "data": {
      "text/plain": [
       "(6351, 65)"
      ]
     },
     "execution_count": 46,
     "metadata": {},
     "output_type": "execute_result"
    }
   ],
   "source": [
    "#verify the split in train dataset\n",
    "ls_train.shape"
   ]
  },
  {
   "cell_type": "code",
   "execution_count": 47,
   "id": "febeb70d",
   "metadata": {},
   "outputs": [
    {
     "data": {
      "text/plain": [
       "(2723, 65)"
      ]
     },
     "execution_count": 47,
     "metadata": {},
     "output_type": "execute_result"
    }
   ],
   "source": [
    "#verify the split in test dataset\n",
    "ls_test.shape"
   ]
  },
  {
   "cell_type": "markdown",
   "id": "60809ec5",
   "metadata": {},
   "source": [
    "### 4.2 Rescaling the Features \n",
    "\n",
    "It is extremely important to rescale the variables so that they have a comparable scale. If we don't have comparable scales, then some of the coefficients as obtained by fitting the regression model might be very large or very small as compared to the other coefficients. So it is advised to use standardization or normalization so that the units of the coefficients obtained are all on the same scale. As you know, there are two common ways of rescaling:\n",
    "\n",
    "1. Min-Max scaling \n",
    "2. Standardisation (mean-0, sigma-1) \n",
    "\n",
    "This time, we will use MinMax scaling."
   ]
  },
  {
   "cell_type": "code",
   "execution_count": 48,
   "id": "e6ed7770",
   "metadata": {},
   "outputs": [],
   "source": [
    "#import the required library for feature scaling\n",
    "from sklearn.preprocessing import MinMaxScaler"
   ]
  },
  {
   "cell_type": "code",
   "execution_count": 49,
   "id": "1686b714",
   "metadata": {},
   "outputs": [],
   "source": [
    "scaler = MinMaxScaler()\n",
    "\n",
    "# Apply scaler() to all the relevant columns\n",
    "num_vars = ['TotalVisits','Total Time Spent on Website','Page Views Per Visit']\n",
    "\n",
    "ls_train[num_vars] = scaler.fit_transform(ls_train[num_vars])"
   ]
  },
  {
   "cell_type": "code",
   "execution_count": 50,
   "id": "2b7e3ccc",
   "metadata": {},
   "outputs": [
    {
     "data": {
      "text/html": [
       "<div>\n",
       "<style scoped>\n",
       "    .dataframe tbody tr th:only-of-type {\n",
       "        vertical-align: middle;\n",
       "    }\n",
       "\n",
       "    .dataframe tbody tr th {\n",
       "        vertical-align: top;\n",
       "    }\n",
       "\n",
       "    .dataframe thead th {\n",
       "        text-align: right;\n",
       "    }\n",
       "</style>\n",
       "<table border=\"1\" class=\"dataframe\">\n",
       "  <thead>\n",
       "    <tr style=\"text-align: right;\">\n",
       "      <th></th>\n",
       "      <th>Converted</th>\n",
       "      <th>TotalVisits</th>\n",
       "      <th>Total Time Spent on Website</th>\n",
       "      <th>Page Views Per Visit</th>\n",
       "      <th>A free copy of Mastering The Interview</th>\n",
       "      <th>Lead Origin_Landing Page Submission</th>\n",
       "      <th>Lead Origin_Lead Add Form</th>\n",
       "      <th>Lead Origin_Lead Import</th>\n",
       "      <th>Lead Source_Direct Traffic</th>\n",
       "      <th>Lead Source_Facebook</th>\n",
       "      <th>...</th>\n",
       "      <th>Last Notable Activity_Form Submitted on Website</th>\n",
       "      <th>Last Notable Activity_Had a Phone Conversation</th>\n",
       "      <th>Last Notable Activity_Modified</th>\n",
       "      <th>Last Notable Activity_Olark Chat Conversation</th>\n",
       "      <th>Last Notable Activity_Page Visited on Website</th>\n",
       "      <th>Last Notable Activity_Resubscribed to emails</th>\n",
       "      <th>Last Notable Activity_SMS Sent</th>\n",
       "      <th>Last Notable Activity_Unreachable</th>\n",
       "      <th>Last Notable Activity_Unsubscribed</th>\n",
       "      <th>Last Notable Activity_View in browser link Clicked</th>\n",
       "    </tr>\n",
       "  </thead>\n",
       "  <tbody>\n",
       "    <tr>\n",
       "      <th>3009</th>\n",
       "      <td>0</td>\n",
       "      <td>0.117647</td>\n",
       "      <td>0.178347</td>\n",
       "      <td>0.222222</td>\n",
       "      <td>1</td>\n",
       "      <td>1</td>\n",
       "      <td>0</td>\n",
       "      <td>0</td>\n",
       "      <td>1</td>\n",
       "      <td>0</td>\n",
       "      <td>...</td>\n",
       "      <td>0</td>\n",
       "      <td>0</td>\n",
       "      <td>0</td>\n",
       "      <td>0</td>\n",
       "      <td>0</td>\n",
       "      <td>0</td>\n",
       "      <td>0</td>\n",
       "      <td>0</td>\n",
       "      <td>0</td>\n",
       "      <td>0</td>\n",
       "    </tr>\n",
       "    <tr>\n",
       "      <th>1012</th>\n",
       "      <td>0</td>\n",
       "      <td>0.117647</td>\n",
       "      <td>0.085355</td>\n",
       "      <td>0.222222</td>\n",
       "      <td>0</td>\n",
       "      <td>1</td>\n",
       "      <td>0</td>\n",
       "      <td>0</td>\n",
       "      <td>1</td>\n",
       "      <td>0</td>\n",
       "      <td>...</td>\n",
       "      <td>0</td>\n",
       "      <td>0</td>\n",
       "      <td>0</td>\n",
       "      <td>0</td>\n",
       "      <td>0</td>\n",
       "      <td>0</td>\n",
       "      <td>0</td>\n",
       "      <td>0</td>\n",
       "      <td>0</td>\n",
       "      <td>0</td>\n",
       "    </tr>\n",
       "    <tr>\n",
       "      <th>9226</th>\n",
       "      <td>0</td>\n",
       "      <td>0.000000</td>\n",
       "      <td>0.000000</td>\n",
       "      <td>0.000000</td>\n",
       "      <td>0</td>\n",
       "      <td>0</td>\n",
       "      <td>0</td>\n",
       "      <td>0</td>\n",
       "      <td>0</td>\n",
       "      <td>0</td>\n",
       "      <td>...</td>\n",
       "      <td>0</td>\n",
       "      <td>0</td>\n",
       "      <td>1</td>\n",
       "      <td>0</td>\n",
       "      <td>0</td>\n",
       "      <td>0</td>\n",
       "      <td>0</td>\n",
       "      <td>0</td>\n",
       "      <td>0</td>\n",
       "      <td>0</td>\n",
       "    </tr>\n",
       "    <tr>\n",
       "      <th>4750</th>\n",
       "      <td>1</td>\n",
       "      <td>0.117647</td>\n",
       "      <td>0.619946</td>\n",
       "      <td>0.222222</td>\n",
       "      <td>0</td>\n",
       "      <td>1</td>\n",
       "      <td>0</td>\n",
       "      <td>0</td>\n",
       "      <td>1</td>\n",
       "      <td>0</td>\n",
       "      <td>...</td>\n",
       "      <td>0</td>\n",
       "      <td>0</td>\n",
       "      <td>0</td>\n",
       "      <td>0</td>\n",
       "      <td>0</td>\n",
       "      <td>0</td>\n",
       "      <td>1</td>\n",
       "      <td>0</td>\n",
       "      <td>0</td>\n",
       "      <td>0</td>\n",
       "    </tr>\n",
       "    <tr>\n",
       "      <th>7987</th>\n",
       "      <td>1</td>\n",
       "      <td>0.294118</td>\n",
       "      <td>0.711590</td>\n",
       "      <td>0.277778</td>\n",
       "      <td>0</td>\n",
       "      <td>1</td>\n",
       "      <td>0</td>\n",
       "      <td>0</td>\n",
       "      <td>1</td>\n",
       "      <td>0</td>\n",
       "      <td>...</td>\n",
       "      <td>0</td>\n",
       "      <td>0</td>\n",
       "      <td>1</td>\n",
       "      <td>0</td>\n",
       "      <td>0</td>\n",
       "      <td>0</td>\n",
       "      <td>0</td>\n",
       "      <td>0</td>\n",
       "      <td>0</td>\n",
       "      <td>0</td>\n",
       "    </tr>\n",
       "  </tbody>\n",
       "</table>\n",
       "<p>5 rows × 65 columns</p>\n",
       "</div>"
      ],
      "text/plain": [
       "      Converted  TotalVisits  Total Time Spent on Website  \\\n",
       "3009          0     0.117647                     0.178347   \n",
       "1012          0     0.117647                     0.085355   \n",
       "9226          0     0.000000                     0.000000   \n",
       "4750          1     0.117647                     0.619946   \n",
       "7987          1     0.294118                     0.711590   \n",
       "\n",
       "      Page Views Per Visit  A free copy of Mastering The Interview  \\\n",
       "3009              0.222222                                       1   \n",
       "1012              0.222222                                       0   \n",
       "9226              0.000000                                       0   \n",
       "4750              0.222222                                       0   \n",
       "7987              0.277778                                       0   \n",
       "\n",
       "      Lead Origin_Landing Page Submission  Lead Origin_Lead Add Form  \\\n",
       "3009                                    1                          0   \n",
       "1012                                    1                          0   \n",
       "9226                                    0                          0   \n",
       "4750                                    1                          0   \n",
       "7987                                    1                          0   \n",
       "\n",
       "      Lead Origin_Lead Import  Lead Source_Direct Traffic  \\\n",
       "3009                        0                           1   \n",
       "1012                        0                           1   \n",
       "9226                        0                           0   \n",
       "4750                        0                           1   \n",
       "7987                        0                           1   \n",
       "\n",
       "      Lead Source_Facebook  ...  \\\n",
       "3009                     0  ...   \n",
       "1012                     0  ...   \n",
       "9226                     0  ...   \n",
       "4750                     0  ...   \n",
       "7987                     0  ...   \n",
       "\n",
       "      Last Notable Activity_Form Submitted on Website  \\\n",
       "3009                                                0   \n",
       "1012                                                0   \n",
       "9226                                                0   \n",
       "4750                                                0   \n",
       "7987                                                0   \n",
       "\n",
       "      Last Notable Activity_Had a Phone Conversation  \\\n",
       "3009                                               0   \n",
       "1012                                               0   \n",
       "9226                                               0   \n",
       "4750                                               0   \n",
       "7987                                               0   \n",
       "\n",
       "      Last Notable Activity_Modified  \\\n",
       "3009                               0   \n",
       "1012                               0   \n",
       "9226                               1   \n",
       "4750                               0   \n",
       "7987                               1   \n",
       "\n",
       "      Last Notable Activity_Olark Chat Conversation  \\\n",
       "3009                                              0   \n",
       "1012                                              0   \n",
       "9226                                              0   \n",
       "4750                                              0   \n",
       "7987                                              0   \n",
       "\n",
       "      Last Notable Activity_Page Visited on Website  \\\n",
       "3009                                              0   \n",
       "1012                                              0   \n",
       "9226                                              0   \n",
       "4750                                              0   \n",
       "7987                                              0   \n",
       "\n",
       "      Last Notable Activity_Resubscribed to emails  \\\n",
       "3009                                             0   \n",
       "1012                                             0   \n",
       "9226                                             0   \n",
       "4750                                             0   \n",
       "7987                                             0   \n",
       "\n",
       "      Last Notable Activity_SMS Sent  Last Notable Activity_Unreachable  \\\n",
       "3009                               0                                  0   \n",
       "1012                               0                                  0   \n",
       "9226                               0                                  0   \n",
       "4750                               1                                  0   \n",
       "7987                               0                                  0   \n",
       "\n",
       "      Last Notable Activity_Unsubscribed  \\\n",
       "3009                                   0   \n",
       "1012                                   0   \n",
       "9226                                   0   \n",
       "4750                                   0   \n",
       "7987                                   0   \n",
       "\n",
       "      Last Notable Activity_View in browser link Clicked  \n",
       "3009                                                  0   \n",
       "1012                                                  0   \n",
       "9226                                                  0   \n",
       "4750                                                  0   \n",
       "7987                                                  0   \n",
       "\n",
       "[5 rows x 65 columns]"
      ]
     },
     "execution_count": 50,
     "metadata": {},
     "output_type": "execute_result"
    }
   ],
   "source": [
    "# Now let's see the head of our dataframe.\n",
    "ls_train.head()"
   ]
  },
  {
   "cell_type": "code",
   "execution_count": 51,
   "id": "425cdb3c",
   "metadata": {},
   "outputs": [
    {
     "data": {
      "text/html": [
       "<div>\n",
       "<style scoped>\n",
       "    .dataframe tbody tr th:only-of-type {\n",
       "        vertical-align: middle;\n",
       "    }\n",
       "\n",
       "    .dataframe tbody tr th {\n",
       "        vertical-align: top;\n",
       "    }\n",
       "\n",
       "    .dataframe thead th {\n",
       "        text-align: right;\n",
       "    }\n",
       "</style>\n",
       "<table border=\"1\" class=\"dataframe\">\n",
       "  <thead>\n",
       "    <tr style=\"text-align: right;\">\n",
       "      <th></th>\n",
       "      <th>Converted</th>\n",
       "      <th>TotalVisits</th>\n",
       "      <th>Total Time Spent on Website</th>\n",
       "      <th>Page Views Per Visit</th>\n",
       "      <th>A free copy of Mastering The Interview</th>\n",
       "      <th>Lead Origin_Landing Page Submission</th>\n",
       "      <th>Lead Origin_Lead Add Form</th>\n",
       "      <th>Lead Origin_Lead Import</th>\n",
       "      <th>Lead Source_Direct Traffic</th>\n",
       "      <th>Lead Source_Facebook</th>\n",
       "      <th>...</th>\n",
       "      <th>Last Notable Activity_Form Submitted on Website</th>\n",
       "      <th>Last Notable Activity_Had a Phone Conversation</th>\n",
       "      <th>Last Notable Activity_Modified</th>\n",
       "      <th>Last Notable Activity_Olark Chat Conversation</th>\n",
       "      <th>Last Notable Activity_Page Visited on Website</th>\n",
       "      <th>Last Notable Activity_Resubscribed to emails</th>\n",
       "      <th>Last Notable Activity_SMS Sent</th>\n",
       "      <th>Last Notable Activity_Unreachable</th>\n",
       "      <th>Last Notable Activity_Unsubscribed</th>\n",
       "      <th>Last Notable Activity_View in browser link Clicked</th>\n",
       "    </tr>\n",
       "  </thead>\n",
       "  <tbody>\n",
       "    <tr>\n",
       "      <th>count</th>\n",
       "      <td>6351.000000</td>\n",
       "      <td>6351.000000</td>\n",
       "      <td>6351.000000</td>\n",
       "      <td>6351.000000</td>\n",
       "      <td>6351.000000</td>\n",
       "      <td>6351.000000</td>\n",
       "      <td>6351.000000</td>\n",
       "      <td>6351.000000</td>\n",
       "      <td>6351.000000</td>\n",
       "      <td>6351.000000</td>\n",
       "      <td>...</td>\n",
       "      <td>6351.000000</td>\n",
       "      <td>6351.000000</td>\n",
       "      <td>6351.000000</td>\n",
       "      <td>6351.000000</td>\n",
       "      <td>6351.000000</td>\n",
       "      <td>6351.000000</td>\n",
       "      <td>6351.000000</td>\n",
       "      <td>6351.000000</td>\n",
       "      <td>6351.000000</td>\n",
       "      <td>6351.000000</td>\n",
       "    </tr>\n",
       "    <tr>\n",
       "      <th>mean</th>\n",
       "      <td>0.385136</td>\n",
       "      <td>0.197171</td>\n",
       "      <td>0.217585</td>\n",
       "      <td>0.261393</td>\n",
       "      <td>0.315383</td>\n",
       "      <td>0.535979</td>\n",
       "      <td>0.068651</td>\n",
       "      <td>0.003779</td>\n",
       "      <td>0.278066</td>\n",
       "      <td>0.003936</td>\n",
       "      <td>...</td>\n",
       "      <td>0.000157</td>\n",
       "      <td>0.001889</td>\n",
       "      <td>0.359471</td>\n",
       "      <td>0.019052</td>\n",
       "      <td>0.034483</td>\n",
       "      <td>0.000157</td>\n",
       "      <td>0.244371</td>\n",
       "      <td>0.004094</td>\n",
       "      <td>0.004409</td>\n",
       "      <td>0.000157</td>\n",
       "    </tr>\n",
       "    <tr>\n",
       "      <th>std</th>\n",
       "      <td>0.486666</td>\n",
       "      <td>0.190612</td>\n",
       "      <td>0.244868</td>\n",
       "      <td>0.220952</td>\n",
       "      <td>0.464705</td>\n",
       "      <td>0.498743</td>\n",
       "      <td>0.252879</td>\n",
       "      <td>0.061362</td>\n",
       "      <td>0.448082</td>\n",
       "      <td>0.062622</td>\n",
       "      <td>...</td>\n",
       "      <td>0.012548</td>\n",
       "      <td>0.043430</td>\n",
       "      <td>0.479883</td>\n",
       "      <td>0.136719</td>\n",
       "      <td>0.182480</td>\n",
       "      <td>0.012548</td>\n",
       "      <td>0.429747</td>\n",
       "      <td>0.063857</td>\n",
       "      <td>0.066257</td>\n",
       "      <td>0.012548</td>\n",
       "    </tr>\n",
       "    <tr>\n",
       "      <th>min</th>\n",
       "      <td>0.000000</td>\n",
       "      <td>0.000000</td>\n",
       "      <td>0.000000</td>\n",
       "      <td>0.000000</td>\n",
       "      <td>0.000000</td>\n",
       "      <td>0.000000</td>\n",
       "      <td>0.000000</td>\n",
       "      <td>0.000000</td>\n",
       "      <td>0.000000</td>\n",
       "      <td>0.000000</td>\n",
       "      <td>...</td>\n",
       "      <td>0.000000</td>\n",
       "      <td>0.000000</td>\n",
       "      <td>0.000000</td>\n",
       "      <td>0.000000</td>\n",
       "      <td>0.000000</td>\n",
       "      <td>0.000000</td>\n",
       "      <td>0.000000</td>\n",
       "      <td>0.000000</td>\n",
       "      <td>0.000000</td>\n",
       "      <td>0.000000</td>\n",
       "    </tr>\n",
       "    <tr>\n",
       "      <th>25%</th>\n",
       "      <td>0.000000</td>\n",
       "      <td>0.058824</td>\n",
       "      <td>0.004492</td>\n",
       "      <td>0.111111</td>\n",
       "      <td>0.000000</td>\n",
       "      <td>0.000000</td>\n",
       "      <td>0.000000</td>\n",
       "      <td>0.000000</td>\n",
       "      <td>0.000000</td>\n",
       "      <td>0.000000</td>\n",
       "      <td>...</td>\n",
       "      <td>0.000000</td>\n",
       "      <td>0.000000</td>\n",
       "      <td>0.000000</td>\n",
       "      <td>0.000000</td>\n",
       "      <td>0.000000</td>\n",
       "      <td>0.000000</td>\n",
       "      <td>0.000000</td>\n",
       "      <td>0.000000</td>\n",
       "      <td>0.000000</td>\n",
       "      <td>0.000000</td>\n",
       "    </tr>\n",
       "    <tr>\n",
       "      <th>50%</th>\n",
       "      <td>0.000000</td>\n",
       "      <td>0.176471</td>\n",
       "      <td>0.110961</td>\n",
       "      <td>0.222222</td>\n",
       "      <td>0.000000</td>\n",
       "      <td>1.000000</td>\n",
       "      <td>0.000000</td>\n",
       "      <td>0.000000</td>\n",
       "      <td>0.000000</td>\n",
       "      <td>0.000000</td>\n",
       "      <td>...</td>\n",
       "      <td>0.000000</td>\n",
       "      <td>0.000000</td>\n",
       "      <td>0.000000</td>\n",
       "      <td>0.000000</td>\n",
       "      <td>0.000000</td>\n",
       "      <td>0.000000</td>\n",
       "      <td>0.000000</td>\n",
       "      <td>0.000000</td>\n",
       "      <td>0.000000</td>\n",
       "      <td>0.000000</td>\n",
       "    </tr>\n",
       "    <tr>\n",
       "      <th>75%</th>\n",
       "      <td>1.000000</td>\n",
       "      <td>0.294118</td>\n",
       "      <td>0.413522</td>\n",
       "      <td>0.370000</td>\n",
       "      <td>1.000000</td>\n",
       "      <td>1.000000</td>\n",
       "      <td>0.000000</td>\n",
       "      <td>0.000000</td>\n",
       "      <td>1.000000</td>\n",
       "      <td>0.000000</td>\n",
       "      <td>...</td>\n",
       "      <td>0.000000</td>\n",
       "      <td>0.000000</td>\n",
       "      <td>1.000000</td>\n",
       "      <td>0.000000</td>\n",
       "      <td>0.000000</td>\n",
       "      <td>0.000000</td>\n",
       "      <td>0.000000</td>\n",
       "      <td>0.000000</td>\n",
       "      <td>0.000000</td>\n",
       "      <td>0.000000</td>\n",
       "    </tr>\n",
       "    <tr>\n",
       "      <th>max</th>\n",
       "      <td>1.000000</td>\n",
       "      <td>1.000000</td>\n",
       "      <td>1.000000</td>\n",
       "      <td>1.000000</td>\n",
       "      <td>1.000000</td>\n",
       "      <td>1.000000</td>\n",
       "      <td>1.000000</td>\n",
       "      <td>1.000000</td>\n",
       "      <td>1.000000</td>\n",
       "      <td>1.000000</td>\n",
       "      <td>...</td>\n",
       "      <td>1.000000</td>\n",
       "      <td>1.000000</td>\n",
       "      <td>1.000000</td>\n",
       "      <td>1.000000</td>\n",
       "      <td>1.000000</td>\n",
       "      <td>1.000000</td>\n",
       "      <td>1.000000</td>\n",
       "      <td>1.000000</td>\n",
       "      <td>1.000000</td>\n",
       "      <td>1.000000</td>\n",
       "    </tr>\n",
       "  </tbody>\n",
       "</table>\n",
       "<p>8 rows × 65 columns</p>\n",
       "</div>"
      ],
      "text/plain": [
       "         Converted  TotalVisits  Total Time Spent on Website  \\\n",
       "count  6351.000000  6351.000000                  6351.000000   \n",
       "mean      0.385136     0.197171                     0.217585   \n",
       "std       0.486666     0.190612                     0.244868   \n",
       "min       0.000000     0.000000                     0.000000   \n",
       "25%       0.000000     0.058824                     0.004492   \n",
       "50%       0.000000     0.176471                     0.110961   \n",
       "75%       1.000000     0.294118                     0.413522   \n",
       "max       1.000000     1.000000                     1.000000   \n",
       "\n",
       "       Page Views Per Visit  A free copy of Mastering The Interview  \\\n",
       "count           6351.000000                             6351.000000   \n",
       "mean               0.261393                                0.315383   \n",
       "std                0.220952                                0.464705   \n",
       "min                0.000000                                0.000000   \n",
       "25%                0.111111                                0.000000   \n",
       "50%                0.222222                                0.000000   \n",
       "75%                0.370000                                1.000000   \n",
       "max                1.000000                                1.000000   \n",
       "\n",
       "       Lead Origin_Landing Page Submission  Lead Origin_Lead Add Form  \\\n",
       "count                          6351.000000                6351.000000   \n",
       "mean                              0.535979                   0.068651   \n",
       "std                               0.498743                   0.252879   \n",
       "min                               0.000000                   0.000000   \n",
       "25%                               0.000000                   0.000000   \n",
       "50%                               1.000000                   0.000000   \n",
       "75%                               1.000000                   0.000000   \n",
       "max                               1.000000                   1.000000   \n",
       "\n",
       "       Lead Origin_Lead Import  Lead Source_Direct Traffic  \\\n",
       "count              6351.000000                 6351.000000   \n",
       "mean                  0.003779                    0.278066   \n",
       "std                   0.061362                    0.448082   \n",
       "min                   0.000000                    0.000000   \n",
       "25%                   0.000000                    0.000000   \n",
       "50%                   0.000000                    0.000000   \n",
       "75%                   0.000000                    1.000000   \n",
       "max                   1.000000                    1.000000   \n",
       "\n",
       "       Lead Source_Facebook  ...  \\\n",
       "count           6351.000000  ...   \n",
       "mean               0.003936  ...   \n",
       "std                0.062622  ...   \n",
       "min                0.000000  ...   \n",
       "25%                0.000000  ...   \n",
       "50%                0.000000  ...   \n",
       "75%                0.000000  ...   \n",
       "max                1.000000  ...   \n",
       "\n",
       "       Last Notable Activity_Form Submitted on Website  \\\n",
       "count                                      6351.000000   \n",
       "mean                                          0.000157   \n",
       "std                                           0.012548   \n",
       "min                                           0.000000   \n",
       "25%                                           0.000000   \n",
       "50%                                           0.000000   \n",
       "75%                                           0.000000   \n",
       "max                                           1.000000   \n",
       "\n",
       "       Last Notable Activity_Had a Phone Conversation  \\\n",
       "count                                     6351.000000   \n",
       "mean                                         0.001889   \n",
       "std                                          0.043430   \n",
       "min                                          0.000000   \n",
       "25%                                          0.000000   \n",
       "50%                                          0.000000   \n",
       "75%                                          0.000000   \n",
       "max                                          1.000000   \n",
       "\n",
       "       Last Notable Activity_Modified  \\\n",
       "count                     6351.000000   \n",
       "mean                         0.359471   \n",
       "std                          0.479883   \n",
       "min                          0.000000   \n",
       "25%                          0.000000   \n",
       "50%                          0.000000   \n",
       "75%                          1.000000   \n",
       "max                          1.000000   \n",
       "\n",
       "       Last Notable Activity_Olark Chat Conversation  \\\n",
       "count                                    6351.000000   \n",
       "mean                                        0.019052   \n",
       "std                                         0.136719   \n",
       "min                                         0.000000   \n",
       "25%                                         0.000000   \n",
       "50%                                         0.000000   \n",
       "75%                                         0.000000   \n",
       "max                                         1.000000   \n",
       "\n",
       "       Last Notable Activity_Page Visited on Website  \\\n",
       "count                                    6351.000000   \n",
       "mean                                        0.034483   \n",
       "std                                         0.182480   \n",
       "min                                         0.000000   \n",
       "25%                                         0.000000   \n",
       "50%                                         0.000000   \n",
       "75%                                         0.000000   \n",
       "max                                         1.000000   \n",
       "\n",
       "       Last Notable Activity_Resubscribed to emails  \\\n",
       "count                                   6351.000000   \n",
       "mean                                       0.000157   \n",
       "std                                        0.012548   \n",
       "min                                        0.000000   \n",
       "25%                                        0.000000   \n",
       "50%                                        0.000000   \n",
       "75%                                        0.000000   \n",
       "max                                        1.000000   \n",
       "\n",
       "       Last Notable Activity_SMS Sent  Last Notable Activity_Unreachable  \\\n",
       "count                     6351.000000                        6351.000000   \n",
       "mean                         0.244371                           0.004094   \n",
       "std                          0.429747                           0.063857   \n",
       "min                          0.000000                           0.000000   \n",
       "25%                          0.000000                           0.000000   \n",
       "50%                          0.000000                           0.000000   \n",
       "75%                          0.000000                           0.000000   \n",
       "max                          1.000000                           1.000000   \n",
       "\n",
       "       Last Notable Activity_Unsubscribed  \\\n",
       "count                         6351.000000   \n",
       "mean                             0.004409   \n",
       "std                              0.066257   \n",
       "min                              0.000000   \n",
       "25%                              0.000000   \n",
       "50%                              0.000000   \n",
       "75%                              0.000000   \n",
       "max                              1.000000   \n",
       "\n",
       "       Last Notable Activity_View in browser link Clicked  \n",
       "count                                        6351.000000   \n",
       "mean                                            0.000157   \n",
       "std                                             0.012548   \n",
       "min                                             0.000000   \n",
       "25%                                             0.000000   \n",
       "50%                                             0.000000   \n",
       "75%                                             0.000000   \n",
       "max                                             1.000000   \n",
       "\n",
       "[8 rows x 65 columns]"
      ]
     },
     "execution_count": 51,
     "metadata": {},
     "output_type": "execute_result"
    }
   ],
   "source": [
    "# Now let's see the summary of our dataframe.\n",
    "ls_train.describe()"
   ]
  },
  {
   "cell_type": "code",
   "execution_count": 52,
   "id": "91da430f",
   "metadata": {},
   "outputs": [],
   "source": [
    "# Dividing into X and Y sets for the model building (y will have Target variable 'cnt' while X will have rest of the predicter variables)\n",
    "y_train = ls_train.pop('Converted')\n",
    "X_train = ls_train\n",
    "\n",
    "y_test = ls_test.pop('Converted')\n",
    "X_test = ls_test"
   ]
  },
  {
   "cell_type": "markdown",
   "id": "c0739730",
   "metadata": {},
   "source": [
    "## Step 5: Model Building"
   ]
  },
  {
   "cell_type": "markdown",
   "id": "4357050a",
   "metadata": {},
   "source": [
    "### 5.1 Model Building using statsmodel for the detailed statistics"
   ]
  },
  {
   "cell_type": "code",
   "execution_count": 53,
   "id": "4f3402b2",
   "metadata": {},
   "outputs": [],
   "source": [
    "import statsmodels.api as sm"
   ]
  },
  {
   "cell_type": "code",
   "execution_count": 54,
   "id": "40010b7a",
   "metadata": {},
   "outputs": [
    {
     "data": {
      "text/html": [
       "<table class=\"simpletable\">\n",
       "<caption>Generalized Linear Model Regression Results</caption>\n",
       "<tr>\n",
       "  <th>Dep. Variable:</th>       <td>Converted</td>    <th>  No. Observations:  </th>  <td>  6351</td> \n",
       "</tr>\n",
       "<tr>\n",
       "  <th>Model:</th>                  <td>GLM</td>       <th>  Df Residuals:      </th>  <td>  6289</td> \n",
       "</tr>\n",
       "<tr>\n",
       "  <th>Model Family:</th>        <td>Binomial</td>     <th>  Df Model:          </th>  <td>    61</td> \n",
       "</tr>\n",
       "<tr>\n",
       "  <th>Link Function:</th>         <td>logit</td>      <th>  Scale:             </th> <td>  1.0000</td>\n",
       "</tr>\n",
       "<tr>\n",
       "  <th>Method:</th>                <td>IRLS</td>       <th>  Log-Likelihood:    </th> <td> -2504.0</td>\n",
       "</tr>\n",
       "<tr>\n",
       "  <th>Date:</th>            <td>Tue, 12 Oct 2021</td> <th>  Deviance:          </th> <td>  5008.0</td>\n",
       "</tr>\n",
       "<tr>\n",
       "  <th>Time:</th>                <td>16:37:28</td>     <th>  Pearson chi2:      </th> <td>6.17e+03</td>\n",
       "</tr>\n",
       "<tr>\n",
       "  <th>No. Iterations:</th>         <td>22</td>        <th>                     </th>     <td> </td>   \n",
       "</tr>\n",
       "<tr>\n",
       "  <th>Covariance Type:</th>     <td>nonrobust</td>    <th>                     </th>     <td> </td>   \n",
       "</tr>\n",
       "</table>\n",
       "<table class=\"simpletable\">\n",
       "<tr>\n",
       "                            <td></td>                              <th>coef</th>     <th>std err</th>      <th>z</th>      <th>P>|z|</th>  <th>[0.025</th>    <th>0.975]</th>  \n",
       "</tr>\n",
       "<tr>\n",
       "  <th>const</th>                                                <td>   24.9455</td> <td> 7.95e+04</td> <td>    0.000</td> <td> 1.000</td> <td>-1.56e+05</td> <td> 1.56e+05</td>\n",
       "</tr>\n",
       "<tr>\n",
       "  <th>TotalVisits</th>                                          <td>    1.5789</td> <td>    0.271</td> <td>    5.835</td> <td> 0.000</td> <td>    1.048</td> <td>    2.109</td>\n",
       "</tr>\n",
       "<tr>\n",
       "  <th>Total Time Spent on Website</th>                          <td>    4.6491</td> <td>    0.171</td> <td>   27.210</td> <td> 0.000</td> <td>    4.314</td> <td>    4.984</td>\n",
       "</tr>\n",
       "<tr>\n",
       "  <th>Page Views Per Visit</th>                                 <td>   -1.0802</td> <td>    0.262</td> <td>   -4.117</td> <td> 0.000</td> <td>   -1.594</td> <td>   -0.566</td>\n",
       "</tr>\n",
       "<tr>\n",
       "  <th>A free copy of Mastering The Interview</th>               <td>   -0.0514</td> <td>    0.109</td> <td>   -0.473</td> <td> 0.637</td> <td>   -0.265</td> <td>    0.162</td>\n",
       "</tr>\n",
       "<tr>\n",
       "  <th>Lead Origin_Landing Page Submission</th>                  <td>   -0.2121</td> <td>    0.109</td> <td>   -1.947</td> <td> 0.052</td> <td>   -0.426</td> <td>    0.001</td>\n",
       "</tr>\n",
       "<tr>\n",
       "  <th>Lead Origin_Lead Add Form</th>                            <td>   -0.6148</td> <td>    1.679</td> <td>   -0.366</td> <td> 0.714</td> <td>   -3.905</td> <td>    2.675</td>\n",
       "</tr>\n",
       "<tr>\n",
       "  <th>Lead Origin_Lead Import</th>                              <td>   24.8346</td> <td> 7.95e+04</td> <td>    0.000</td> <td> 1.000</td> <td>-1.56e+05</td> <td> 1.56e+05</td>\n",
       "</tr>\n",
       "<tr>\n",
       "  <th>Lead Source_Direct Traffic</th>                           <td>   -3.1051</td> <td>    2.112</td> <td>   -1.470</td> <td> 0.141</td> <td>   -7.244</td> <td>    1.034</td>\n",
       "</tr>\n",
       "<tr>\n",
       "  <th>Lead Source_Facebook</th>                                 <td>  -26.5909</td> <td> 7.95e+04</td> <td>   -0.000</td> <td> 1.000</td> <td>-1.56e+05</td> <td> 1.56e+05</td>\n",
       "</tr>\n",
       "<tr>\n",
       "  <th>Lead Source_Google</th>                                   <td>   -2.7399</td> <td>    2.110</td> <td>   -1.298</td> <td> 0.194</td> <td>   -6.876</td> <td>    1.396</td>\n",
       "</tr>\n",
       "<tr>\n",
       "  <th>Lead Source_Live Chat</th>                                <td>   21.8160</td> <td> 5.62e+04</td> <td>    0.000</td> <td> 1.000</td> <td> -1.1e+05</td> <td>  1.1e+05</td>\n",
       "</tr>\n",
       "<tr>\n",
       "  <th>Lead Source_NC_EDM</th>                                   <td>   21.5075</td> <td> 7.95e+04</td> <td>    0.000</td> <td> 1.000</td> <td>-1.56e+05</td> <td> 1.56e+05</td>\n",
       "</tr>\n",
       "<tr>\n",
       "  <th>Lead Source_Olark Chat</th>                               <td>   -1.6731</td> <td>    2.104</td> <td>   -0.795</td> <td> 0.426</td> <td>   -5.796</td> <td>    2.450</td>\n",
       "</tr>\n",
       "<tr>\n",
       "  <th>Lead Source_Organic Search</th>                           <td>   -3.0656</td> <td>    2.113</td> <td>   -1.451</td> <td> 0.147</td> <td>   -7.207</td> <td>    1.076</td>\n",
       "</tr>\n",
       "<tr>\n",
       "  <th>Lead Source_Pay per Click Ads</th>                        <td>  -24.6317</td> <td> 7.95e+04</td> <td>   -0.000</td> <td> 1.000</td> <td>-1.56e+05</td> <td> 1.56e+05</td>\n",
       "</tr>\n",
       "<tr>\n",
       "  <th>Lead Source_Press_Release</th>                            <td>  -24.9676</td> <td> 7.95e+04</td> <td>   -0.000</td> <td> 1.000</td> <td>-1.56e+05</td> <td> 1.56e+05</td>\n",
       "</tr>\n",
       "<tr>\n",
       "  <th>Lead Source_Reference</th>                                <td>    1.1582</td> <td>    1.290</td> <td>    0.898</td> <td> 0.369</td> <td>   -1.371</td> <td>    3.687</td>\n",
       "</tr>\n",
       "<tr>\n",
       "  <th>Lead Source_Referral Sites</th>                           <td>   -3.1366</td> <td>    2.137</td> <td>   -1.468</td> <td> 0.142</td> <td>   -7.325</td> <td>    1.052</td>\n",
       "</tr>\n",
       "<tr>\n",
       "  <th>Lead Source_Social Media</th>                             <td>   -0.7917</td> <td>    2.578</td> <td>   -0.307</td> <td> 0.759</td> <td>   -5.844</td> <td>    4.261</td>\n",
       "</tr>\n",
       "<tr>\n",
       "  <th>Lead Source_WeLearn</th>                                  <td>-3.145e-09</td> <td> 1.06e-05</td> <td>   -0.000</td> <td> 1.000</td> <td>-2.08e-05</td> <td> 2.08e-05</td>\n",
       "</tr>\n",
       "<tr>\n",
       "  <th>Lead Source_Welingak Website</th>                         <td>    3.0578</td> <td>    1.462</td> <td>    2.092</td> <td> 0.036</td> <td>    0.193</td> <td>    5.923</td>\n",
       "</tr>\n",
       "<tr>\n",
       "  <th>Lead Source_bing</th>                                     <td>   -2.1635</td> <td>    2.561</td> <td>   -0.845</td> <td> 0.398</td> <td>   -7.183</td> <td>    2.856</td>\n",
       "</tr>\n",
       "<tr>\n",
       "  <th>Lead Source_blog</th>                                     <td>  -24.5455</td> <td> 7.95e+04</td> <td>   -0.000</td> <td> 1.000</td> <td>-1.56e+05</td> <td> 1.56e+05</td>\n",
       "</tr>\n",
       "<tr>\n",
       "  <th>Lead Source_google</th>                                   <td>  -24.0256</td> <td>  3.8e+04</td> <td>   -0.001</td> <td> 0.999</td> <td>-7.44e+04</td> <td> 7.44e+04</td>\n",
       "</tr>\n",
       "<tr>\n",
       "  <th>Lead Source_testone</th>                                  <td>  -24.5252</td> <td> 7.95e+04</td> <td>   -0.000</td> <td> 1.000</td> <td>-1.56e+05</td> <td> 1.56e+05</td>\n",
       "</tr>\n",
       "<tr>\n",
       "  <th>Lead Source_welearnblog_Home</th>                         <td>  -23.9544</td> <td> 7.95e+04</td> <td>   -0.000</td> <td> 1.000</td> <td>-1.56e+05</td> <td> 1.56e+05</td>\n",
       "</tr>\n",
       "<tr>\n",
       "  <th>Lead Source_youtubechannel</th>                           <td>  -24.2231</td> <td> 7.95e+04</td> <td>   -0.000</td> <td> 1.000</td> <td>-1.56e+05</td> <td> 1.56e+05</td>\n",
       "</tr>\n",
       "<tr>\n",
       "  <th>Last Activity_Converted to Lead</th>                      <td>  -25.0124</td> <td> 3.81e+04</td> <td>   -0.001</td> <td> 0.999</td> <td>-7.47e+04</td> <td> 7.46e+04</td>\n",
       "</tr>\n",
       "<tr>\n",
       "  <th>Last Activity_Email Bounced</th>                          <td>  -26.5415</td> <td> 3.81e+04</td> <td>   -0.001</td> <td> 0.999</td> <td>-7.47e+04</td> <td> 7.46e+04</td>\n",
       "</tr>\n",
       "<tr>\n",
       "  <th>Last Activity_Email Link Clicked</th>                     <td>  -24.3579</td> <td> 3.81e+04</td> <td>   -0.001</td> <td> 0.999</td> <td>-7.47e+04</td> <td> 7.46e+04</td>\n",
       "</tr>\n",
       "<tr>\n",
       "  <th>Last Activity_Email Marked Spam</th>                      <td>   -0.5153</td> <td> 4.85e+04</td> <td>-1.06e-05</td> <td> 1.000</td> <td> -9.5e+04</td> <td>  9.5e+04</td>\n",
       "</tr>\n",
       "<tr>\n",
       "  <th>Last Activity_Email Opened</th>                           <td>  -23.9803</td> <td> 3.81e+04</td> <td>   -0.001</td> <td> 0.999</td> <td>-7.47e+04</td> <td> 7.46e+04</td>\n",
       "</tr>\n",
       "<tr>\n",
       "  <th>Last Activity_Email Received</th>                         <td>   -3.5471</td> <td> 8.81e+04</td> <td>-4.03e-05</td> <td> 1.000</td> <td>-1.73e+05</td> <td> 1.73e+05</td>\n",
       "</tr>\n",
       "<tr>\n",
       "  <th>Last Activity_Form Submitted on Website</th>              <td>  -24.5018</td> <td> 3.81e+04</td> <td>   -0.001</td> <td> 0.999</td> <td>-7.47e+04</td> <td> 7.46e+04</td>\n",
       "</tr>\n",
       "<tr>\n",
       "  <th>Last Activity_Had a Phone Conversation</th>               <td>  -22.9197</td> <td> 3.81e+04</td> <td>   -0.001</td> <td> 1.000</td> <td>-7.47e+04</td> <td> 7.46e+04</td>\n",
       "</tr>\n",
       "<tr>\n",
       "  <th>Last Activity_Olark Chat Conversation</th>                <td>  -25.3258</td> <td> 3.81e+04</td> <td>   -0.001</td> <td> 0.999</td> <td>-7.47e+04</td> <td> 7.46e+04</td>\n",
       "</tr>\n",
       "<tr>\n",
       "  <th>Last Activity_Page Visited on Website</th>                <td>  -24.5429</td> <td> 3.81e+04</td> <td>   -0.001</td> <td> 0.999</td> <td>-7.47e+04</td> <td> 7.46e+04</td>\n",
       "</tr>\n",
       "<tr>\n",
       "  <th>Last Activity_Resubscribed to emails</th>                 <td>    1.3048</td> <td> 5.62e+04</td> <td> 2.32e-05</td> <td> 1.000</td> <td> -1.1e+05</td> <td>  1.1e+05</td>\n",
       "</tr>\n",
       "<tr>\n",
       "  <th>Last Activity_SMS Sent</th>                               <td>  -23.5496</td> <td> 3.81e+04</td> <td>   -0.001</td> <td> 1.000</td> <td>-7.47e+04</td> <td> 7.46e+04</td>\n",
       "</tr>\n",
       "<tr>\n",
       "  <th>Last Activity_Unreachable</th>                            <td>  -24.7296</td> <td> 3.81e+04</td> <td>   -0.001</td> <td> 0.999</td> <td>-7.47e+04</td> <td> 7.46e+04</td>\n",
       "</tr>\n",
       "<tr>\n",
       "  <th>Last Activity_Unsubscribed</th>                           <td>  -24.5828</td> <td> 3.81e+04</td> <td>   -0.001</td> <td> 0.999</td> <td>-7.47e+04</td> <td> 7.46e+04</td>\n",
       "</tr>\n",
       "<tr>\n",
       "  <th>Last Activity_View in browser link Clicked</th>           <td>  -25.0621</td> <td> 3.81e+04</td> <td>   -0.001</td> <td> 0.999</td> <td>-7.47e+04</td> <td> 7.46e+04</td>\n",
       "</tr>\n",
       "<tr>\n",
       "  <th>Last Activity_Visited Booth in Tradeshow</th>             <td>  -45.5623</td> <td> 8.81e+04</td> <td>   -0.001</td> <td> 1.000</td> <td>-1.73e+05</td> <td> 1.73e+05</td>\n",
       "</tr>\n",
       "<tr>\n",
       "  <th>What is your current occupation_Housewife</th>            <td>   22.6206</td> <td> 2.58e+04</td> <td>    0.001</td> <td> 0.999</td> <td>-5.05e+04</td> <td> 5.06e+04</td>\n",
       "</tr>\n",
       "<tr>\n",
       "  <th>What is your current occupation_NA</th>                   <td>   -2.3160</td> <td>    1.098</td> <td>   -2.110</td> <td> 0.035</td> <td>   -4.468</td> <td>   -0.164</td>\n",
       "</tr>\n",
       "<tr>\n",
       "  <th>What is your current occupation_Other</th>                <td>   -0.4222</td> <td>    1.335</td> <td>   -0.316</td> <td> 0.752</td> <td>   -3.038</td> <td>    2.194</td>\n",
       "</tr>\n",
       "<tr>\n",
       "  <th>What is your current occupation_Student</th>              <td>   -0.9337</td> <td>    1.117</td> <td>   -0.836</td> <td> 0.403</td> <td>   -3.123</td> <td>    1.256</td>\n",
       "</tr>\n",
       "<tr>\n",
       "  <th>What is your current occupation_Unemployed</th>           <td>   -1.1040</td> <td>    1.095</td> <td>   -1.008</td> <td> 0.314</td> <td>   -3.251</td> <td>    1.043</td>\n",
       "</tr>\n",
       "<tr>\n",
       "  <th>What is your current occupation_Working Professional</th> <td>    1.4050</td> <td>    1.110</td> <td>    1.266</td> <td> 0.206</td> <td>   -0.770</td> <td>    3.580</td>\n",
       "</tr>\n",
       "<tr>\n",
       "  <th>Last Notable Activity_Email Bounced</th>                  <td>    2.2228</td> <td> 8.81e+04</td> <td> 2.52e-05</td> <td> 1.000</td> <td>-1.73e+05</td> <td> 1.73e+05</td>\n",
       "</tr>\n",
       "<tr>\n",
       "  <th>Last Notable Activity_Email Link Clicked</th>             <td>    1.2019</td> <td> 8.81e+04</td> <td> 1.36e-05</td> <td> 1.000</td> <td>-1.73e+05</td> <td> 1.73e+05</td>\n",
       "</tr>\n",
       "<tr>\n",
       "  <th>Last Notable Activity_Email Marked Spam</th>              <td>   -0.5153</td> <td> 4.85e+04</td> <td>-1.06e-05</td> <td> 1.000</td> <td> -9.5e+04</td> <td>  9.5e+04</td>\n",
       "</tr>\n",
       "<tr>\n",
       "  <th>Last Notable Activity_Email Opened</th>                   <td>    1.2369</td> <td> 8.81e+04</td> <td>  1.4e-05</td> <td> 1.000</td> <td>-1.73e+05</td> <td> 1.73e+05</td>\n",
       "</tr>\n",
       "<tr>\n",
       "  <th>Last Notable Activity_Email Received</th>                 <td>    1.9281</td> <td> 1.43e+05</td> <td> 1.35e-05</td> <td> 1.000</td> <td> -2.8e+05</td> <td>  2.8e+05</td>\n",
       "</tr>\n",
       "<tr>\n",
       "  <th>Last Notable Activity_Form Submitted on Website</th>      <td>  -18.8703</td> <td> 1.19e+05</td> <td>   -0.000</td> <td> 1.000</td> <td>-2.33e+05</td> <td> 2.33e+05</td>\n",
       "</tr>\n",
       "<tr>\n",
       "  <th>Last Notable Activity_Had a Phone Conversation</th>       <td>    3.4582</td> <td> 8.81e+04</td> <td> 3.92e-05</td> <td> 1.000</td> <td>-1.73e+05</td> <td> 1.73e+05</td>\n",
       "</tr>\n",
       "<tr>\n",
       "  <th>Last Notable Activity_Modified</th>                       <td>    0.9292</td> <td> 8.81e+04</td> <td> 1.05e-05</td> <td> 1.000</td> <td>-1.73e+05</td> <td> 1.73e+05</td>\n",
       "</tr>\n",
       "<tr>\n",
       "  <th>Last Notable Activity_Olark Chat Conversation</th>        <td>    1.1273</td> <td> 8.81e+04</td> <td> 1.28e-05</td> <td> 1.000</td> <td>-1.73e+05</td> <td> 1.73e+05</td>\n",
       "</tr>\n",
       "<tr>\n",
       "  <th>Last Notable Activity_Page Visited on Website</th>        <td>    1.0733</td> <td> 8.81e+04</td> <td> 1.22e-05</td> <td> 1.000</td> <td>-1.73e+05</td> <td> 1.73e+05</td>\n",
       "</tr>\n",
       "<tr>\n",
       "  <th>Last Notable Activity_Resubscribed to emails</th>         <td>    1.3048</td> <td> 5.62e+04</td> <td> 2.32e-05</td> <td> 1.000</td> <td> -1.1e+05</td> <td>  1.1e+05</td>\n",
       "</tr>\n",
       "<tr>\n",
       "  <th>Last Notable Activity_SMS Sent</th>                       <td>    2.0730</td> <td> 8.81e+04</td> <td> 2.35e-05</td> <td> 1.000</td> <td>-1.73e+05</td> <td> 1.73e+05</td>\n",
       "</tr>\n",
       "<tr>\n",
       "  <th>Last Notable Activity_Unreachable</th>                    <td>    3.7971</td> <td> 8.81e+04</td> <td> 4.31e-05</td> <td> 1.000</td> <td>-1.73e+05</td> <td> 1.73e+05</td>\n",
       "</tr>\n",
       "<tr>\n",
       "  <th>Last Notable Activity_Unsubscribed</th>                   <td>    1.6739</td> <td> 8.81e+04</td> <td>  1.9e-05</td> <td> 1.000</td> <td>-1.73e+05</td> <td> 1.73e+05</td>\n",
       "</tr>\n",
       "<tr>\n",
       "  <th>Last Notable Activity_View in browser link Clicked</th>   <td>  -20.1626</td> <td> 1.19e+05</td> <td>   -0.000</td> <td> 1.000</td> <td>-2.33e+05</td> <td> 2.33e+05</td>\n",
       "</tr>\n",
       "</table>"
      ],
      "text/plain": [
       "<class 'statsmodels.iolib.summary.Summary'>\n",
       "\"\"\"\n",
       "                 Generalized Linear Model Regression Results                  \n",
       "==============================================================================\n",
       "Dep. Variable:              Converted   No. Observations:                 6351\n",
       "Model:                            GLM   Df Residuals:                     6289\n",
       "Model Family:                Binomial   Df Model:                           61\n",
       "Link Function:                  logit   Scale:                          1.0000\n",
       "Method:                          IRLS   Log-Likelihood:                -2504.0\n",
       "Date:                Tue, 12 Oct 2021   Deviance:                       5008.0\n",
       "Time:                        16:37:28   Pearson chi2:                 6.17e+03\n",
       "No. Iterations:                    22                                         \n",
       "Covariance Type:            nonrobust                                         \n",
       "========================================================================================================================\n",
       "                                                           coef    std err          z      P>|z|      [0.025      0.975]\n",
       "------------------------------------------------------------------------------------------------------------------------\n",
       "const                                                   24.9455   7.95e+04      0.000      1.000   -1.56e+05    1.56e+05\n",
       "TotalVisits                                              1.5789      0.271      5.835      0.000       1.048       2.109\n",
       "Total Time Spent on Website                              4.6491      0.171     27.210      0.000       4.314       4.984\n",
       "Page Views Per Visit                                    -1.0802      0.262     -4.117      0.000      -1.594      -0.566\n",
       "A free copy of Mastering The Interview                  -0.0514      0.109     -0.473      0.637      -0.265       0.162\n",
       "Lead Origin_Landing Page Submission                     -0.2121      0.109     -1.947      0.052      -0.426       0.001\n",
       "Lead Origin_Lead Add Form                               -0.6148      1.679     -0.366      0.714      -3.905       2.675\n",
       "Lead Origin_Lead Import                                 24.8346   7.95e+04      0.000      1.000   -1.56e+05    1.56e+05\n",
       "Lead Source_Direct Traffic                              -3.1051      2.112     -1.470      0.141      -7.244       1.034\n",
       "Lead Source_Facebook                                   -26.5909   7.95e+04     -0.000      1.000   -1.56e+05    1.56e+05\n",
       "Lead Source_Google                                      -2.7399      2.110     -1.298      0.194      -6.876       1.396\n",
       "Lead Source_Live Chat                                   21.8160   5.62e+04      0.000      1.000    -1.1e+05     1.1e+05\n",
       "Lead Source_NC_EDM                                      21.5075   7.95e+04      0.000      1.000   -1.56e+05    1.56e+05\n",
       "Lead Source_Olark Chat                                  -1.6731      2.104     -0.795      0.426      -5.796       2.450\n",
       "Lead Source_Organic Search                              -3.0656      2.113     -1.451      0.147      -7.207       1.076\n",
       "Lead Source_Pay per Click Ads                          -24.6317   7.95e+04     -0.000      1.000   -1.56e+05    1.56e+05\n",
       "Lead Source_Press_Release                              -24.9676   7.95e+04     -0.000      1.000   -1.56e+05    1.56e+05\n",
       "Lead Source_Reference                                    1.1582      1.290      0.898      0.369      -1.371       3.687\n",
       "Lead Source_Referral Sites                              -3.1366      2.137     -1.468      0.142      -7.325       1.052\n",
       "Lead Source_Social Media                                -0.7917      2.578     -0.307      0.759      -5.844       4.261\n",
       "Lead Source_WeLearn                                  -3.145e-09   1.06e-05     -0.000      1.000   -2.08e-05    2.08e-05\n",
       "Lead Source_Welingak Website                             3.0578      1.462      2.092      0.036       0.193       5.923\n",
       "Lead Source_bing                                        -2.1635      2.561     -0.845      0.398      -7.183       2.856\n",
       "Lead Source_blog                                       -24.5455   7.95e+04     -0.000      1.000   -1.56e+05    1.56e+05\n",
       "Lead Source_google                                     -24.0256    3.8e+04     -0.001      0.999   -7.44e+04    7.44e+04\n",
       "Lead Source_testone                                    -24.5252   7.95e+04     -0.000      1.000   -1.56e+05    1.56e+05\n",
       "Lead Source_welearnblog_Home                           -23.9544   7.95e+04     -0.000      1.000   -1.56e+05    1.56e+05\n",
       "Lead Source_youtubechannel                             -24.2231   7.95e+04     -0.000      1.000   -1.56e+05    1.56e+05\n",
       "Last Activity_Converted to Lead                        -25.0124   3.81e+04     -0.001      0.999   -7.47e+04    7.46e+04\n",
       "Last Activity_Email Bounced                            -26.5415   3.81e+04     -0.001      0.999   -7.47e+04    7.46e+04\n",
       "Last Activity_Email Link Clicked                       -24.3579   3.81e+04     -0.001      0.999   -7.47e+04    7.46e+04\n",
       "Last Activity_Email Marked Spam                         -0.5153   4.85e+04  -1.06e-05      1.000    -9.5e+04     9.5e+04\n",
       "Last Activity_Email Opened                             -23.9803   3.81e+04     -0.001      0.999   -7.47e+04    7.46e+04\n",
       "Last Activity_Email Received                            -3.5471   8.81e+04  -4.03e-05      1.000   -1.73e+05    1.73e+05\n",
       "Last Activity_Form Submitted on Website                -24.5018   3.81e+04     -0.001      0.999   -7.47e+04    7.46e+04\n",
       "Last Activity_Had a Phone Conversation                 -22.9197   3.81e+04     -0.001      1.000   -7.47e+04    7.46e+04\n",
       "Last Activity_Olark Chat Conversation                  -25.3258   3.81e+04     -0.001      0.999   -7.47e+04    7.46e+04\n",
       "Last Activity_Page Visited on Website                  -24.5429   3.81e+04     -0.001      0.999   -7.47e+04    7.46e+04\n",
       "Last Activity_Resubscribed to emails                     1.3048   5.62e+04   2.32e-05      1.000    -1.1e+05     1.1e+05\n",
       "Last Activity_SMS Sent                                 -23.5496   3.81e+04     -0.001      1.000   -7.47e+04    7.46e+04\n",
       "Last Activity_Unreachable                              -24.7296   3.81e+04     -0.001      0.999   -7.47e+04    7.46e+04\n",
       "Last Activity_Unsubscribed                             -24.5828   3.81e+04     -0.001      0.999   -7.47e+04    7.46e+04\n",
       "Last Activity_View in browser link Clicked             -25.0621   3.81e+04     -0.001      0.999   -7.47e+04    7.46e+04\n",
       "Last Activity_Visited Booth in Tradeshow               -45.5623   8.81e+04     -0.001      1.000   -1.73e+05    1.73e+05\n",
       "What is your current occupation_Housewife               22.6206   2.58e+04      0.001      0.999   -5.05e+04    5.06e+04\n",
       "What is your current occupation_NA                      -2.3160      1.098     -2.110      0.035      -4.468      -0.164\n",
       "What is your current occupation_Other                   -0.4222      1.335     -0.316      0.752      -3.038       2.194\n",
       "What is your current occupation_Student                 -0.9337      1.117     -0.836      0.403      -3.123       1.256\n",
       "What is your current occupation_Unemployed              -1.1040      1.095     -1.008      0.314      -3.251       1.043\n",
       "What is your current occupation_Working Professional     1.4050      1.110      1.266      0.206      -0.770       3.580\n",
       "Last Notable Activity_Email Bounced                      2.2228   8.81e+04   2.52e-05      1.000   -1.73e+05    1.73e+05\n",
       "Last Notable Activity_Email Link Clicked                 1.2019   8.81e+04   1.36e-05      1.000   -1.73e+05    1.73e+05\n",
       "Last Notable Activity_Email Marked Spam                 -0.5153   4.85e+04  -1.06e-05      1.000    -9.5e+04     9.5e+04\n",
       "Last Notable Activity_Email Opened                       1.2369   8.81e+04    1.4e-05      1.000   -1.73e+05    1.73e+05\n",
       "Last Notable Activity_Email Received                     1.9281   1.43e+05   1.35e-05      1.000    -2.8e+05     2.8e+05\n",
       "Last Notable Activity_Form Submitted on Website        -18.8703   1.19e+05     -0.000      1.000   -2.33e+05    2.33e+05\n",
       "Last Notable Activity_Had a Phone Conversation           3.4582   8.81e+04   3.92e-05      1.000   -1.73e+05    1.73e+05\n",
       "Last Notable Activity_Modified                           0.9292   8.81e+04   1.05e-05      1.000   -1.73e+05    1.73e+05\n",
       "Last Notable Activity_Olark Chat Conversation            1.1273   8.81e+04   1.28e-05      1.000   -1.73e+05    1.73e+05\n",
       "Last Notable Activity_Page Visited on Website            1.0733   8.81e+04   1.22e-05      1.000   -1.73e+05    1.73e+05\n",
       "Last Notable Activity_Resubscribed to emails             1.3048   5.62e+04   2.32e-05      1.000    -1.1e+05     1.1e+05\n",
       "Last Notable Activity_SMS Sent                           2.0730   8.81e+04   2.35e-05      1.000   -1.73e+05    1.73e+05\n",
       "Last Notable Activity_Unreachable                        3.7971   8.81e+04   4.31e-05      1.000   -1.73e+05    1.73e+05\n",
       "Last Notable Activity_Unsubscribed                       1.6739   8.81e+04    1.9e-05      1.000   -1.73e+05    1.73e+05\n",
       "Last Notable Activity_View in browser link Clicked     -20.1626   1.19e+05     -0.000      1.000   -2.33e+05    2.33e+05\n",
       "========================================================================================================================\n",
       "\"\"\""
      ]
     },
     "execution_count": 54,
     "metadata": {},
     "output_type": "execute_result"
    }
   ],
   "source": [
    "# Logistic regression model\n",
    "logm1 = sm.GLM(y_train,(sm.add_constant(X_train)), family = sm.families.Binomial())\n",
    "logm1.fit().summary()"
   ]
  },
  {
   "cell_type": "markdown",
   "id": "fbcf700b",
   "metadata": {},
   "source": [
    "### 5.2 Feature Selection Using RFE"
   ]
  },
  {
   "cell_type": "code",
   "execution_count": 55,
   "id": "3ec52496",
   "metadata": {},
   "outputs": [],
   "source": [
    "# Importing RFE and LogisticRegression\n",
    "from sklearn.linear_model import LogisticRegression\n",
    "from sklearn.feature_selection import RFE"
   ]
  },
  {
   "cell_type": "code",
   "execution_count": 56,
   "id": "32d7e71b",
   "metadata": {},
   "outputs": [],
   "source": [
    "# Running RFE with the output number of the variable equal to 15\n",
    "lm = LogisticRegression()\n",
    "lm.fit(X_train, y_train)\n",
    "\n",
    "rfe = RFE(lm, 15)             # running RFE\n",
    "rfe = rfe.fit(X_train, y_train)"
   ]
  },
  {
   "cell_type": "code",
   "execution_count": 57,
   "id": "44b35907",
   "metadata": {},
   "outputs": [
    {
     "data": {
      "text/plain": [
       "[('TotalVisits', True, 1),\n",
       " ('Total Time Spent on Website', True, 1),\n",
       " ('Page Views Per Visit', False, 2),\n",
       " ('A free copy of Mastering The Interview', False, 47),\n",
       " ('Lead Origin_Landing Page Submission', False, 24),\n",
       " ('Lead Origin_Lead Add Form', True, 1),\n",
       " ('Lead Origin_Lead Import', False, 4),\n",
       " ('Lead Source_Direct Traffic', False, 17),\n",
       " ('Lead Source_Facebook', False, 40),\n",
       " ('Lead Source_Google', False, 21),\n",
       " ('Lead Source_Live Chat', False, 35),\n",
       " ('Lead Source_NC_EDM', False, 10),\n",
       " ('Lead Source_Olark Chat', True, 1),\n",
       " ('Lead Source_Organic Search', False, 19),\n",
       " ('Lead Source_Pay per Click Ads', False, 33),\n",
       " ('Lead Source_Press_Release', False, 25),\n",
       " ('Lead Source_Reference', False, 3),\n",
       " ('Lead Source_Referral Sites', False, 20),\n",
       " ('Lead Source_Social Media', False, 9),\n",
       " ('Lead Source_WeLearn', False, 50),\n",
       " ('Lead Source_Welingak Website', True, 1),\n",
       " ('Lead Source_bing', False, 46),\n",
       " ('Lead Source_blog', False, 37),\n",
       " ('Lead Source_google', False, 18),\n",
       " ('Lead Source_testone', False, 36),\n",
       " ('Lead Source_welearnblog_Home', False, 41),\n",
       " ('Lead Source_youtubechannel', False, 39),\n",
       " ('Last Activity_Converted to Lead', True, 1),\n",
       " ('Last Activity_Email Bounced', True, 1),\n",
       " ('Last Activity_Email Link Clicked', False, 32),\n",
       " ('Last Activity_Email Marked Spam', False, 34),\n",
       " ('Last Activity_Email Opened', False, 16),\n",
       " ('Last Activity_Email Received', False, 42),\n",
       " ('Last Activity_Form Submitted on Website', False, 30),\n",
       " ('Last Activity_Had a Phone Conversation', True, 1),\n",
       " ('Last Activity_Olark Chat Conversation', True, 1),\n",
       " ('Last Activity_Page Visited on Website', False, 27),\n",
       " ('Last Activity_Resubscribed to emails', False, 5),\n",
       " ('Last Activity_SMS Sent', True, 1),\n",
       " ('Last Activity_Unreachable', False, 31),\n",
       " ('Last Activity_Unsubscribed', False, 26),\n",
       " ('Last Activity_View in browser link Clicked', False, 22),\n",
       " ('Last Activity_Visited Booth in Tradeshow', False, 43),\n",
       " ('What is your current occupation_Housewife', True, 1),\n",
       " ('What is your current occupation_NA', True, 1),\n",
       " ('What is your current occupation_Other', False, 49),\n",
       " ('What is your current occupation_Student', False, 12),\n",
       " ('What is your current occupation_Unemployed', False, 11),\n",
       " ('What is your current occupation_Working Professional', True, 1),\n",
       " ('Last Notable Activity_Email Bounced', False, 48),\n",
       " ('Last Notable Activity_Email Link Clicked', False, 14),\n",
       " ('Last Notable Activity_Email Marked Spam', False, 38),\n",
       " ('Last Notable Activity_Email Opened', False, 15),\n",
       " ('Last Notable Activity_Email Received', False, 44),\n",
       " ('Last Notable Activity_Form Submitted on Website', False, 45),\n",
       " ('Last Notable Activity_Had a Phone Conversation', True, 1),\n",
       " ('Last Notable Activity_Modified', False, 6),\n",
       " ('Last Notable Activity_Olark Chat Conversation', False, 13),\n",
       " ('Last Notable Activity_Page Visited on Website', False, 7),\n",
       " ('Last Notable Activity_Resubscribed to emails', False, 8),\n",
       " ('Last Notable Activity_SMS Sent', False, 23),\n",
       " ('Last Notable Activity_Unreachable', True, 1),\n",
       " ('Last Notable Activity_Unsubscribed', False, 29),\n",
       " ('Last Notable Activity_View in browser link Clicked', False, 28)]"
      ]
     },
     "execution_count": 57,
     "metadata": {},
     "output_type": "execute_result"
    }
   ],
   "source": [
    "# checking the rank of variables, we need top 15 variables)\n",
    "list(zip(X_train.columns,rfe.support_,rfe.ranking_))"
   ]
  },
  {
   "cell_type": "code",
   "execution_count": 58,
   "id": "ba7742bc",
   "metadata": {},
   "outputs": [
    {
     "data": {
      "text/plain": [
       "Index(['TotalVisits', 'Total Time Spent on Website',\n",
       "       'Lead Origin_Lead Add Form', 'Lead Source_Olark Chat',\n",
       "       'Lead Source_Welingak Website', 'Last Activity_Converted to Lead',\n",
       "       'Last Activity_Email Bounced', 'Last Activity_Had a Phone Conversation',\n",
       "       'Last Activity_Olark Chat Conversation', 'Last Activity_SMS Sent',\n",
       "       'What is your current occupation_Housewife',\n",
       "       'What is your current occupation_NA',\n",
       "       'What is your current occupation_Working Professional',\n",
       "       'Last Notable Activity_Had a Phone Conversation',\n",
       "       'Last Notable Activity_Unreachable'],\n",
       "      dtype='object')"
      ]
     },
     "execution_count": 58,
     "metadata": {},
     "output_type": "execute_result"
    }
   ],
   "source": [
    "# Checking Top 15 variables as per the RFE\n",
    "col = X_train.columns[rfe.support_]\n",
    "col"
   ]
  },
  {
   "cell_type": "code",
   "execution_count": 59,
   "id": "f0db21b4",
   "metadata": {},
   "outputs": [
    {
     "data": {
      "text/plain": [
       "Index(['Page Views Per Visit', 'A free copy of Mastering The Interview',\n",
       "       'Lead Origin_Landing Page Submission', 'Lead Origin_Lead Import',\n",
       "       'Lead Source_Direct Traffic', 'Lead Source_Facebook',\n",
       "       'Lead Source_Google', 'Lead Source_Live Chat', 'Lead Source_NC_EDM',\n",
       "       'Lead Source_Organic Search', 'Lead Source_Pay per Click Ads',\n",
       "       'Lead Source_Press_Release', 'Lead Source_Reference',\n",
       "       'Lead Source_Referral Sites', 'Lead Source_Social Media',\n",
       "       'Lead Source_WeLearn', 'Lead Source_bing', 'Lead Source_blog',\n",
       "       'Lead Source_google', 'Lead Source_testone',\n",
       "       'Lead Source_welearnblog_Home', 'Lead Source_youtubechannel',\n",
       "       'Last Activity_Email Link Clicked', 'Last Activity_Email Marked Spam',\n",
       "       'Last Activity_Email Opened', 'Last Activity_Email Received',\n",
       "       'Last Activity_Form Submitted on Website',\n",
       "       'Last Activity_Page Visited on Website',\n",
       "       'Last Activity_Resubscribed to emails', 'Last Activity_Unreachable',\n",
       "       'Last Activity_Unsubscribed',\n",
       "       'Last Activity_View in browser link Clicked',\n",
       "       'Last Activity_Visited Booth in Tradeshow',\n",
       "       'What is your current occupation_Other',\n",
       "       'What is your current occupation_Student',\n",
       "       'What is your current occupation_Unemployed',\n",
       "       'Last Notable Activity_Email Bounced',\n",
       "       'Last Notable Activity_Email Link Clicked',\n",
       "       'Last Notable Activity_Email Marked Spam',\n",
       "       'Last Notable Activity_Email Opened',\n",
       "       'Last Notable Activity_Email Received',\n",
       "       'Last Notable Activity_Form Submitted on Website',\n",
       "       'Last Notable Activity_Modified',\n",
       "       'Last Notable Activity_Olark Chat Conversation',\n",
       "       'Last Notable Activity_Page Visited on Website',\n",
       "       'Last Notable Activity_Resubscribed to emails',\n",
       "       'Last Notable Activity_SMS Sent', 'Last Notable Activity_Unsubscribed',\n",
       "       'Last Notable Activity_View in browser link Clicked'],\n",
       "      dtype='object')"
      ]
     },
     "execution_count": 59,
     "metadata": {},
     "output_type": "execute_result"
    }
   ],
   "source": [
    "# Checking other insignificant variables as per the RFE\n",
    "X_train.columns[~rfe.support_]"
   ]
  },
  {
   "cell_type": "markdown",
   "id": "4d1edbe4",
   "metadata": {},
   "source": [
    "#### Model 1:"
   ]
  },
  {
   "cell_type": "code",
   "execution_count": 60,
   "id": "7bddcb52",
   "metadata": {},
   "outputs": [
    {
     "data": {
      "text/html": [
       "<table class=\"simpletable\">\n",
       "<caption>Generalized Linear Model Regression Results</caption>\n",
       "<tr>\n",
       "  <th>Dep. Variable:</th>       <td>Converted</td>    <th>  No. Observations:  </th>  <td>  6351</td> \n",
       "</tr>\n",
       "<tr>\n",
       "  <th>Model:</th>                  <td>GLM</td>       <th>  Df Residuals:      </th>  <td>  6335</td> \n",
       "</tr>\n",
       "<tr>\n",
       "  <th>Model Family:</th>        <td>Binomial</td>     <th>  Df Model:          </th>  <td>    15</td> \n",
       "</tr>\n",
       "<tr>\n",
       "  <th>Link Function:</th>         <td>logit</td>      <th>  Scale:             </th> <td>  1.0000</td>\n",
       "</tr>\n",
       "<tr>\n",
       "  <th>Method:</th>                <td>IRLS</td>       <th>  Log-Likelihood:    </th> <td> -2600.3</td>\n",
       "</tr>\n",
       "<tr>\n",
       "  <th>Date:</th>            <td>Tue, 12 Oct 2021</td> <th>  Deviance:          </th> <td>  5200.5</td>\n",
       "</tr>\n",
       "<tr>\n",
       "  <th>Time:</th>                <td>16:37:40</td>     <th>  Pearson chi2:      </th> <td>6.23e+03</td>\n",
       "</tr>\n",
       "<tr>\n",
       "  <th>No. Iterations:</th>         <td>21</td>        <th>                     </th>     <td> </td>   \n",
       "</tr>\n",
       "<tr>\n",
       "  <th>Covariance Type:</th>     <td>nonrobust</td>    <th>                     </th>     <td> </td>   \n",
       "</tr>\n",
       "</table>\n",
       "<table class=\"simpletable\">\n",
       "<tr>\n",
       "                            <td></td>                              <th>coef</th>     <th>std err</th>      <th>z</th>      <th>P>|z|</th>  <th>[0.025</th>    <th>0.975]</th>  \n",
       "</tr>\n",
       "<tr>\n",
       "  <th>const</th>                                                <td>   -2.2986</td> <td>    0.097</td> <td>  -23.642</td> <td> 0.000</td> <td>   -2.489</td> <td>   -2.108</td>\n",
       "</tr>\n",
       "<tr>\n",
       "  <th>TotalVisits</th>                                          <td>    0.6692</td> <td>    0.213</td> <td>    3.144</td> <td> 0.002</td> <td>    0.252</td> <td>    1.086</td>\n",
       "</tr>\n",
       "<tr>\n",
       "  <th>Total Time Spent on Website</th>                          <td>    4.6151</td> <td>    0.166</td> <td>   27.831</td> <td> 0.000</td> <td>    4.290</td> <td>    4.940</td>\n",
       "</tr>\n",
       "<tr>\n",
       "  <th>Lead Origin_Lead Add Form</th>                            <td>    3.7227</td> <td>    0.227</td> <td>   16.393</td> <td> 0.000</td> <td>    3.278</td> <td>    4.168</td>\n",
       "</tr>\n",
       "<tr>\n",
       "  <th>Lead Source_Olark Chat</th>                               <td>    1.6193</td> <td>    0.119</td> <td>   13.608</td> <td> 0.000</td> <td>    1.386</td> <td>    1.852</td>\n",
       "</tr>\n",
       "<tr>\n",
       "  <th>Lead Source_Welingak Website</th>                         <td>    1.9914</td> <td>    0.756</td> <td>    2.634</td> <td> 0.008</td> <td>    0.510</td> <td>    3.473</td>\n",
       "</tr>\n",
       "<tr>\n",
       "  <th>Last Activity_Converted to Lead</th>                      <td>   -1.1611</td> <td>    0.227</td> <td>   -5.119</td> <td> 0.000</td> <td>   -1.606</td> <td>   -0.717</td>\n",
       "</tr>\n",
       "<tr>\n",
       "  <th>Last Activity_Email Bounced</th>                          <td>   -2.1445</td> <td>    0.373</td> <td>   -5.743</td> <td> 0.000</td> <td>   -2.876</td> <td>   -1.413</td>\n",
       "</tr>\n",
       "<tr>\n",
       "  <th>Last Activity_Had a Phone Conversation</th>               <td>    1.0133</td> <td>    1.057</td> <td>    0.959</td> <td> 0.338</td> <td>   -1.058</td> <td>    3.085</td>\n",
       "</tr>\n",
       "<tr>\n",
       "  <th>Last Activity_Olark Chat Conversation</th>                <td>   -1.3460</td> <td>    0.164</td> <td>   -8.186</td> <td> 0.000</td> <td>   -1.668</td> <td>   -1.024</td>\n",
       "</tr>\n",
       "<tr>\n",
       "  <th>Last Activity_SMS Sent</th>                               <td>    1.1715</td> <td>    0.075</td> <td>   15.574</td> <td> 0.000</td> <td>    1.024</td> <td>    1.319</td>\n",
       "</tr>\n",
       "<tr>\n",
       "  <th>What is your current occupation_Housewife</th>            <td>   22.7719</td> <td> 1.57e+04</td> <td>    0.001</td> <td> 0.999</td> <td>-3.08e+04</td> <td> 3.08e+04</td>\n",
       "</tr>\n",
       "<tr>\n",
       "  <th>What is your current occupation_NA</th>                   <td>   -1.2955</td> <td>    0.088</td> <td>  -14.765</td> <td> 0.000</td> <td>   -1.468</td> <td>   -1.124</td>\n",
       "</tr>\n",
       "<tr>\n",
       "  <th>What is your current occupation_Working Professional</th> <td>    2.4886</td> <td>    0.187</td> <td>   13.306</td> <td> 0.000</td> <td>    2.122</td> <td>    2.855</td>\n",
       "</tr>\n",
       "<tr>\n",
       "  <th>Last Notable Activity_Had a Phone Conversation</th>       <td>    2.5664</td> <td>    1.542</td> <td>    1.665</td> <td> 0.096</td> <td>   -0.455</td> <td>    5.588</td>\n",
       "</tr>\n",
       "<tr>\n",
       "  <th>Last Notable Activity_Unreachable</th>                    <td>    2.0075</td> <td>    0.485</td> <td>    4.137</td> <td> 0.000</td> <td>    1.056</td> <td>    2.959</td>\n",
       "</tr>\n",
       "</table>"
      ],
      "text/plain": [
       "<class 'statsmodels.iolib.summary.Summary'>\n",
       "\"\"\"\n",
       "                 Generalized Linear Model Regression Results                  \n",
       "==============================================================================\n",
       "Dep. Variable:              Converted   No. Observations:                 6351\n",
       "Model:                            GLM   Df Residuals:                     6335\n",
       "Model Family:                Binomial   Df Model:                           15\n",
       "Link Function:                  logit   Scale:                          1.0000\n",
       "Method:                          IRLS   Log-Likelihood:                -2600.3\n",
       "Date:                Tue, 12 Oct 2021   Deviance:                       5200.5\n",
       "Time:                        16:37:40   Pearson chi2:                 6.23e+03\n",
       "No. Iterations:                    21                                         \n",
       "Covariance Type:            nonrobust                                         \n",
       "========================================================================================================================\n",
       "                                                           coef    std err          z      P>|z|      [0.025      0.975]\n",
       "------------------------------------------------------------------------------------------------------------------------\n",
       "const                                                   -2.2986      0.097    -23.642      0.000      -2.489      -2.108\n",
       "TotalVisits                                              0.6692      0.213      3.144      0.002       0.252       1.086\n",
       "Total Time Spent on Website                              4.6151      0.166     27.831      0.000       4.290       4.940\n",
       "Lead Origin_Lead Add Form                                3.7227      0.227     16.393      0.000       3.278       4.168\n",
       "Lead Source_Olark Chat                                   1.6193      0.119     13.608      0.000       1.386       1.852\n",
       "Lead Source_Welingak Website                             1.9914      0.756      2.634      0.008       0.510       3.473\n",
       "Last Activity_Converted to Lead                         -1.1611      0.227     -5.119      0.000      -1.606      -0.717\n",
       "Last Activity_Email Bounced                             -2.1445      0.373     -5.743      0.000      -2.876      -1.413\n",
       "Last Activity_Had a Phone Conversation                   1.0133      1.057      0.959      0.338      -1.058       3.085\n",
       "Last Activity_Olark Chat Conversation                   -1.3460      0.164     -8.186      0.000      -1.668      -1.024\n",
       "Last Activity_SMS Sent                                   1.1715      0.075     15.574      0.000       1.024       1.319\n",
       "What is your current occupation_Housewife               22.7719   1.57e+04      0.001      0.999   -3.08e+04    3.08e+04\n",
       "What is your current occupation_NA                      -1.2955      0.088    -14.765      0.000      -1.468      -1.124\n",
       "What is your current occupation_Working Professional     2.4886      0.187     13.306      0.000       2.122       2.855\n",
       "Last Notable Activity_Had a Phone Conversation           2.5664      1.542      1.665      0.096      -0.455       5.588\n",
       "Last Notable Activity_Unreachable                        2.0075      0.485      4.137      0.000       1.056       2.959\n",
       "========================================================================================================================\n",
       "\"\"\""
      ]
     },
     "execution_count": 60,
     "metadata": {},
     "output_type": "execute_result"
    }
   ],
   "source": [
    "# Lets build our first Logistic Regression Model\n",
    "X_train_sm = sm.add_constant(X_train[col])\n",
    "logm2 = sm.GLM(y_train,X_train_sm, family = sm.families.Binomial())\n",
    "res = logm2.fit()\n",
    "res.summary()"
   ]
  },
  {
   "cell_type": "code",
   "execution_count": 61,
   "id": "033c24b6",
   "metadata": {},
   "outputs": [],
   "source": [
    "# Import 'variance_inflation_factor'\n",
    "from statsmodels.stats.outliers_influence import variance_inflation_factor"
   ]
  },
  {
   "cell_type": "code",
   "execution_count": 62,
   "id": "b443ed0c",
   "metadata": {},
   "outputs": [],
   "source": [
    "# Creating X_test dataframe with RFE selected variables\n",
    "X_train_rfe = X_train[col]"
   ]
  },
  {
   "cell_type": "code",
   "execution_count": 63,
   "id": "66ae8a5f",
   "metadata": {},
   "outputs": [
    {
     "name": "stdout",
     "output_type": "stream",
     "text": [
      "                                             Features   VIF\n",
      "7              Last Activity_Had a Phone Conversation  3.41\n",
      "13     Last Notable Activity_Had a Phone Conversation  3.40\n",
      "1                         Total Time Spent on Website  1.93\n",
      "0                                         TotalVisits  1.90\n",
      "3                              Lead Source_Olark Chat  1.54\n",
      "2                           Lead Origin_Lead Add Form  1.51\n",
      "9                              Last Activity_SMS Sent  1.50\n",
      "11                 What is your current occupation_NA  1.45\n",
      "8               Last Activity_Olark Chat Conversation  1.42\n",
      "4                        Lead Source_Welingak Website  1.33\n",
      "12  What is your current occupation_Working Profes...  1.20\n",
      "5                     Last Activity_Converted to Lead  1.04\n",
      "6                         Last Activity_Email Bounced  1.04\n",
      "10          What is your current occupation_Housewife  1.01\n",
      "14                  Last Notable Activity_Unreachable  1.01\n"
     ]
    }
   ],
   "source": [
    "# Calculate the VIFs for the new model\n",
    "from statsmodels.stats.outliers_influence import variance_inflation_factor\n",
    "\n",
    "vif = pd.DataFrame()\n",
    "X = X_train_rfe\n",
    "vif['Features'] = X.columns\n",
    "vif['VIF'] = [variance_inflation_factor(X.values, i) for i in range(X.shape[1])]\n",
    "vif['VIF'] = round(vif['VIF'], 2)\n",
    "vif = vif.sort_values(by = \"VIF\", ascending = False)\n",
    "print(vif)"
   ]
  },
  {
   "cell_type": "markdown",
   "id": "ec05849f",
   "metadata": {},
   "source": [
    "**`Inferences:`**\n",
    "- As we can see that VIF for all the variables is in permissible limit. However few variables have higher higher probabilities, hence needs to be removed from the model.\n",
    "- Lets first drop 'What is your current occupation_Housewife' from the model."
   ]
  },
  {
   "cell_type": "markdown",
   "id": "14ba6baa",
   "metadata": {},
   "source": [
    "#### Model 2:"
   ]
  },
  {
   "cell_type": "code",
   "execution_count": 64,
   "id": "3767591b",
   "metadata": {},
   "outputs": [],
   "source": [
    "#drop 'What is your current occupation_Housewife' from the model\n",
    "X = X.drop(['What is your current occupation_Housewife'], axis=1)"
   ]
  },
  {
   "cell_type": "code",
   "execution_count": 65,
   "id": "394c0c8c",
   "metadata": {},
   "outputs": [
    {
     "data": {
      "text/html": [
       "<table class=\"simpletable\">\n",
       "<caption>Generalized Linear Model Regression Results</caption>\n",
       "<tr>\n",
       "  <th>Dep. Variable:</th>       <td>Converted</td>    <th>  No. Observations:  </th>  <td>  6351</td> \n",
       "</tr>\n",
       "<tr>\n",
       "  <th>Model:</th>                  <td>GLM</td>       <th>  Df Residuals:      </th>  <td>  6336</td> \n",
       "</tr>\n",
       "<tr>\n",
       "  <th>Model Family:</th>        <td>Binomial</td>     <th>  Df Model:          </th>  <td>    14</td> \n",
       "</tr>\n",
       "<tr>\n",
       "  <th>Link Function:</th>         <td>logit</td>      <th>  Scale:             </th> <td>  1.0000</td>\n",
       "</tr>\n",
       "<tr>\n",
       "  <th>Method:</th>                <td>IRLS</td>       <th>  Log-Likelihood:    </th> <td> -2604.7</td>\n",
       "</tr>\n",
       "<tr>\n",
       "  <th>Date:</th>            <td>Tue, 12 Oct 2021</td> <th>  Deviance:          </th> <td>  5209.4</td>\n",
       "</tr>\n",
       "<tr>\n",
       "  <th>Time:</th>                <td>16:37:41</td>     <th>  Pearson chi2:      </th> <td>6.25e+03</td>\n",
       "</tr>\n",
       "<tr>\n",
       "  <th>No. Iterations:</th>          <td>7</td>        <th>                     </th>     <td> </td>   \n",
       "</tr>\n",
       "<tr>\n",
       "  <th>Covariance Type:</th>     <td>nonrobust</td>    <th>                     </th>     <td> </td>   \n",
       "</tr>\n",
       "</table>\n",
       "<table class=\"simpletable\">\n",
       "<tr>\n",
       "                            <td></td>                              <th>coef</th>     <th>std err</th>      <th>z</th>      <th>P>|z|</th>  <th>[0.025</th>    <th>0.975]</th>  \n",
       "</tr>\n",
       "<tr>\n",
       "  <th>const</th>                                                <td>   -2.2891</td> <td>    0.097</td> <td>  -23.589</td> <td> 0.000</td> <td>   -2.479</td> <td>   -2.099</td>\n",
       "</tr>\n",
       "<tr>\n",
       "  <th>TotalVisits</th>                                          <td>    0.6603</td> <td>    0.213</td> <td>    3.104</td> <td> 0.002</td> <td>    0.243</td> <td>    1.077</td>\n",
       "</tr>\n",
       "<tr>\n",
       "  <th>Total Time Spent on Website</th>                          <td>    4.6134</td> <td>    0.166</td> <td>   27.851</td> <td> 0.000</td> <td>    4.289</td> <td>    4.938</td>\n",
       "</tr>\n",
       "<tr>\n",
       "  <th>Lead Origin_Lead Add Form</th>                            <td>    3.7394</td> <td>    0.227</td> <td>   16.490</td> <td> 0.000</td> <td>    3.295</td> <td>    4.184</td>\n",
       "</tr>\n",
       "<tr>\n",
       "  <th>Lead Source_Olark Chat</th>                               <td>    1.6134</td> <td>    0.119</td> <td>   13.572</td> <td> 0.000</td> <td>    1.380</td> <td>    1.846</td>\n",
       "</tr>\n",
       "<tr>\n",
       "  <th>Lead Source_Welingak Website</th>                         <td>    1.9678</td> <td>    0.756</td> <td>    2.603</td> <td> 0.009</td> <td>    0.486</td> <td>    3.449</td>\n",
       "</tr>\n",
       "<tr>\n",
       "  <th>Last Activity_Converted to Lead</th>                      <td>   -1.1680</td> <td>    0.227</td> <td>   -5.150</td> <td> 0.000</td> <td>   -1.612</td> <td>   -0.723</td>\n",
       "</tr>\n",
       "<tr>\n",
       "  <th>Last Activity_Email Bounced</th>                          <td>   -2.1499</td> <td>    0.373</td> <td>   -5.759</td> <td> 0.000</td> <td>   -2.882</td> <td>   -1.418</td>\n",
       "</tr>\n",
       "<tr>\n",
       "  <th>Last Activity_Had a Phone Conversation</th>               <td>    1.0071</td> <td>    1.056</td> <td>    0.953</td> <td> 0.340</td> <td>   -1.064</td> <td>    3.078</td>\n",
       "</tr>\n",
       "<tr>\n",
       "  <th>Last Activity_Olark Chat Conversation</th>                <td>   -1.3497</td> <td>    0.164</td> <td>   -8.209</td> <td> 0.000</td> <td>   -1.672</td> <td>   -1.027</td>\n",
       "</tr>\n",
       "<tr>\n",
       "  <th>Last Activity_SMS Sent</th>                               <td>    1.1655</td> <td>    0.075</td> <td>   15.506</td> <td> 0.000</td> <td>    1.018</td> <td>    1.313</td>\n",
       "</tr>\n",
       "<tr>\n",
       "  <th>What is your current occupation_NA</th>                   <td>   -1.2984</td> <td>    0.088</td> <td>  -14.803</td> <td> 0.000</td> <td>   -1.470</td> <td>   -1.126</td>\n",
       "</tr>\n",
       "<tr>\n",
       "  <th>What is your current occupation_Working Professional</th> <td>    2.4835</td> <td>    0.187</td> <td>   13.280</td> <td> 0.000</td> <td>    2.117</td> <td>    2.850</td>\n",
       "</tr>\n",
       "<tr>\n",
       "  <th>Last Notable Activity_Had a Phone Conversation</th>       <td>    2.5670</td> <td>    1.542</td> <td>    1.665</td> <td> 0.096</td> <td>   -0.455</td> <td>    5.589</td>\n",
       "</tr>\n",
       "<tr>\n",
       "  <th>Last Notable Activity_Unreachable</th>                    <td>    2.0025</td> <td>    0.485</td> <td>    4.126</td> <td> 0.000</td> <td>    1.051</td> <td>    2.954</td>\n",
       "</tr>\n",
       "</table>"
      ],
      "text/plain": [
       "<class 'statsmodels.iolib.summary.Summary'>\n",
       "\"\"\"\n",
       "                 Generalized Linear Model Regression Results                  \n",
       "==============================================================================\n",
       "Dep. Variable:              Converted   No. Observations:                 6351\n",
       "Model:                            GLM   Df Residuals:                     6336\n",
       "Model Family:                Binomial   Df Model:                           14\n",
       "Link Function:                  logit   Scale:                          1.0000\n",
       "Method:                          IRLS   Log-Likelihood:                -2604.7\n",
       "Date:                Tue, 12 Oct 2021   Deviance:                       5209.4\n",
       "Time:                        16:37:41   Pearson chi2:                 6.25e+03\n",
       "No. Iterations:                     7                                         \n",
       "Covariance Type:            nonrobust                                         \n",
       "========================================================================================================================\n",
       "                                                           coef    std err          z      P>|z|      [0.025      0.975]\n",
       "------------------------------------------------------------------------------------------------------------------------\n",
       "const                                                   -2.2891      0.097    -23.589      0.000      -2.479      -2.099\n",
       "TotalVisits                                              0.6603      0.213      3.104      0.002       0.243       1.077\n",
       "Total Time Spent on Website                              4.6134      0.166     27.851      0.000       4.289       4.938\n",
       "Lead Origin_Lead Add Form                                3.7394      0.227     16.490      0.000       3.295       4.184\n",
       "Lead Source_Olark Chat                                   1.6134      0.119     13.572      0.000       1.380       1.846\n",
       "Lead Source_Welingak Website                             1.9678      0.756      2.603      0.009       0.486       3.449\n",
       "Last Activity_Converted to Lead                         -1.1680      0.227     -5.150      0.000      -1.612      -0.723\n",
       "Last Activity_Email Bounced                             -2.1499      0.373     -5.759      0.000      -2.882      -1.418\n",
       "Last Activity_Had a Phone Conversation                   1.0071      1.056      0.953      0.340      -1.064       3.078\n",
       "Last Activity_Olark Chat Conversation                   -1.3497      0.164     -8.209      0.000      -1.672      -1.027\n",
       "Last Activity_SMS Sent                                   1.1655      0.075     15.506      0.000       1.018       1.313\n",
       "What is your current occupation_NA                      -1.2984      0.088    -14.803      0.000      -1.470      -1.126\n",
       "What is your current occupation_Working Professional     2.4835      0.187     13.280      0.000       2.117       2.850\n",
       "Last Notable Activity_Had a Phone Conversation           2.5670      1.542      1.665      0.096      -0.455       5.589\n",
       "Last Notable Activity_Unreachable                        2.0025      0.485      4.126      0.000       1.051       2.954\n",
       "========================================================================================================================\n",
       "\"\"\""
      ]
     },
     "execution_count": 65,
     "metadata": {},
     "output_type": "execute_result"
    }
   ],
   "source": [
    "# Refit the model with the new set of features\n",
    "\n",
    "X_train_sm = sm.add_constant(X)\n",
    "logm2 = sm.GLM(y_train,X_train_sm, family = sm.families.Binomial())\n",
    "res = logm2.fit()\n",
    "res.summary()"
   ]
  },
  {
   "cell_type": "code",
   "execution_count": 66,
   "id": "887d98f9",
   "metadata": {},
   "outputs": [
    {
     "name": "stdout",
     "output_type": "stream",
     "text": [
      "                                             Features   VIF\n",
      "7              Last Activity_Had a Phone Conversation  3.41\n",
      "12     Last Notable Activity_Had a Phone Conversation  3.40\n",
      "1                         Total Time Spent on Website  1.93\n",
      "0                                         TotalVisits  1.89\n",
      "3                              Lead Source_Olark Chat  1.54\n",
      "2                           Lead Origin_Lead Add Form  1.50\n",
      "9                              Last Activity_SMS Sent  1.50\n",
      "10                 What is your current occupation_NA  1.45\n",
      "8               Last Activity_Olark Chat Conversation  1.42\n",
      "4                        Lead Source_Welingak Website  1.33\n",
      "11  What is your current occupation_Working Profes...  1.20\n",
      "5                     Last Activity_Converted to Lead  1.04\n",
      "6                         Last Activity_Email Bounced  1.04\n",
      "13                  Last Notable Activity_Unreachable  1.01\n"
     ]
    }
   ],
   "source": [
    "# Calculate the VIFs for the new model\n",
    "from statsmodels.stats.outliers_influence import variance_inflation_factor\n",
    "\n",
    "vif = pd.DataFrame()\n",
    "vif['Features'] = X.columns\n",
    "vif['VIF'] = [variance_inflation_factor(X.values, i) for i in range(X.shape[1])]\n",
    "vif['VIF'] = round(vif['VIF'], 2)\n",
    "vif = vif.sort_values(by = \"VIF\", ascending = False)\n",
    "print(vif)"
   ]
  },
  {
   "cell_type": "markdown",
   "id": "e61173eb",
   "metadata": {},
   "source": [
    "**`Inferences:`**\n",
    "- Lets now drop 'Last Activity_Had a Phone Conversation' from the model."
   ]
  },
  {
   "cell_type": "markdown",
   "id": "2bfdee54",
   "metadata": {},
   "source": [
    "#### Model 3:"
   ]
  },
  {
   "cell_type": "code",
   "execution_count": 67,
   "id": "89ed18ac",
   "metadata": {},
   "outputs": [],
   "source": [
    "#drop 'Last Activity_Had a Phone Conversation' from the model\n",
    "X = X.drop(['Last Activity_Had a Phone Conversation'], axis=1)"
   ]
  },
  {
   "cell_type": "code",
   "execution_count": 68,
   "id": "4f5b68dd",
   "metadata": {},
   "outputs": [
    {
     "data": {
      "text/html": [
       "<table class=\"simpletable\">\n",
       "<caption>Generalized Linear Model Regression Results</caption>\n",
       "<tr>\n",
       "  <th>Dep. Variable:</th>       <td>Converted</td>    <th>  No. Observations:  </th>  <td>  6351</td> \n",
       "</tr>\n",
       "<tr>\n",
       "  <th>Model:</th>                  <td>GLM</td>       <th>  Df Residuals:      </th>  <td>  6337</td> \n",
       "</tr>\n",
       "<tr>\n",
       "  <th>Model Family:</th>        <td>Binomial</td>     <th>  Df Model:          </th>  <td>    13</td> \n",
       "</tr>\n",
       "<tr>\n",
       "  <th>Link Function:</th>         <td>logit</td>      <th>  Scale:             </th> <td>  1.0000</td>\n",
       "</tr>\n",
       "<tr>\n",
       "  <th>Method:</th>                <td>IRLS</td>       <th>  Log-Likelihood:    </th> <td> -2605.1</td>\n",
       "</tr>\n",
       "<tr>\n",
       "  <th>Date:</th>            <td>Tue, 12 Oct 2021</td> <th>  Deviance:          </th> <td>  5210.3</td>\n",
       "</tr>\n",
       "<tr>\n",
       "  <th>Time:</th>                <td>16:37:41</td>     <th>  Pearson chi2:      </th> <td>6.25e+03</td>\n",
       "</tr>\n",
       "<tr>\n",
       "  <th>No. Iterations:</th>          <td>7</td>        <th>                     </th>     <td> </td>   \n",
       "</tr>\n",
       "<tr>\n",
       "  <th>Covariance Type:</th>     <td>nonrobust</td>    <th>                     </th>     <td> </td>   \n",
       "</tr>\n",
       "</table>\n",
       "<table class=\"simpletable\">\n",
       "<tr>\n",
       "                            <td></td>                              <th>coef</th>     <th>std err</th>      <th>z</th>      <th>P>|z|</th>  <th>[0.025</th>    <th>0.975]</th>  \n",
       "</tr>\n",
       "<tr>\n",
       "  <th>const</th>                                                <td>   -2.2870</td> <td>    0.097</td> <td>  -23.574</td> <td> 0.000</td> <td>   -2.477</td> <td>   -2.097</td>\n",
       "</tr>\n",
       "<tr>\n",
       "  <th>TotalVisits</th>                                          <td>    0.6617</td> <td>    0.213</td> <td>    3.111</td> <td> 0.002</td> <td>    0.245</td> <td>    1.079</td>\n",
       "</tr>\n",
       "<tr>\n",
       "  <th>Total Time Spent on Website</th>                          <td>    4.6139</td> <td>    0.166</td> <td>   27.860</td> <td> 0.000</td> <td>    4.289</td> <td>    4.939</td>\n",
       "</tr>\n",
       "<tr>\n",
       "  <th>Lead Origin_Lead Add Form</th>                            <td>    3.7380</td> <td>    0.227</td> <td>   16.485</td> <td> 0.000</td> <td>    3.294</td> <td>    4.182</td>\n",
       "</tr>\n",
       "<tr>\n",
       "  <th>Lead Source_Olark Chat</th>                               <td>    1.6126</td> <td>    0.119</td> <td>   13.565</td> <td> 0.000</td> <td>    1.380</td> <td>    1.846</td>\n",
       "</tr>\n",
       "<tr>\n",
       "  <th>Lead Source_Welingak Website</th>                         <td>    1.9680</td> <td>    0.756</td> <td>    2.604</td> <td> 0.009</td> <td>    0.486</td> <td>    3.449</td>\n",
       "</tr>\n",
       "<tr>\n",
       "  <th>Last Activity_Converted to Lead</th>                      <td>   -1.1700</td> <td>    0.227</td> <td>   -5.160</td> <td> 0.000</td> <td>   -1.614</td> <td>   -0.726</td>\n",
       "</tr>\n",
       "<tr>\n",
       "  <th>Last Activity_Email Bounced</th>                          <td>   -2.1518</td> <td>    0.373</td> <td>   -5.764</td> <td> 0.000</td> <td>   -2.883</td> <td>   -1.420</td>\n",
       "</tr>\n",
       "<tr>\n",
       "  <th>Last Activity_Olark Chat Conversation</th>                <td>   -1.3511</td> <td>    0.164</td> <td>   -8.218</td> <td> 0.000</td> <td>   -1.673</td> <td>   -1.029</td>\n",
       "</tr>\n",
       "<tr>\n",
       "  <th>Last Activity_SMS Sent</th>                               <td>    1.1635</td> <td>    0.075</td> <td>   15.486</td> <td> 0.000</td> <td>    1.016</td> <td>    1.311</td>\n",
       "</tr>\n",
       "<tr>\n",
       "  <th>What is your current occupation_NA</th>                   <td>   -1.2998</td> <td>    0.088</td> <td>  -14.821</td> <td> 0.000</td> <td>   -1.472</td> <td>   -1.128</td>\n",
       "</tr>\n",
       "<tr>\n",
       "  <th>What is your current occupation_Working Professional</th> <td>    2.4819</td> <td>    0.187</td> <td>   13.272</td> <td> 0.000</td> <td>    2.115</td> <td>    2.848</td>\n",
       "</tr>\n",
       "<tr>\n",
       "  <th>Last Notable Activity_Had a Phone Conversation</th>       <td>    3.5719</td> <td>    1.125</td> <td>    3.174</td> <td> 0.002</td> <td>    1.367</td> <td>    5.777</td>\n",
       "</tr>\n",
       "<tr>\n",
       "  <th>Last Notable Activity_Unreachable</th>                    <td>    2.0008</td> <td>    0.485</td> <td>    4.122</td> <td> 0.000</td> <td>    1.049</td> <td>    2.952</td>\n",
       "</tr>\n",
       "</table>"
      ],
      "text/plain": [
       "<class 'statsmodels.iolib.summary.Summary'>\n",
       "\"\"\"\n",
       "                 Generalized Linear Model Regression Results                  \n",
       "==============================================================================\n",
       "Dep. Variable:              Converted   No. Observations:                 6351\n",
       "Model:                            GLM   Df Residuals:                     6337\n",
       "Model Family:                Binomial   Df Model:                           13\n",
       "Link Function:                  logit   Scale:                          1.0000\n",
       "Method:                          IRLS   Log-Likelihood:                -2605.1\n",
       "Date:                Tue, 12 Oct 2021   Deviance:                       5210.3\n",
       "Time:                        16:37:41   Pearson chi2:                 6.25e+03\n",
       "No. Iterations:                     7                                         \n",
       "Covariance Type:            nonrobust                                         \n",
       "========================================================================================================================\n",
       "                                                           coef    std err          z      P>|z|      [0.025      0.975]\n",
       "------------------------------------------------------------------------------------------------------------------------\n",
       "const                                                   -2.2870      0.097    -23.574      0.000      -2.477      -2.097\n",
       "TotalVisits                                              0.6617      0.213      3.111      0.002       0.245       1.079\n",
       "Total Time Spent on Website                              4.6139      0.166     27.860      0.000       4.289       4.939\n",
       "Lead Origin_Lead Add Form                                3.7380      0.227     16.485      0.000       3.294       4.182\n",
       "Lead Source_Olark Chat                                   1.6126      0.119     13.565      0.000       1.380       1.846\n",
       "Lead Source_Welingak Website                             1.9680      0.756      2.604      0.009       0.486       3.449\n",
       "Last Activity_Converted to Lead                         -1.1700      0.227     -5.160      0.000      -1.614      -0.726\n",
       "Last Activity_Email Bounced                             -2.1518      0.373     -5.764      0.000      -2.883      -1.420\n",
       "Last Activity_Olark Chat Conversation                   -1.3511      0.164     -8.218      0.000      -1.673      -1.029\n",
       "Last Activity_SMS Sent                                   1.1635      0.075     15.486      0.000       1.016       1.311\n",
       "What is your current occupation_NA                      -1.2998      0.088    -14.821      0.000      -1.472      -1.128\n",
       "What is your current occupation_Working Professional     2.4819      0.187     13.272      0.000       2.115       2.848\n",
       "Last Notable Activity_Had a Phone Conversation           3.5719      1.125      3.174      0.002       1.367       5.777\n",
       "Last Notable Activity_Unreachable                        2.0008      0.485      4.122      0.000       1.049       2.952\n",
       "========================================================================================================================\n",
       "\"\"\""
      ]
     },
     "execution_count": 68,
     "metadata": {},
     "output_type": "execute_result"
    }
   ],
   "source": [
    "# Refit the model with the new set of features\n",
    "\n",
    "X_train_sm = sm.add_constant(X)\n",
    "logm2 = sm.GLM(y_train,X_train_sm, family = sm.families.Binomial())\n",
    "res = logm2.fit()\n",
    "res.summary()"
   ]
  },
  {
   "cell_type": "code",
   "execution_count": 69,
   "id": "ee5a8018",
   "metadata": {},
   "outputs": [
    {
     "name": "stdout",
     "output_type": "stream",
     "text": [
      "                                             Features   VIF\n",
      "1                         Total Time Spent on Website  1.93\n",
      "0                                         TotalVisits  1.89\n",
      "3                              Lead Source_Olark Chat  1.54\n",
      "2                           Lead Origin_Lead Add Form  1.50\n",
      "8                              Last Activity_SMS Sent  1.50\n",
      "9                  What is your current occupation_NA  1.45\n",
      "7               Last Activity_Olark Chat Conversation  1.42\n",
      "4                        Lead Source_Welingak Website  1.33\n",
      "10  What is your current occupation_Working Profes...  1.20\n",
      "5                     Last Activity_Converted to Lead  1.04\n",
      "6                         Last Activity_Email Bounced  1.04\n",
      "12                  Last Notable Activity_Unreachable  1.01\n",
      "11     Last Notable Activity_Had a Phone Conversation  1.00\n"
     ]
    }
   ],
   "source": [
    "# Calculate the VIFs for the new model\n",
    "from statsmodels.stats.outliers_influence import variance_inflation_factor\n",
    "\n",
    "vif = pd.DataFrame()\n",
    "vif['Features'] = X.columns\n",
    "vif['VIF'] = [variance_inflation_factor(X.values, i) for i in range(X.shape[1])]\n",
    "vif['VIF'] = round(vif['VIF'], 2)\n",
    "vif = vif.sort_values(by = \"VIF\", ascending = False)\n",
    "print(vif)"
   ]
  },
  {
   "cell_type": "markdown",
   "id": "bc454045",
   "metadata": {},
   "source": [
    "**`Inferences:`**\n",
    "- As we can see that probabilities and VIF for all the variables is in permissible limit. Hence we can use this model for evaluation"
   ]
  },
  {
   "cell_type": "markdown",
   "id": "19665aa3",
   "metadata": {},
   "source": [
    "## Step 6: Model Evaluation\n",
    "Now, both the p-values and VIFs seem decent enough for all the variables. So let's go ahead and make predictions using this final set of features."
   ]
  },
  {
   "cell_type": "code",
   "execution_count": 70,
   "id": "67e0d719",
   "metadata": {},
   "outputs": [
    {
     "data": {
      "text/plain": [
       "3009    0.063800\n",
       "1012    0.184639\n",
       "9226    0.619884\n",
       "4750    0.625962\n",
       "7987    0.913275\n",
       "1281    0.744926\n",
       "2880    0.030421\n",
       "4971    0.909178\n",
       "7536    0.881577\n",
       "1248    0.886673\n",
       "dtype: float64"
      ]
     },
     "execution_count": 70,
     "metadata": {},
     "output_type": "execute_result"
    }
   ],
   "source": [
    "# Predicting the probabilities on the train set\n",
    "y_train_pred = res.predict(X_train_sm)\n",
    "y_train_pred[:10]"
   ]
  },
  {
   "cell_type": "code",
   "execution_count": 71,
   "id": "dd472289",
   "metadata": {},
   "outputs": [
    {
     "data": {
      "text/plain": [
       "array([0.06380002, 0.18463935, 0.61988396, 0.62596181, 0.91327535,\n",
       "       0.74492616, 0.0304208 , 0.90917809, 0.88157708, 0.88667261])"
      ]
     },
     "execution_count": 71,
     "metadata": {},
     "output_type": "execute_result"
    }
   ],
   "source": [
    "# Reshaping to an array\n",
    "y_train_pred = y_train_pred.values.reshape(-1)\n",
    "y_train_pred[:10]"
   ]
  },
  {
   "cell_type": "code",
   "execution_count": 72,
   "id": "f2033ee4",
   "metadata": {},
   "outputs": [
    {
     "data": {
      "text/html": [
       "<div>\n",
       "<style scoped>\n",
       "    .dataframe tbody tr th:only-of-type {\n",
       "        vertical-align: middle;\n",
       "    }\n",
       "\n",
       "    .dataframe tbody tr th {\n",
       "        vertical-align: top;\n",
       "    }\n",
       "\n",
       "    .dataframe thead th {\n",
       "        text-align: right;\n",
       "    }\n",
       "</style>\n",
       "<table border=\"1\" class=\"dataframe\">\n",
       "  <thead>\n",
       "    <tr style=\"text-align: right;\">\n",
       "      <th></th>\n",
       "      <th>Converted</th>\n",
       "      <th>Conversion_Prob</th>\n",
       "    </tr>\n",
       "  </thead>\n",
       "  <tbody>\n",
       "    <tr>\n",
       "      <th>0</th>\n",
       "      <td>0</td>\n",
       "      <td>0.063800</td>\n",
       "    </tr>\n",
       "    <tr>\n",
       "      <th>1</th>\n",
       "      <td>0</td>\n",
       "      <td>0.184639</td>\n",
       "    </tr>\n",
       "    <tr>\n",
       "      <th>2</th>\n",
       "      <td>0</td>\n",
       "      <td>0.619884</td>\n",
       "    </tr>\n",
       "    <tr>\n",
       "      <th>3</th>\n",
       "      <td>1</td>\n",
       "      <td>0.625962</td>\n",
       "    </tr>\n",
       "    <tr>\n",
       "      <th>4</th>\n",
       "      <td>1</td>\n",
       "      <td>0.913275</td>\n",
       "    </tr>\n",
       "  </tbody>\n",
       "</table>\n",
       "</div>"
      ],
      "text/plain": [
       "   Converted  Conversion_Prob\n",
       "0          0         0.063800\n",
       "1          0         0.184639\n",
       "2          0         0.619884\n",
       "3          1         0.625962\n",
       "4          1         0.913275"
      ]
     },
     "execution_count": 72,
     "metadata": {},
     "output_type": "execute_result"
    }
   ],
   "source": [
    "# Data frame with given convertion rate and probablity of predicted ones\n",
    "y_train_pred_final = pd.DataFrame({'Converted':y_train.values, 'Conversion_Prob':y_train_pred})\n",
    "y_train_pred_final.head()"
   ]
  },
  {
   "cell_type": "code",
   "execution_count": 73,
   "id": "446b7e5d",
   "metadata": {},
   "outputs": [
    {
     "data": {
      "text/html": [
       "<div>\n",
       "<style scoped>\n",
       "    .dataframe tbody tr th:only-of-type {\n",
       "        vertical-align: middle;\n",
       "    }\n",
       "\n",
       "    .dataframe tbody tr th {\n",
       "        vertical-align: top;\n",
       "    }\n",
       "\n",
       "    .dataframe thead th {\n",
       "        text-align: right;\n",
       "    }\n",
       "</style>\n",
       "<table border=\"1\" class=\"dataframe\">\n",
       "  <thead>\n",
       "    <tr style=\"text-align: right;\">\n",
       "      <th></th>\n",
       "      <th>Converted</th>\n",
       "      <th>Conversion_Prob</th>\n",
       "      <th>Predicted</th>\n",
       "    </tr>\n",
       "  </thead>\n",
       "  <tbody>\n",
       "    <tr>\n",
       "      <th>0</th>\n",
       "      <td>0</td>\n",
       "      <td>0.063800</td>\n",
       "      <td>0</td>\n",
       "    </tr>\n",
       "    <tr>\n",
       "      <th>1</th>\n",
       "      <td>0</td>\n",
       "      <td>0.184639</td>\n",
       "      <td>0</td>\n",
       "    </tr>\n",
       "    <tr>\n",
       "      <th>2</th>\n",
       "      <td>0</td>\n",
       "      <td>0.619884</td>\n",
       "      <td>1</td>\n",
       "    </tr>\n",
       "    <tr>\n",
       "      <th>3</th>\n",
       "      <td>1</td>\n",
       "      <td>0.625962</td>\n",
       "      <td>1</td>\n",
       "    </tr>\n",
       "    <tr>\n",
       "      <th>4</th>\n",
       "      <td>1</td>\n",
       "      <td>0.913275</td>\n",
       "      <td>1</td>\n",
       "    </tr>\n",
       "  </tbody>\n",
       "</table>\n",
       "</div>"
      ],
      "text/plain": [
       "   Converted  Conversion_Prob  Predicted\n",
       "0          0         0.063800          0\n",
       "1          0         0.184639          0\n",
       "2          0         0.619884          1\n",
       "3          1         0.625962          1\n",
       "4          1         0.913275          1"
      ]
     },
     "execution_count": 73,
     "metadata": {},
     "output_type": "execute_result"
    }
   ],
   "source": [
    "# Substituting 0 or 1 with the cut off as 50%\n",
    "y_train_pred_final['Predicted'] = y_train_pred_final.Conversion_Prob.map(lambda x: 1 if x > 0.5 else 0)\n",
    "y_train_pred_final.head()"
   ]
  },
  {
   "cell_type": "code",
   "execution_count": 74,
   "id": "98587818",
   "metadata": {},
   "outputs": [],
   "source": [
    "# Importing metrics from sklearn for evaluation\n",
    "from sklearn import metrics"
   ]
  },
  {
   "cell_type": "code",
   "execution_count": 75,
   "id": "0d26972d",
   "metadata": {},
   "outputs": [
    {
     "data": {
      "text/plain": [
       "array([[3456,  449],\n",
       "       [ 740, 1706]], dtype=int64)"
      ]
     },
     "execution_count": 75,
     "metadata": {},
     "output_type": "execute_result"
    }
   ],
   "source": [
    "# Creating confusion matrix \n",
    "confusion1 = metrics.confusion_matrix(y_train_pred_final.Converted, y_train_pred_final.Predicted )\n",
    "confusion1"
   ]
  },
  {
   "cell_type": "markdown",
   "id": "18d5573b",
   "metadata": {},
   "source": [
    "#### Accuracy"
   ]
  },
  {
   "cell_type": "code",
   "execution_count": 76,
   "id": "b6c76269",
   "metadata": {},
   "outputs": [
    {
     "data": {
      "text/plain": [
       "0.81"
      ]
     },
     "execution_count": 76,
     "metadata": {},
     "output_type": "execute_result"
    }
   ],
   "source": [
    "# Check the overall accuracy\n",
    "metrics.accuracy_score(y_train_pred_final.Converted, y_train_pred_final.Predicted).round(2)"
   ]
  },
  {
   "cell_type": "code",
   "execution_count": 77,
   "id": "0bf0cea4",
   "metadata": {},
   "outputs": [],
   "source": [
    "# Substituting the value of true positive\n",
    "TP = confusion1[1,1]\n",
    "# Substituting the value of true negatives\n",
    "TN = confusion1[0,0]\n",
    "# Substituting the value of false positives\n",
    "FP = confusion1[0,1] \n",
    "# Substituting the value of false negatives\n",
    "FN = confusion1[1,0]"
   ]
  },
  {
   "cell_type": "markdown",
   "id": "4e47173c",
   "metadata": {},
   "source": [
    "#### Sensitivity and Specificity"
   ]
  },
  {
   "cell_type": "code",
   "execution_count": 78,
   "id": "f26ab2d5",
   "metadata": {},
   "outputs": [
    {
     "data": {
      "text/plain": [
       "0.697"
      ]
     },
     "execution_count": 78,
     "metadata": {},
     "output_type": "execute_result"
    }
   ],
   "source": [
    "# Calculating the sensitivity\n",
    "round(TP/(TP+FN),3)"
   ]
  },
  {
   "cell_type": "code",
   "execution_count": 79,
   "id": "b39b8437",
   "metadata": {},
   "outputs": [
    {
     "data": {
      "text/plain": [
       "0.89"
      ]
     },
     "execution_count": 79,
     "metadata": {},
     "output_type": "execute_result"
    }
   ],
   "source": [
    "# Calculating the specificity\n",
    "round(TN/(TN+FP),2)"
   ]
  },
  {
   "cell_type": "markdown",
   "id": "a70353fa",
   "metadata": {},
   "source": [
    "### Optimal Cutoff using ROC curve\n",
    "An ROC curve demonstrates several things:\n",
    "\n",
    "It shows the tradeoff between sensitivity and specificity (any increase in sensitivity will be accompanied by a decrease in specificity).\n",
    "The closer the curve follows the left-hand border and then the top border of the ROC space, the more accurate the test.\n",
    "The closer the curve comes to the 45-degree diagonal of the ROC space, the less accurate the test."
   ]
  },
  {
   "cell_type": "code",
   "execution_count": 80,
   "id": "36db436d",
   "metadata": {},
   "outputs": [],
   "source": [
    "# ROC function\n",
    "def draw_roc( actual, probs ):\n",
    "    fpr, tpr, thresholds = metrics.roc_curve( actual, probs,\n",
    "                                              drop_intermediate = False )\n",
    "    auc_score = metrics.roc_auc_score( actual, probs )\n",
    "    plt.figure(figsize=(5, 5))\n",
    "    plt.plot( fpr, tpr, label='ROC curve (area = %0.2f)' % auc_score )\n",
    "    plt.plot([0, 1], [0, 1], 'k--')\n",
    "    plt.xlim([0.0, 1.0])\n",
    "    plt.ylim([0.0, 1.05])\n",
    "    plt.xlabel('False Positive Rate or [1 - True Negative Rate]')\n",
    "    plt.ylabel('True Positive Rate')\n",
    "    plt.title('Receiver operating characteristic example')\n",
    "    plt.legend(loc=\"lower right\")\n",
    "    plt.show()\n",
    "\n",
    "    return None"
   ]
  },
  {
   "cell_type": "code",
   "execution_count": 81,
   "id": "e367e2bb",
   "metadata": {},
   "outputs": [],
   "source": [
    "fpr, tpr, thresholds = metrics.roc_curve( y_train_pred_final.Converted, y_train_pred_final.Conversion_Prob, drop_intermediate = False )"
   ]
  },
  {
   "cell_type": "code",
   "execution_count": 82,
   "id": "ddfd6425",
   "metadata": {},
   "outputs": [
    {
     "data": {
      "image/png": "[encoded data removed]",
      "text/plain": [
       "<Figure size 360x360 with 1 Axes>"
      ]
     },
     "metadata": {
      "needs_background": "light"
     },
     "output_type": "display_data"
    }
   ],
   "source": [
    "# Call the ROC function\n",
    "draw_roc(y_train_pred_final.Converted, y_train_pred_final.Conversion_Prob)"
   ]
  },
  {
   "cell_type": "code",
   "execution_count": 83,
   "id": "93d2eb04",
   "metadata": {},
   "outputs": [
    {
     "data": {
      "text/html": [
       "<div>\n",
       "<style scoped>\n",
       "    .dataframe tbody tr th:only-of-type {\n",
       "        vertical-align: middle;\n",
       "    }\n",
       "\n",
       "    .dataframe tbody tr th {\n",
       "        vertical-align: top;\n",
       "    }\n",
       "\n",
       "    .dataframe thead th {\n",
       "        text-align: right;\n",
       "    }\n",
       "</style>\n",
       "<table border=\"1\" class=\"dataframe\">\n",
       "  <thead>\n",
       "    <tr style=\"text-align: right;\">\n",
       "      <th></th>\n",
       "      <th>Converted</th>\n",
       "      <th>Conversion_Prob</th>\n",
       "      <th>Predicted</th>\n",
       "      <th>0.0</th>\n",
       "      <th>0.1</th>\n",
       "      <th>0.2</th>\n",
       "      <th>0.3</th>\n",
       "      <th>0.4</th>\n",
       "      <th>0.5</th>\n",
       "      <th>0.6</th>\n",
       "      <th>0.7</th>\n",
       "      <th>0.8</th>\n",
       "      <th>0.9</th>\n",
       "    </tr>\n",
       "  </thead>\n",
       "  <tbody>\n",
       "    <tr>\n",
       "      <th>0</th>\n",
       "      <td>0</td>\n",
       "      <td>0.063800</td>\n",
       "      <td>0</td>\n",
       "      <td>1</td>\n",
       "      <td>0</td>\n",
       "      <td>0</td>\n",
       "      <td>0</td>\n",
       "      <td>0</td>\n",
       "      <td>0</td>\n",
       "      <td>0</td>\n",
       "      <td>0</td>\n",
       "      <td>0</td>\n",
       "      <td>0</td>\n",
       "    </tr>\n",
       "    <tr>\n",
       "      <th>1</th>\n",
       "      <td>0</td>\n",
       "      <td>0.184639</td>\n",
       "      <td>0</td>\n",
       "      <td>1</td>\n",
       "      <td>1</td>\n",
       "      <td>0</td>\n",
       "      <td>0</td>\n",
       "      <td>0</td>\n",
       "      <td>0</td>\n",
       "      <td>0</td>\n",
       "      <td>0</td>\n",
       "      <td>0</td>\n",
       "      <td>0</td>\n",
       "    </tr>\n",
       "    <tr>\n",
       "      <th>2</th>\n",
       "      <td>0</td>\n",
       "      <td>0.619884</td>\n",
       "      <td>1</td>\n",
       "      <td>1</td>\n",
       "      <td>1</td>\n",
       "      <td>1</td>\n",
       "      <td>1</td>\n",
       "      <td>1</td>\n",
       "      <td>1</td>\n",
       "      <td>1</td>\n",
       "      <td>0</td>\n",
       "      <td>0</td>\n",
       "      <td>0</td>\n",
       "    </tr>\n",
       "    <tr>\n",
       "      <th>3</th>\n",
       "      <td>1</td>\n",
       "      <td>0.625962</td>\n",
       "      <td>1</td>\n",
       "      <td>1</td>\n",
       "      <td>1</td>\n",
       "      <td>1</td>\n",
       "      <td>1</td>\n",
       "      <td>1</td>\n",
       "      <td>1</td>\n",
       "      <td>1</td>\n",
       "      <td>0</td>\n",
       "      <td>0</td>\n",
       "      <td>0</td>\n",
       "    </tr>\n",
       "    <tr>\n",
       "      <th>4</th>\n",
       "      <td>1</td>\n",
       "      <td>0.913275</td>\n",
       "      <td>1</td>\n",
       "      <td>1</td>\n",
       "      <td>1</td>\n",
       "      <td>1</td>\n",
       "      <td>1</td>\n",
       "      <td>1</td>\n",
       "      <td>1</td>\n",
       "      <td>1</td>\n",
       "      <td>1</td>\n",
       "      <td>1</td>\n",
       "      <td>1</td>\n",
       "    </tr>\n",
       "  </tbody>\n",
       "</table>\n",
       "</div>"
      ],
      "text/plain": [
       "   Converted  Conversion_Prob  Predicted  0.0  0.1  0.2  0.3  0.4  0.5  0.6  \\\n",
       "0          0         0.063800          0    1    0    0    0    0    0    0   \n",
       "1          0         0.184639          0    1    1    0    0    0    0    0   \n",
       "2          0         0.619884          1    1    1    1    1    1    1    1   \n",
       "3          1         0.625962          1    1    1    1    1    1    1    1   \n",
       "4          1         0.913275          1    1    1    1    1    1    1    1   \n",
       "\n",
       "   0.7  0.8  0.9  \n",
       "0    0    0    0  \n",
       "1    0    0    0  \n",
       "2    0    0    0  \n",
       "3    0    0    0  \n",
       "4    1    1    1  "
      ]
     },
     "execution_count": 83,
     "metadata": {},
     "output_type": "execute_result"
    }
   ],
   "source": [
    "# Creating columns with different probability cutoffs \n",
    "numbers = [float(x)/10 for x in range(10)]\n",
    "for i in numbers:\n",
    "    y_train_pred_final[i]= y_train_pred_final.Conversion_Prob.map(lambda x: 1 if x > i else 0)\n",
    "y_train_pred_final.head()"
   ]
  },
  {
   "cell_type": "code",
   "execution_count": 84,
   "id": "da4fd70c",
   "metadata": {},
   "outputs": [
    {
     "data": {
      "text/html": [
       "<div>\n",
       "<style scoped>\n",
       "    .dataframe tbody tr th:only-of-type {\n",
       "        vertical-align: middle;\n",
       "    }\n",
       "\n",
       "    .dataframe tbody tr th {\n",
       "        vertical-align: top;\n",
       "    }\n",
       "\n",
       "    .dataframe thead th {\n",
       "        text-align: right;\n",
       "    }\n",
       "</style>\n",
       "<table border=\"1\" class=\"dataframe\">\n",
       "  <thead>\n",
       "    <tr style=\"text-align: right;\">\n",
       "      <th></th>\n",
       "      <th>probability</th>\n",
       "      <th>accuracy</th>\n",
       "      <th>sensitivity</th>\n",
       "      <th>specificity</th>\n",
       "    </tr>\n",
       "  </thead>\n",
       "  <tbody>\n",
       "    <tr>\n",
       "      <th>0.0</th>\n",
       "      <td>0.0</td>\n",
       "      <td>0.385136</td>\n",
       "      <td>1.000000</td>\n",
       "      <td>0.000000</td>\n",
       "    </tr>\n",
       "    <tr>\n",
       "      <th>0.1</th>\n",
       "      <td>0.1</td>\n",
       "      <td>0.594080</td>\n",
       "      <td>0.982829</td>\n",
       "      <td>0.350576</td>\n",
       "    </tr>\n",
       "    <tr>\n",
       "      <th>0.2</th>\n",
       "      <td>0.2</td>\n",
       "      <td>0.757361</td>\n",
       "      <td>0.918643</td>\n",
       "      <td>0.656338</td>\n",
       "    </tr>\n",
       "    <tr>\n",
       "      <th>0.3</th>\n",
       "      <td>0.3</td>\n",
       "      <td>0.787750</td>\n",
       "      <td>0.874080</td>\n",
       "      <td>0.733675</td>\n",
       "    </tr>\n",
       "    <tr>\n",
       "      <th>0.4</th>\n",
       "      <td>0.4</td>\n",
       "      <td>0.809006</td>\n",
       "      <td>0.761652</td>\n",
       "      <td>0.838668</td>\n",
       "    </tr>\n",
       "    <tr>\n",
       "      <th>0.5</th>\n",
       "      <td>0.5</td>\n",
       "      <td>0.812785</td>\n",
       "      <td>0.697465</td>\n",
       "      <td>0.885019</td>\n",
       "    </tr>\n",
       "    <tr>\n",
       "      <th>0.6</th>\n",
       "      <td>0.6</td>\n",
       "      <td>0.805700</td>\n",
       "      <td>0.635732</td>\n",
       "      <td>0.912164</td>\n",
       "    </tr>\n",
       "    <tr>\n",
       "      <th>0.7</th>\n",
       "      <td>0.7</td>\n",
       "      <td>0.782869</td>\n",
       "      <td>0.522895</td>\n",
       "      <td>0.945711</td>\n",
       "    </tr>\n",
       "    <tr>\n",
       "      <th>0.8</th>\n",
       "      <td>0.8</td>\n",
       "      <td>0.759723</td>\n",
       "      <td>0.426410</td>\n",
       "      <td>0.968502</td>\n",
       "    </tr>\n",
       "    <tr>\n",
       "      <th>0.9</th>\n",
       "      <td>0.9</td>\n",
       "      <td>0.709337</td>\n",
       "      <td>0.266558</td>\n",
       "      <td>0.986684</td>\n",
       "    </tr>\n",
       "  </tbody>\n",
       "</table>\n",
       "</div>"
      ],
      "text/plain": [
       "     probability  accuracy  sensitivity  specificity\n",
       "0.0          0.0  0.385136     1.000000     0.000000\n",
       "0.1          0.1  0.594080     0.982829     0.350576\n",
       "0.2          0.2  0.757361     0.918643     0.656338\n",
       "0.3          0.3  0.787750     0.874080     0.733675\n",
       "0.4          0.4  0.809006     0.761652     0.838668\n",
       "0.5          0.5  0.812785     0.697465     0.885019\n",
       "0.6          0.6  0.805700     0.635732     0.912164\n",
       "0.7          0.7  0.782869     0.522895     0.945711\n",
       "0.8          0.8  0.759723     0.426410     0.968502\n",
       "0.9          0.9  0.709337     0.266558     0.986684"
      ]
     },
     "execution_count": 84,
     "metadata": {},
     "output_type": "execute_result"
    }
   ],
   "source": [
    "# Creating a dataframe to see the values of accuracy, sensitivity, and specificity at different values of probabiity cutoffs\n",
    "cutoff_df = pd.DataFrame( columns = ['probability','accuracy','sensitivity','specificity'])\n",
    "# Making confusing matrix to find values of sensitivity, accurace and specificity for each level of probablity\n",
    "from sklearn.metrics import confusion_matrix\n",
    "num = [0.0,0.1,0.2,0.3,0.4,0.5,0.6,0.7,0.8,0.9]\n",
    "for i in num:\n",
    "    cm1 = metrics.confusion_matrix(y_train_pred_final.Converted, y_train_pred_final[i] )\n",
    "    total1=sum(sum(cm1))\n",
    "    accuracy = (cm1[0,0]+cm1[1,1])/total1\n",
    "    \n",
    "    speci = cm1[0,0]/(cm1[0,0]+cm1[0,1])\n",
    "    sensi = cm1[1,1]/(cm1[1,0]+cm1[1,1])\n",
    "    cutoff_df.loc[i] =[ i ,accuracy,sensi,speci]\n",
    "cutoff_df"
   ]
  },
  {
   "cell_type": "code",
   "execution_count": 85,
   "id": "09ef6d9a",
   "metadata": {},
   "outputs": [
    {
     "data": {
      "image/png": "[encoded data removed]",
      "text/plain": [
       "<Figure size 432x288 with 1 Axes>"
      ]
     },
     "metadata": {
      "needs_background": "light"
     },
     "output_type": "display_data"
    }
   ],
   "source": [
    "# Plotting it\n",
    "cutoff_df.plot.line(x='probability', y=['accuracy','sensitivity','specificity'])\n",
    "plt.show()"
   ]
  },
  {
   "cell_type": "code",
   "execution_count": 86,
   "id": "7a51bbdf",
   "metadata": {},
   "outputs": [
    {
     "data": {
      "text/html": [
       "<div>\n",
       "<style scoped>\n",
       "    .dataframe tbody tr th:only-of-type {\n",
       "        vertical-align: middle;\n",
       "    }\n",
       "\n",
       "    .dataframe tbody tr th {\n",
       "        vertical-align: top;\n",
       "    }\n",
       "\n",
       "    .dataframe thead th {\n",
       "        text-align: right;\n",
       "    }\n",
       "</style>\n",
       "<table border=\"1\" class=\"dataframe\">\n",
       "  <thead>\n",
       "    <tr style=\"text-align: right;\">\n",
       "      <th></th>\n",
       "      <th>Converted</th>\n",
       "      <th>Conversion_Prob</th>\n",
       "      <th>Predicted</th>\n",
       "      <th>0.0</th>\n",
       "      <th>0.1</th>\n",
       "      <th>0.2</th>\n",
       "      <th>0.3</th>\n",
       "      <th>0.4</th>\n",
       "      <th>0.5</th>\n",
       "      <th>0.6</th>\n",
       "      <th>0.7</th>\n",
       "      <th>0.8</th>\n",
       "      <th>0.9</th>\n",
       "      <th>final_predicted</th>\n",
       "    </tr>\n",
       "  </thead>\n",
       "  <tbody>\n",
       "    <tr>\n",
       "      <th>0</th>\n",
       "      <td>0</td>\n",
       "      <td>0.063800</td>\n",
       "      <td>0</td>\n",
       "      <td>1</td>\n",
       "      <td>0</td>\n",
       "      <td>0</td>\n",
       "      <td>0</td>\n",
       "      <td>0</td>\n",
       "      <td>0</td>\n",
       "      <td>0</td>\n",
       "      <td>0</td>\n",
       "      <td>0</td>\n",
       "      <td>0</td>\n",
       "      <td>0</td>\n",
       "    </tr>\n",
       "    <tr>\n",
       "      <th>1</th>\n",
       "      <td>0</td>\n",
       "      <td>0.184639</td>\n",
       "      <td>0</td>\n",
       "      <td>1</td>\n",
       "      <td>1</td>\n",
       "      <td>0</td>\n",
       "      <td>0</td>\n",
       "      <td>0</td>\n",
       "      <td>0</td>\n",
       "      <td>0</td>\n",
       "      <td>0</td>\n",
       "      <td>0</td>\n",
       "      <td>0</td>\n",
       "      <td>0</td>\n",
       "    </tr>\n",
       "    <tr>\n",
       "      <th>2</th>\n",
       "      <td>0</td>\n",
       "      <td>0.619884</td>\n",
       "      <td>1</td>\n",
       "      <td>1</td>\n",
       "      <td>1</td>\n",
       "      <td>1</td>\n",
       "      <td>1</td>\n",
       "      <td>1</td>\n",
       "      <td>1</td>\n",
       "      <td>1</td>\n",
       "      <td>0</td>\n",
       "      <td>0</td>\n",
       "      <td>0</td>\n",
       "      <td>1</td>\n",
       "    </tr>\n",
       "    <tr>\n",
       "      <th>3</th>\n",
       "      <td>1</td>\n",
       "      <td>0.625962</td>\n",
       "      <td>1</td>\n",
       "      <td>1</td>\n",
       "      <td>1</td>\n",
       "      <td>1</td>\n",
       "      <td>1</td>\n",
       "      <td>1</td>\n",
       "      <td>1</td>\n",
       "      <td>1</td>\n",
       "      <td>0</td>\n",
       "      <td>0</td>\n",
       "      <td>0</td>\n",
       "      <td>1</td>\n",
       "    </tr>\n",
       "    <tr>\n",
       "      <th>4</th>\n",
       "      <td>1</td>\n",
       "      <td>0.913275</td>\n",
       "      <td>1</td>\n",
       "      <td>1</td>\n",
       "      <td>1</td>\n",
       "      <td>1</td>\n",
       "      <td>1</td>\n",
       "      <td>1</td>\n",
       "      <td>1</td>\n",
       "      <td>1</td>\n",
       "      <td>1</td>\n",
       "      <td>1</td>\n",
       "      <td>1</td>\n",
       "      <td>1</td>\n",
       "    </tr>\n",
       "  </tbody>\n",
       "</table>\n",
       "</div>"
      ],
      "text/plain": [
       "   Converted  Conversion_Prob  Predicted  0.0  0.1  0.2  0.3  0.4  0.5  0.6  \\\n",
       "0          0         0.063800          0    1    0    0    0    0    0    0   \n",
       "1          0         0.184639          0    1    1    0    0    0    0    0   \n",
       "2          0         0.619884          1    1    1    1    1    1    1    1   \n",
       "3          1         0.625962          1    1    1    1    1    1    1    1   \n",
       "4          1         0.913275          1    1    1    1    1    1    1    1   \n",
       "\n",
       "   0.7  0.8  0.9  final_predicted  \n",
       "0    0    0    0                0  \n",
       "1    0    0    0                0  \n",
       "2    0    0    0                1  \n",
       "3    0    0    0                1  \n",
       "4    1    1    1                1  "
      ]
     },
     "execution_count": 86,
     "metadata": {},
     "output_type": "execute_result"
    }
   ],
   "source": [
    "# Substituting 0 or 1 with the cut off as 0.38 based on the ROC curve\n",
    "y_train_pred_final['final_predicted'] = y_train_pred_final.Conversion_Prob.map( lambda x: 1 if x > 0.38 else 0)\n",
    "y_train_pred_final.head()"
   ]
  },
  {
   "cell_type": "markdown",
   "id": "f33ccd65",
   "metadata": {},
   "source": [
    "#### Accuracy (using ROC curve)"
   ]
  },
  {
   "cell_type": "code",
   "execution_count": 87,
   "id": "4a95762f",
   "metadata": {},
   "outputs": [
    {
     "data": {
      "text/plain": [
       "0.81"
      ]
     },
     "execution_count": 87,
     "metadata": {},
     "output_type": "execute_result"
    }
   ],
   "source": [
    "# Check the overall accuracy\n",
    "metrics.accuracy_score(y_train_pred_final.Converted, y_train_pred_final.final_predicted).round(2)"
   ]
  },
  {
   "cell_type": "code",
   "execution_count": 88,
   "id": "ac97c649",
   "metadata": {},
   "outputs": [
    {
     "data": {
      "text/plain": [
       "array([[3228,  677],\n",
       "       [ 544, 1902]], dtype=int64)"
      ]
     },
     "execution_count": 88,
     "metadata": {},
     "output_type": "execute_result"
    }
   ],
   "source": [
    "# Creating confusion matrix \n",
    "confusion2 = metrics.confusion_matrix(y_train_pred_final.Converted, y_train_pred_final.final_predicted )\n",
    "confusion2"
   ]
  },
  {
   "cell_type": "code",
   "execution_count": 89,
   "id": "0bc57e19",
   "metadata": {},
   "outputs": [],
   "source": [
    "# Substituting the value of true positive\n",
    "TP = confusion2[1,1]\n",
    "# Substituting the value of true negatives\n",
    "TN = confusion2[0,0]\n",
    "# Substituting the value of false positives\n",
    "FP = confusion2[0,1] \n",
    "# Substituting the value of false negatives\n",
    "FN = confusion2[1,0]"
   ]
  },
  {
   "cell_type": "markdown",
   "id": "7d1c9aca",
   "metadata": {},
   "source": [
    "#### Sensitivity and Specificity (using ROC curve)"
   ]
  },
  {
   "cell_type": "code",
   "execution_count": 90,
   "id": "7593fd99",
   "metadata": {},
   "outputs": [
    {
     "data": {
      "text/plain": [
       "0.78"
      ]
     },
     "execution_count": 90,
     "metadata": {},
     "output_type": "execute_result"
    }
   ],
   "source": [
    "# Calculating the sensitivity\n",
    "round(TP/(TP+FN),2)"
   ]
  },
  {
   "cell_type": "code",
   "execution_count": 91,
   "id": "8ff50b61",
   "metadata": {},
   "outputs": [
    {
     "data": {
      "text/plain": [
       "0.83"
      ]
     },
     "execution_count": 91,
     "metadata": {},
     "output_type": "execute_result"
    }
   ],
   "source": [
    "# Calculating the specificity\n",
    "round(TN/(TN+FP),2)"
   ]
  },
  {
   "cell_type": "markdown",
   "id": "370697db",
   "metadata": {},
   "source": [
    "### Precesion and Recall"
   ]
  },
  {
   "cell_type": "code",
   "execution_count": 92,
   "id": "37ee3e5e",
   "metadata": {},
   "outputs": [
    {
     "data": {
      "text/plain": [
       "array([[3456,  449],\n",
       "       [ 740, 1706]], dtype=int64)"
      ]
     },
     "execution_count": 92,
     "metadata": {},
     "output_type": "execute_result"
    }
   ],
   "source": [
    "# Creating confusion matrix \n",
    "confusion2 = metrics.confusion_matrix(y_train_pred_final.Converted, y_train_pred_final.Predicted )\n",
    "confusion2"
   ]
  },
  {
   "cell_type": "code",
   "execution_count": 93,
   "id": "dd637811",
   "metadata": {},
   "outputs": [],
   "source": [
    "# Substituting the value of true positive\n",
    "TP = confusion2[1,1]\n",
    "# Substituting the value of true negatives\n",
    "TN = confusion2[0,0]\n",
    "# Substituting the value of false positives\n",
    "FP = confusion2[0,1] \n",
    "# Substituting the value of false negatives\n",
    "FN = confusion2[1,0]"
   ]
  },
  {
   "cell_type": "code",
   "execution_count": 94,
   "id": "c312d33c",
   "metadata": {},
   "outputs": [
    {
     "data": {
      "text/plain": [
       "0.79"
      ]
     },
     "execution_count": 94,
     "metadata": {},
     "output_type": "execute_result"
    }
   ],
   "source": [
    "# Precesion\n",
    "round(TP/(TP+FP),2)"
   ]
  },
  {
   "cell_type": "code",
   "execution_count": 95,
   "id": "e8da3898",
   "metadata": {},
   "outputs": [
    {
     "data": {
      "text/plain": [
       "0.7"
      ]
     },
     "execution_count": 95,
     "metadata": {},
     "output_type": "execute_result"
    }
   ],
   "source": [
    "#Recall\n",
    "round(TP/(TP+FN),2)"
   ]
  },
  {
   "cell_type": "markdown",
   "id": "57184415",
   "metadata": {},
   "source": [
    "#### Precision and Recall tradeoff"
   ]
  },
  {
   "cell_type": "code",
   "execution_count": 96,
   "id": "0adb9bd7",
   "metadata": {},
   "outputs": [],
   "source": [
    "# import required library\n",
    "from sklearn.metrics import precision_recall_curve"
   ]
  },
  {
   "cell_type": "code",
   "execution_count": 97,
   "id": "e661f861",
   "metadata": {},
   "outputs": [],
   "source": [
    "p, r, thresholds = precision_recall_curve(y_train_pred_final.Converted, y_train_pred_final.Conversion_Prob)"
   ]
  },
  {
   "cell_type": "code",
   "execution_count": 98,
   "id": "299219af",
   "metadata": {},
   "outputs": [
    {
     "data": {
      "image/png": "[encoded data removed]",
      "text/plain": [
       "<Figure size 432x288 with 1 Axes>"
      ]
     },
     "metadata": {
      "needs_background": "light"
     },
     "output_type": "display_data"
    }
   ],
   "source": [
    "plt.plot(thresholds, p[:-1], \"g-\")\n",
    "plt.plot(thresholds, r[:-1], \"r-\")\n",
    "plt.show()"
   ]
  },
  {
   "cell_type": "code",
   "execution_count": 99,
   "id": "7bec21c7",
   "metadata": {},
   "outputs": [
    {
     "data": {
      "text/html": [
       "<div>\n",
       "<style scoped>\n",
       "    .dataframe tbody tr th:only-of-type {\n",
       "        vertical-align: middle;\n",
       "    }\n",
       "\n",
       "    .dataframe tbody tr th {\n",
       "        vertical-align: top;\n",
       "    }\n",
       "\n",
       "    .dataframe thead th {\n",
       "        text-align: right;\n",
       "    }\n",
       "</style>\n",
       "<table border=\"1\" class=\"dataframe\">\n",
       "  <thead>\n",
       "    <tr style=\"text-align: right;\">\n",
       "      <th></th>\n",
       "      <th>Converted</th>\n",
       "      <th>Conversion_Prob</th>\n",
       "      <th>Predicted</th>\n",
       "      <th>0.0</th>\n",
       "      <th>0.1</th>\n",
       "      <th>0.2</th>\n",
       "      <th>0.3</th>\n",
       "      <th>0.4</th>\n",
       "      <th>0.5</th>\n",
       "      <th>0.6</th>\n",
       "      <th>0.7</th>\n",
       "      <th>0.8</th>\n",
       "      <th>0.9</th>\n",
       "      <th>final_predicted</th>\n",
       "    </tr>\n",
       "  </thead>\n",
       "  <tbody>\n",
       "    <tr>\n",
       "      <th>0</th>\n",
       "      <td>0</td>\n",
       "      <td>0.063800</td>\n",
       "      <td>0</td>\n",
       "      <td>1</td>\n",
       "      <td>0</td>\n",
       "      <td>0</td>\n",
       "      <td>0</td>\n",
       "      <td>0</td>\n",
       "      <td>0</td>\n",
       "      <td>0</td>\n",
       "      <td>0</td>\n",
       "      <td>0</td>\n",
       "      <td>0</td>\n",
       "      <td>0</td>\n",
       "    </tr>\n",
       "    <tr>\n",
       "      <th>1</th>\n",
       "      <td>0</td>\n",
       "      <td>0.184639</td>\n",
       "      <td>0</td>\n",
       "      <td>1</td>\n",
       "      <td>1</td>\n",
       "      <td>0</td>\n",
       "      <td>0</td>\n",
       "      <td>0</td>\n",
       "      <td>0</td>\n",
       "      <td>0</td>\n",
       "      <td>0</td>\n",
       "      <td>0</td>\n",
       "      <td>0</td>\n",
       "      <td>0</td>\n",
       "    </tr>\n",
       "    <tr>\n",
       "      <th>2</th>\n",
       "      <td>0</td>\n",
       "      <td>0.619884</td>\n",
       "      <td>1</td>\n",
       "      <td>1</td>\n",
       "      <td>1</td>\n",
       "      <td>1</td>\n",
       "      <td>1</td>\n",
       "      <td>1</td>\n",
       "      <td>1</td>\n",
       "      <td>1</td>\n",
       "      <td>0</td>\n",
       "      <td>0</td>\n",
       "      <td>0</td>\n",
       "      <td>1</td>\n",
       "    </tr>\n",
       "    <tr>\n",
       "      <th>3</th>\n",
       "      <td>1</td>\n",
       "      <td>0.625962</td>\n",
       "      <td>1</td>\n",
       "      <td>1</td>\n",
       "      <td>1</td>\n",
       "      <td>1</td>\n",
       "      <td>1</td>\n",
       "      <td>1</td>\n",
       "      <td>1</td>\n",
       "      <td>1</td>\n",
       "      <td>0</td>\n",
       "      <td>0</td>\n",
       "      <td>0</td>\n",
       "      <td>1</td>\n",
       "    </tr>\n",
       "    <tr>\n",
       "      <th>4</th>\n",
       "      <td>1</td>\n",
       "      <td>0.913275</td>\n",
       "      <td>1</td>\n",
       "      <td>1</td>\n",
       "      <td>1</td>\n",
       "      <td>1</td>\n",
       "      <td>1</td>\n",
       "      <td>1</td>\n",
       "      <td>1</td>\n",
       "      <td>1</td>\n",
       "      <td>1</td>\n",
       "      <td>1</td>\n",
       "      <td>1</td>\n",
       "      <td>1</td>\n",
       "    </tr>\n",
       "  </tbody>\n",
       "</table>\n",
       "</div>"
      ],
      "text/plain": [
       "   Converted  Conversion_Prob  Predicted  0.0  0.1  0.2  0.3  0.4  0.5  0.6  \\\n",
       "0          0         0.063800          0    1    0    0    0    0    0    0   \n",
       "1          0         0.184639          0    1    1    0    0    0    0    0   \n",
       "2          0         0.619884          1    1    1    1    1    1    1    1   \n",
       "3          1         0.625962          1    1    1    1    1    1    1    1   \n",
       "4          1         0.913275          1    1    1    1    1    1    1    1   \n",
       "\n",
       "   0.7  0.8  0.9  final_predicted  \n",
       "0    0    0    0                0  \n",
       "1    0    0    0                0  \n",
       "2    0    0    0                1  \n",
       "3    0    0    0                1  \n",
       "4    1    1    1                1  "
      ]
     },
     "execution_count": 99,
     "metadata": {},
     "output_type": "execute_result"
    }
   ],
   "source": [
    "# Substituting 0 or 1 with the cut off as 0.42 based on the Precision and Recall tradeoff\n",
    "y_train_pred_final['final_predicted'] = y_train_pred_final.Conversion_Prob.map(lambda x: 1 if x > 0.42 else 0)\n",
    "\n",
    "y_train_pred_final.head()"
   ]
  },
  {
   "cell_type": "code",
   "execution_count": 100,
   "id": "da3de7cc",
   "metadata": {},
   "outputs": [
    {
     "data": {
      "text/plain": [
       "0.81"
      ]
     },
     "execution_count": 100,
     "metadata": {},
     "output_type": "execute_result"
    }
   ],
   "source": [
    "# Let's check the accuracy now\n",
    "\n",
    "metrics.accuracy_score(y_train_pred_final.Converted, y_train_pred_final.final_predicted).round(2)"
   ]
  },
  {
   "cell_type": "code",
   "execution_count": 101,
   "id": "f14c1022",
   "metadata": {},
   "outputs": [
    {
     "data": {
      "text/plain": [
       "array([[3327,  578],\n",
       "       [ 607, 1839]], dtype=int64)"
      ]
     },
     "execution_count": 101,
     "metadata": {},
     "output_type": "execute_result"
    }
   ],
   "source": [
    "# Let's create the confusion matrix once again\n",
    "confusion2 = metrics.confusion_matrix(y_train_pred_final.Converted, y_train_pred_final.final_predicted )\n",
    "confusion2"
   ]
  },
  {
   "cell_type": "code",
   "execution_count": 102,
   "id": "e4b834c4",
   "metadata": {},
   "outputs": [],
   "source": [
    "# Let's evaluate the other metrics as well\n",
    "TP = confusion2[1,1] # true positive \n",
    "TN = confusion2[0,0] # true negatives\n",
    "FP = confusion2[0,1] # false positives\n",
    "FN = confusion2[1,0] # false negatives"
   ]
  },
  {
   "cell_type": "code",
   "execution_count": 103,
   "id": "0ce840ee",
   "metadata": {},
   "outputs": [
    {
     "data": {
      "text/plain": [
       "0.76"
      ]
     },
     "execution_count": 103,
     "metadata": {},
     "output_type": "execute_result"
    }
   ],
   "source": [
    "# Calculate Precision\n",
    "round(TP/(TP+FP),2)"
   ]
  },
  {
   "cell_type": "code",
   "execution_count": 104,
   "id": "ca664c3a",
   "metadata": {},
   "outputs": [
    {
     "data": {
      "text/plain": [
       "0.75"
      ]
     },
     "execution_count": 104,
     "metadata": {},
     "output_type": "execute_result"
    }
   ],
   "source": [
    "# Calculate Recall\n",
    "round(TP/(TP+FN),2)"
   ]
  },
  {
   "cell_type": "markdown",
   "id": "4c20d0eb",
   "metadata": {},
   "source": [
    "## Step 7: Making Predictions on the Test Set\n",
    "Let's now make predicitons on the test set."
   ]
  },
  {
   "cell_type": "code",
   "execution_count": 105,
   "id": "7d4ce453",
   "metadata": {},
   "outputs": [],
   "source": [
    "# Feature scaling on Test dataset\n",
    "X_test[['TotalVisits','Total Time Spent on Website','Page Views Per Visit']] = scaler.transform(X_test[['TotalVisits','Total Time Spent on Website','Page Views Per Visit']])"
   ]
  },
  {
   "cell_type": "code",
   "execution_count": 106,
   "id": "517cc173",
   "metadata": {},
   "outputs": [
    {
     "data": {
      "text/html": [
       "<div>\n",
       "<style scoped>\n",
       "    .dataframe tbody tr th:only-of-type {\n",
       "        vertical-align: middle;\n",
       "    }\n",
       "\n",
       "    .dataframe tbody tr th {\n",
       "        vertical-align: top;\n",
       "    }\n",
       "\n",
       "    .dataframe thead th {\n",
       "        text-align: right;\n",
       "    }\n",
       "</style>\n",
       "<table border=\"1\" class=\"dataframe\">\n",
       "  <thead>\n",
       "    <tr style=\"text-align: right;\">\n",
       "      <th></th>\n",
       "      <th>TotalVisits</th>\n",
       "      <th>Total Time Spent on Website</th>\n",
       "      <th>Lead Origin_Lead Add Form</th>\n",
       "      <th>Lead Source_Olark Chat</th>\n",
       "      <th>Lead Source_Welingak Website</th>\n",
       "      <th>Last Activity_Converted to Lead</th>\n",
       "      <th>Last Activity_Email Bounced</th>\n",
       "      <th>Last Activity_Olark Chat Conversation</th>\n",
       "      <th>Last Activity_SMS Sent</th>\n",
       "      <th>What is your current occupation_NA</th>\n",
       "      <th>What is your current occupation_Working Professional</th>\n",
       "      <th>Last Notable Activity_Had a Phone Conversation</th>\n",
       "      <th>Last Notable Activity_Unreachable</th>\n",
       "    </tr>\n",
       "  </thead>\n",
       "  <tbody>\n",
       "    <tr>\n",
       "      <th>3271</th>\n",
       "      <td>0.235294</td>\n",
       "      <td>0.070530</td>\n",
       "      <td>0</td>\n",
       "      <td>0</td>\n",
       "      <td>0</td>\n",
       "      <td>0</td>\n",
       "      <td>0</td>\n",
       "      <td>0</td>\n",
       "      <td>0</td>\n",
       "      <td>1</td>\n",
       "      <td>0</td>\n",
       "      <td>0</td>\n",
       "      <td>0</td>\n",
       "    </tr>\n",
       "    <tr>\n",
       "      <th>1490</th>\n",
       "      <td>0.294118</td>\n",
       "      <td>0.679695</td>\n",
       "      <td>0</td>\n",
       "      <td>0</td>\n",
       "      <td>0</td>\n",
       "      <td>0</td>\n",
       "      <td>0</td>\n",
       "      <td>0</td>\n",
       "      <td>0</td>\n",
       "      <td>0</td>\n",
       "      <td>1</td>\n",
       "      <td>0</td>\n",
       "      <td>0</td>\n",
       "    </tr>\n",
       "    <tr>\n",
       "      <th>7936</th>\n",
       "      <td>0.117647</td>\n",
       "      <td>0.033243</td>\n",
       "      <td>0</td>\n",
       "      <td>0</td>\n",
       "      <td>0</td>\n",
       "      <td>0</td>\n",
       "      <td>0</td>\n",
       "      <td>0</td>\n",
       "      <td>0</td>\n",
       "      <td>1</td>\n",
       "      <td>0</td>\n",
       "      <td>0</td>\n",
       "      <td>0</td>\n",
       "    </tr>\n",
       "    <tr>\n",
       "      <th>4216</th>\n",
       "      <td>0.000000</td>\n",
       "      <td>0.000000</td>\n",
       "      <td>1</td>\n",
       "      <td>0</td>\n",
       "      <td>0</td>\n",
       "      <td>0</td>\n",
       "      <td>0</td>\n",
       "      <td>0</td>\n",
       "      <td>0</td>\n",
       "      <td>0</td>\n",
       "      <td>0</td>\n",
       "      <td>0</td>\n",
       "      <td>0</td>\n",
       "    </tr>\n",
       "    <tr>\n",
       "      <th>3830</th>\n",
       "      <td>0.470588</td>\n",
       "      <td>0.073675</td>\n",
       "      <td>0</td>\n",
       "      <td>0</td>\n",
       "      <td>0</td>\n",
       "      <td>0</td>\n",
       "      <td>0</td>\n",
       "      <td>0</td>\n",
       "      <td>0</td>\n",
       "      <td>1</td>\n",
       "      <td>0</td>\n",
       "      <td>0</td>\n",
       "      <td>0</td>\n",
       "    </tr>\n",
       "  </tbody>\n",
       "</table>\n",
       "</div>"
      ],
      "text/plain": [
       "      TotalVisits  Total Time Spent on Website  Lead Origin_Lead Add Form  \\\n",
       "3271     0.235294                     0.070530                          0   \n",
       "1490     0.294118                     0.679695                          0   \n",
       "7936     0.117647                     0.033243                          0   \n",
       "4216     0.000000                     0.000000                          1   \n",
       "3830     0.470588                     0.073675                          0   \n",
       "\n",
       "      Lead Source_Olark Chat  Lead Source_Welingak Website  \\\n",
       "3271                       0                             0   \n",
       "1490                       0                             0   \n",
       "7936                       0                             0   \n",
       "4216                       0                             0   \n",
       "3830                       0                             0   \n",
       "\n",
       "      Last Activity_Converted to Lead  Last Activity_Email Bounced  \\\n",
       "3271                                0                            0   \n",
       "1490                                0                            0   \n",
       "7936                                0                            0   \n",
       "4216                                0                            0   \n",
       "3830                                0                            0   \n",
       "\n",
       "      Last Activity_Olark Chat Conversation  Last Activity_SMS Sent  \\\n",
       "3271                                      0                       0   \n",
       "1490                                      0                       0   \n",
       "7936                                      0                       0   \n",
       "4216                                      0                       0   \n",
       "3830                                      0                       0   \n",
       "\n",
       "      What is your current occupation_NA  \\\n",
       "3271                                   1   \n",
       "1490                                   0   \n",
       "7936                                   1   \n",
       "4216                                   0   \n",
       "3830                                   1   \n",
       "\n",
       "      What is your current occupation_Working Professional  \\\n",
       "3271                                                  0      \n",
       "1490                                                  1      \n",
       "7936                                                  0      \n",
       "4216                                                  0      \n",
       "3830                                                  0      \n",
       "\n",
       "      Last Notable Activity_Had a Phone Conversation  \\\n",
       "3271                                               0   \n",
       "1490                                               0   \n",
       "7936                                               0   \n",
       "4216                                               0   \n",
       "3830                                               0   \n",
       "\n",
       "      Last Notable Activity_Unreachable  \n",
       "3271                                  0  \n",
       "1490                                  0  \n",
       "7936                                  0  \n",
       "4216                                  0  \n",
       "3830                                  0  "
      ]
     },
     "execution_count": 106,
     "metadata": {},
     "output_type": "execute_result"
    }
   ],
   "source": [
    "X_test = X_test[X.columns]\n",
    "X_test.head()"
   ]
  },
  {
   "cell_type": "code",
   "execution_count": 107,
   "id": "4502dc68",
   "metadata": {},
   "outputs": [],
   "source": [
    "# Add constant\n",
    "X_test_sm = sm.add_constant(X_test)"
   ]
  },
  {
   "cell_type": "code",
   "execution_count": 108,
   "id": "83e598e2",
   "metadata": {},
   "outputs": [],
   "source": [
    "# Run the prediction\n",
    "y_test_pred = res.predict(X_test_sm)"
   ]
  },
  {
   "cell_type": "code",
   "execution_count": 109,
   "id": "b6e09bf3",
   "metadata": {},
   "outputs": [
    {
     "data": {
      "text/plain": [
       "3271    0.042874\n",
       "1490    0.971406\n",
       "7936    0.033713\n",
       "4216    0.810140\n",
       "3830    0.050428\n",
       "1800    0.642439\n",
       "6507    0.323139\n",
       "4821    0.310969\n",
       "4223    0.931784\n",
       "4714    0.307742\n",
       "dtype: float64"
      ]
     },
     "execution_count": 109,
     "metadata": {},
     "output_type": "execute_result"
    }
   ],
   "source": [
    "# Check top 10 rows\n",
    "y_test_pred[:10]"
   ]
  },
  {
   "cell_type": "code",
   "execution_count": 110,
   "id": "bb0bd1ea",
   "metadata": {},
   "outputs": [],
   "source": [
    "# Converting y_pred to a dataframe\n",
    "y_pred_1 = pd.DataFrame(y_test_pred)"
   ]
  },
  {
   "cell_type": "code",
   "execution_count": 111,
   "id": "aa6672c0",
   "metadata": {},
   "outputs": [
    {
     "data": {
      "text/html": [
       "<div>\n",
       "<style scoped>\n",
       "    .dataframe tbody tr th:only-of-type {\n",
       "        vertical-align: middle;\n",
       "    }\n",
       "\n",
       "    .dataframe tbody tr th {\n",
       "        vertical-align: top;\n",
       "    }\n",
       "\n",
       "    .dataframe thead th {\n",
       "        text-align: right;\n",
       "    }\n",
       "</style>\n",
       "<table border=\"1\" class=\"dataframe\">\n",
       "  <thead>\n",
       "    <tr style=\"text-align: right;\">\n",
       "      <th></th>\n",
       "      <th>0</th>\n",
       "    </tr>\n",
       "  </thead>\n",
       "  <tbody>\n",
       "    <tr>\n",
       "      <th>3271</th>\n",
       "      <td>0.042874</td>\n",
       "    </tr>\n",
       "    <tr>\n",
       "      <th>1490</th>\n",
       "      <td>0.971406</td>\n",
       "    </tr>\n",
       "    <tr>\n",
       "      <th>7936</th>\n",
       "      <td>0.033713</td>\n",
       "    </tr>\n",
       "    <tr>\n",
       "      <th>4216</th>\n",
       "      <td>0.810140</td>\n",
       "    </tr>\n",
       "    <tr>\n",
       "      <th>3830</th>\n",
       "      <td>0.050428</td>\n",
       "    </tr>\n",
       "  </tbody>\n",
       "</table>\n",
       "</div>"
      ],
      "text/plain": [
       "             0\n",
       "3271  0.042874\n",
       "1490  0.971406\n",
       "7936  0.033713\n",
       "4216  0.810140\n",
       "3830  0.050428"
      ]
     },
     "execution_count": 111,
     "metadata": {},
     "output_type": "execute_result"
    }
   ],
   "source": [
    "# Let's see the head\n",
    "y_pred_1.head()"
   ]
  },
  {
   "cell_type": "code",
   "execution_count": 112,
   "id": "edd49517",
   "metadata": {},
   "outputs": [],
   "source": [
    "# Converting y_test to dataframe\n",
    "y_test_df = pd.DataFrame(y_test)"
   ]
  },
  {
   "cell_type": "code",
   "execution_count": 113,
   "id": "2fa1662a",
   "metadata": {},
   "outputs": [],
   "source": [
    "# Remove index for both dataframes to append them side by side \n",
    "y_pred_1.reset_index(drop=True, inplace=True)\n",
    "y_test_df.reset_index(drop=True, inplace=True)"
   ]
  },
  {
   "cell_type": "code",
   "execution_count": 114,
   "id": "fef4855a",
   "metadata": {},
   "outputs": [],
   "source": [
    "# Append y_test_df and y_pred_1\n",
    "y_pred_final = pd.concat([y_test_df, y_pred_1],axis=1)"
   ]
  },
  {
   "cell_type": "code",
   "execution_count": 115,
   "id": "7f107f6e",
   "metadata": {},
   "outputs": [
    {
     "data": {
      "text/html": [
       "<div>\n",
       "<style scoped>\n",
       "    .dataframe tbody tr th:only-of-type {\n",
       "        vertical-align: middle;\n",
       "    }\n",
       "\n",
       "    .dataframe tbody tr th {\n",
       "        vertical-align: top;\n",
       "    }\n",
       "\n",
       "    .dataframe thead th {\n",
       "        text-align: right;\n",
       "    }\n",
       "</style>\n",
       "<table border=\"1\" class=\"dataframe\">\n",
       "  <thead>\n",
       "    <tr style=\"text-align: right;\">\n",
       "      <th></th>\n",
       "      <th>Converted</th>\n",
       "      <th>0</th>\n",
       "    </tr>\n",
       "  </thead>\n",
       "  <tbody>\n",
       "    <tr>\n",
       "      <th>0</th>\n",
       "      <td>0</td>\n",
       "      <td>0.042874</td>\n",
       "    </tr>\n",
       "    <tr>\n",
       "      <th>1</th>\n",
       "      <td>1</td>\n",
       "      <td>0.971406</td>\n",
       "    </tr>\n",
       "    <tr>\n",
       "      <th>2</th>\n",
       "      <td>0</td>\n",
       "      <td>0.033713</td>\n",
       "    </tr>\n",
       "    <tr>\n",
       "      <th>3</th>\n",
       "      <td>1</td>\n",
       "      <td>0.810140</td>\n",
       "    </tr>\n",
       "    <tr>\n",
       "      <th>4</th>\n",
       "      <td>0</td>\n",
       "      <td>0.050428</td>\n",
       "    </tr>\n",
       "  </tbody>\n",
       "</table>\n",
       "</div>"
      ],
      "text/plain": [
       "   Converted         0\n",
       "0          0  0.042874\n",
       "1          1  0.971406\n",
       "2          0  0.033713\n",
       "3          1  0.810140\n",
       "4          0  0.050428"
      ]
     },
     "execution_count": 115,
     "metadata": {},
     "output_type": "execute_result"
    }
   ],
   "source": [
    "# Check 'y_pred_final'\n",
    "y_pred_final.head()"
   ]
  },
  {
   "cell_type": "code",
   "execution_count": 116,
   "id": "f0b7028c",
   "metadata": {},
   "outputs": [],
   "source": [
    "# Rename the column \n",
    "y_pred_final= y_pred_final.rename(columns = {0 : 'Conversion_Prob'})"
   ]
  },
  {
   "cell_type": "code",
   "execution_count": 117,
   "id": "b394e664",
   "metadata": {},
   "outputs": [
    {
     "data": {
      "text/html": [
       "<div>\n",
       "<style scoped>\n",
       "    .dataframe tbody tr th:only-of-type {\n",
       "        vertical-align: middle;\n",
       "    }\n",
       "\n",
       "    .dataframe tbody tr th {\n",
       "        vertical-align: top;\n",
       "    }\n",
       "\n",
       "    .dataframe thead th {\n",
       "        text-align: right;\n",
       "    }\n",
       "</style>\n",
       "<table border=\"1\" class=\"dataframe\">\n",
       "  <thead>\n",
       "    <tr style=\"text-align: right;\">\n",
       "      <th></th>\n",
       "      <th>Converted</th>\n",
       "      <th>Conversion_Prob</th>\n",
       "    </tr>\n",
       "  </thead>\n",
       "  <tbody>\n",
       "    <tr>\n",
       "      <th>0</th>\n",
       "      <td>0</td>\n",
       "      <td>0.042874</td>\n",
       "    </tr>\n",
       "    <tr>\n",
       "      <th>1</th>\n",
       "      <td>1</td>\n",
       "      <td>0.971406</td>\n",
       "    </tr>\n",
       "    <tr>\n",
       "      <th>2</th>\n",
       "      <td>0</td>\n",
       "      <td>0.033713</td>\n",
       "    </tr>\n",
       "    <tr>\n",
       "      <th>3</th>\n",
       "      <td>1</td>\n",
       "      <td>0.810140</td>\n",
       "    </tr>\n",
       "    <tr>\n",
       "      <th>4</th>\n",
       "      <td>0</td>\n",
       "      <td>0.050428</td>\n",
       "    </tr>\n",
       "  </tbody>\n",
       "</table>\n",
       "</div>"
      ],
      "text/plain": [
       "   Converted  Conversion_Prob\n",
       "0          0         0.042874\n",
       "1          1         0.971406\n",
       "2          0         0.033713\n",
       "3          1         0.810140\n",
       "4          0         0.050428"
      ]
     },
     "execution_count": 117,
     "metadata": {},
     "output_type": "execute_result"
    }
   ],
   "source": [
    "# Let's see the head of y_pred_final\n",
    "y_pred_final.head()"
   ]
  },
  {
   "cell_type": "code",
   "execution_count": 118,
   "id": "3f3c9505",
   "metadata": {},
   "outputs": [],
   "source": [
    "# Make predictions on the test set using 0.38 as the cutoff based on the Train dataset\n",
    "y_pred_final['final_predicted'] = y_pred_final.Conversion_Prob.map(lambda x: 1 if x > 0.38 else 0)"
   ]
  },
  {
   "cell_type": "code",
   "execution_count": 119,
   "id": "dc92dc8b",
   "metadata": {},
   "outputs": [
    {
     "data": {
      "text/html": [
       "<div>\n",
       "<style scoped>\n",
       "    .dataframe tbody tr th:only-of-type {\n",
       "        vertical-align: middle;\n",
       "    }\n",
       "\n",
       "    .dataframe tbody tr th {\n",
       "        vertical-align: top;\n",
       "    }\n",
       "\n",
       "    .dataframe thead th {\n",
       "        text-align: right;\n",
       "    }\n",
       "</style>\n",
       "<table border=\"1\" class=\"dataframe\">\n",
       "  <thead>\n",
       "    <tr style=\"text-align: right;\">\n",
       "      <th></th>\n",
       "      <th>Converted</th>\n",
       "      <th>Conversion_Prob</th>\n",
       "      <th>final_predicted</th>\n",
       "    </tr>\n",
       "  </thead>\n",
       "  <tbody>\n",
       "    <tr>\n",
       "      <th>0</th>\n",
       "      <td>0</td>\n",
       "      <td>0.042874</td>\n",
       "      <td>0</td>\n",
       "    </tr>\n",
       "    <tr>\n",
       "      <th>1</th>\n",
       "      <td>1</td>\n",
       "      <td>0.971406</td>\n",
       "      <td>1</td>\n",
       "    </tr>\n",
       "    <tr>\n",
       "      <th>2</th>\n",
       "      <td>0</td>\n",
       "      <td>0.033713</td>\n",
       "      <td>0</td>\n",
       "    </tr>\n",
       "    <tr>\n",
       "      <th>3</th>\n",
       "      <td>1</td>\n",
       "      <td>0.810140</td>\n",
       "      <td>1</td>\n",
       "    </tr>\n",
       "    <tr>\n",
       "      <th>4</th>\n",
       "      <td>0</td>\n",
       "      <td>0.050428</td>\n",
       "      <td>0</td>\n",
       "    </tr>\n",
       "  </tbody>\n",
       "</table>\n",
       "</div>"
      ],
      "text/plain": [
       "   Converted  Conversion_Prob  final_predicted\n",
       "0          0         0.042874                0\n",
       "1          1         0.971406                1\n",
       "2          0         0.033713                0\n",
       "3          1         0.810140                1\n",
       "4          0         0.050428                0"
      ]
     },
     "execution_count": 119,
     "metadata": {},
     "output_type": "execute_result"
    }
   ],
   "source": [
    "# Check y_pred_final\n",
    "y_pred_final.head()"
   ]
  },
  {
   "cell_type": "code",
   "execution_count": 120,
   "id": "6c21c866",
   "metadata": {},
   "outputs": [
    {
     "data": {
      "text/plain": [
       "0.81"
      ]
     },
     "execution_count": 120,
     "metadata": {},
     "output_type": "execute_result"
    }
   ],
   "source": [
    "# Let's check the overall accuracy\n",
    "metrics.accuracy_score(y_pred_final['Converted'], y_pred_final.final_predicted).round(2)"
   ]
  },
  {
   "cell_type": "code",
   "execution_count": 121,
   "id": "6bf867a5",
   "metadata": {},
   "outputs": [
    {
     "data": {
      "text/plain": [
       "array([[1449,  285],\n",
       "       [ 229,  760]], dtype=int64)"
      ]
     },
     "execution_count": 121,
     "metadata": {},
     "output_type": "execute_result"
    }
   ],
   "source": [
    "confusion2 = metrics.confusion_matrix(y_pred_final['Converted'], y_pred_final.final_predicted )\n",
    "confusion2"
   ]
  },
  {
   "cell_type": "code",
   "execution_count": 122,
   "id": "cd9ea52a",
   "metadata": {},
   "outputs": [],
   "source": [
    "TP = confusion2[1,1] # true positive \n",
    "TN = confusion2[0,0] # true negatives\n",
    "FP = confusion2[0,1] # false positives\n",
    "FN = confusion2[1,0] # false negatives"
   ]
  },
  {
   "cell_type": "code",
   "execution_count": 123,
   "id": "ff381737",
   "metadata": {},
   "outputs": [
    {
     "data": {
      "text/plain": [
       "0.77"
      ]
     },
     "execution_count": 123,
     "metadata": {},
     "output_type": "execute_result"
    }
   ],
   "source": [
    "# Calculate sensitivity\n",
    "round(TP / float(TP+FN),2)"
   ]
  },
  {
   "cell_type": "code",
   "execution_count": 124,
   "id": "ba767795",
   "metadata": {},
   "outputs": [
    {
     "data": {
      "text/plain": [
       "0.84"
      ]
     },
     "execution_count": 124,
     "metadata": {},
     "output_type": "execute_result"
    }
   ],
   "source": [
    "# Calculate specificity\n",
    "round(TN / float(TN+FP),2)"
   ]
  },
  {
   "cell_type": "markdown",
   "id": "2007e689",
   "metadata": {},
   "source": [
    "# Business Outcome (Based On Model-3)\n",
    "\n",
    "#### Final Observation:\n",
    "Let us compare the values obtained for Train & Test: <br>\n",
    "\n",
    "Train Data: <br>\n",
    "Accuracy : 81% <br>\n",
    "Sensitivity : 78% <br>\n",
    "Specificity : 83% <br>\n",
    "\n",
    "Test Data: <br>\n",
    "Accuracy : 81% <br>\n",
    "Sensitivity : 77% <br>\n",
    "Specificity : 84% <br>\n",
    "\n",
    "#### Conclusion:\n",
    "Below are the variables directly impacting the potential leads that converts to paying customers:\n",
    "1. 'TotalVisits' and 'Total Time Spent on Website' contribute most towards the probability of a lead getting converted.\n",
    "2. 'Lead Origin' :- Leads whose origin is 'Lead Add Form' has higher possibility to convert into paying customers.\n",
    "3. 'Lead Source' :- Leads whose source is either 'Olark Chat' or 'Welingak Website' tend to have higher chances of converting into paying customers.\n",
    "4. 'What is your current Occupation' :- Leads who havn't mentioned their current occupation are less likely to get converted into paying customers. On the other hand, leads who are working professionals have higher probability of converting into paying customers.\n",
    "\n",
    "From the above points it is evident that 'X Education' should focus more on leads who spend more time on the website\n",
    "and visits the website quite often. Also the leads whose origin is 'Lead Add Form', Lead source is either 'Olark Chat' or 'Welingak Website' and they are working professionals."
   ]
  },
  {
   "cell_type": "markdown",
   "id": "2f2401a8",
   "metadata": {},
   "source": [
    "\n"
   ]
  },
  {
   "cell_type": "code",
   "execution_count": null,
   "id": "0005c4db",
   "metadata": {},
   "outputs": [],
   "source": []
  }
 ],
 "metadata": {
  "kernelspec": {
   "display_name": "Python 3",
   "language": "python",
   "name": "python3"
  },
  "language_info": {
   "codemirror_mode": {
    "name": "ipython",
    "version": 3
   },
   "file_extension": ".py",
   "mimetype": "text/x-python",
   "name": "python",
   "nbconvert_exporter": "python",
   "pygments_lexer": "ipython3",
   "version": "3.8.8"
  }
 },
 "nbformat": 4,
 "nbformat_minor": 5
}
